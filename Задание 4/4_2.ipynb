{
 "cells": [
  {
   "cell_type": "code",
   "execution_count": 15,
   "metadata": {},
   "outputs": [
    {
     "name": "stdout",
     "output_type": "stream",
     "text": [
      "-73\n"
     ]
    }
   ],
   "source": [
    "\n",
    "def main():\n",
    "  chislo =float(input())\n",
    "  i=abs(chislo)\n",
    "  rez=0\n",
    "  while i>0:\n",
    "    a = i % 10  # находим остаток - последнюю цифру  \n",
    "    i = i // 10   # делим нацело - удаляем последнюю цифру \n",
    "    rez = rez * 10    # увеличиваем разрядность второго числа\n",
    "    rez = rez + a # добавляем очередную цифру\n",
    "  if chislo<0:\n",
    "    rez=rez*(-1)\n",
    "\n",
    "  if -2**7<=rez<=2**7:\n",
    "    print(int(rez))\n",
    "  else:\n",
    "    print(\"no solution\")\n",
    "if __name__ == '__main__':\n",
    "    main()\n",
    "\n",
    "  "
   ]
  }
 ],
 "metadata": {
  "kernelspec": {
   "display_name": "Python 3.9.12 ('base')",
   "language": "python",
   "name": "python3"
  },
  "language_info": {
   "codemirror_mode": {
    "name": "ipython",
    "version": 3
   },
   "file_extension": ".py",
   "mimetype": "text/x-python",
   "name": "python",
   "nbconvert_exporter": "python",
   "pygments_lexer": "ipython3",
   "version": "3.9.12"
  },
  "orig_nbformat": 4,
  "vscode": {
   "interpreter": {
    "hash": "c42d99d755d00efaf066b964ceed011a4027ae5af520c8ef8190b9acee3a6094"
   }
  }
 },
 "nbformat": 4,
 "nbformat_minor": 2
}

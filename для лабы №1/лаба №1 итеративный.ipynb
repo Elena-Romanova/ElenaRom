{
 "cells": [
  {
   "cell_type": "code",
   "execution_count": null,
   "metadata": {},
   "outputs": [],
   "source": [
    "def check(chisla):\n",
    "        chisla=[int(x) for x in chisla]\n",
    "        n=chisla.pop(0)\n",
    "        treb_znach=chisla.pop(-1)\n",
    "        rez=\" \"\n",
    "\n",
    "        #составим массив вариаций знаков так, что 1 = +, а 0 = -\n",
    "        var_znakov=[]\n",
    "        for i in range (2**((len(chisla)-1))): \n",
    "            del0 = bin(i)[2:]\n",
    "            while  len(del0) < (len(chisla)-1): #чтобы длина последовательности была правильной\n",
    "                del0 = '0' + del0\n",
    "            var_znakov.append (del0)\n",
    "\n",
    "\n",
    "        for i in range (len(var_znakov)):\n",
    "            prom_rez = str(chisla[0])\n",
    "            d = var_znakov[i]\n",
    "            l = 0\n",
    "            schetchik = chisla[0]\n",
    "            for j in range (len(d)):\n",
    "                if d[j] == \"0\":\n",
    "                    prom_rez=prom_rez + \"-\" + str(chisla[l+1])\n",
    "                    schetchik = schetchik - chisla[l+1]\n",
    "                else:\n",
    "                    prom_rez=prom_rez + \"+\" + str(chisla[l+1])\n",
    "                    schetchik = schetchik + chisla[l+1]\n",
    "\n",
    "                l+=1\n",
    "            if schetchik == treb_znach:\n",
    "                rez = prom_rez\n",
    "                return rez\n",
    "            else:\n",
    "                rez=\" \"\n",
    "                \n",
    "def main():\n",
    "\n",
    "    t= open(\"text.txt\", \"r+\")\n",
    "    chisla=t.readline().split()\n",
    "\n",
    "    \n",
    "\n",
    "    rez = check(chisla)\n",
    "\n",
    "    if rez == ' ':\n",
    "        t.write('\\n No solution')\n",
    "    else:\n",
    "        t.write('\\n'+ rez)\n",
    "    print(rez)\n",
    "\n",
    "if __name__==\"__main__\":\n",
    "    main()"
   ]
  }
 ],
 "metadata": {
  "kernelspec": {
   "display_name": "base",
   "language": "python",
   "name": "python3"
  },
  "language_info": {
   "name": "python",
   "version": "3.9.12 (main, Apr  4 2022, 05:22:27) [MSC v.1916 64 bit (AMD64)]"
  },
  "orig_nbformat": 4,
  "vscode": {
   "interpreter": {
    "hash": "c42d99d755d00efaf066b964ceed011a4027ae5af520c8ef8190b9acee3a6094"
   }
  }
 },
 "nbformat": 4,
 "nbformat_minor": 2
}

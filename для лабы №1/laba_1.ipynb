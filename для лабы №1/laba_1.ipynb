{
 "cells": [
  {
   "cell_type": "code",
   "execution_count": 1,
   "metadata": {},
   "outputs": [],
   "source": [
    "# Рекурсивная функция\n",
    "def check(chisla: list, schetchik: int, prom_rez: str, treb_znach: int, pervoe_chislo: str)  -> str:\n",
    "    # если список чисел пустой, возвращаем результат, если было досигнуто требуемое значение,\\\n",
    "    #  иначе возвращаемся в рекурсии на шаг назад/говорим об отсутствии решения\n",
    "    if len(chisla)==0:              \n",
    "        if schetchik==treb_znach:\n",
    "            return  prom_rez\n",
    "        else:\n",
    "            return False\n",
    "\n",
    "    return (check(chisla[1:], schetchik + chisla[0],prom_rez + '+' + str(chisla[0]),treb_znach,pervoe_chislo) \\\n",
    "            or check(chisla[1:], schetchik - chisla[0],prom_rez + '-' + str(chisla[0]),treb_znach,pervoe_chislo))\n",
    "             \n",
    "def main():\n",
    "\n",
    "    t= open(\"text.txt\", \"r+\")\n",
    "    chisla=t.readline().split()\n",
    "\n",
    "    #производим подготовительную работу, выделяя нужные значение и объявляем используемые в коде переменные\n",
    "    chisla=[int(x) for x in chisla]\n",
    "    n=chisla.pop(0)   #выделяем в переменную n количество чисел\n",
    "    treb_znach=chisla.pop(-1) #сохраняем требуемое значение\n",
    "    schetchik=0 #для подсчёта получаемой суммы и разности чисел\n",
    "    prom_rez=\"\" # для сохранения строки действий с числами\n",
    "    rez = \" \"\n",
    "\n",
    "\n",
    "    pervoe_chislo = chisla[0]\n",
    "    schetchik=chisla[0]\n",
    "    rez = check(chisla[1:], schetchik, prom_rez, treb_znach, pervoe_chislo)\n",
    "    \n",
    "    if rez == False:\n",
    "        t.write('\\n No solution')\n",
    "    else:\n",
    "        posled = str(pervoe_chislo) + rez + '=' + str(treb_znach)\n",
    "        t.write('\\n'+ (posled))\n",
    "\n",
    "\n",
    "if __name__==\"__main__\":\n",
    "    main()"
   ]
  }
 ],
 "metadata": {
  "kernelspec": {
   "display_name": "base",
   "language": "python",
   "name": "python3"
  },
  "language_info": {
   "codemirror_mode": {
    "name": "ipython",
    "version": 3
   },
   "file_extension": ".py",
   "mimetype": "text/x-python",
   "name": "python",
   "nbconvert_exporter": "python",
   "pygments_lexer": "ipython3",
   "version": "3.9.12"
  },
  "orig_nbformat": 4,
  "vscode": {
   "interpreter": {
    "hash": "c42d99d755d00efaf066b964ceed011a4027ae5af520c8ef8190b9acee3a6094"
   }
  }
 },
 "nbformat": 4,
 "nbformat_minor": 2
}

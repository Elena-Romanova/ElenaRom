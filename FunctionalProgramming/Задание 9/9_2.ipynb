{
 "cells": [
  {
   "cell_type": "code",
   "execution_count": 1,
   "metadata": {},
   "outputs": [
    {
     "name": "stdout",
     "output_type": "stream",
     "text": [
      "2004\n"
     ]
    }
   ],
   "source": [
    "def check(num):\n",
    "    roman_arab= { 'I': 1, 'V':5, 'X': 10, 'L':50, 'C':100, 'D':500, 'M':1000}\n",
    "\n",
    "    if 15<=len(num)<=1:\n",
    "        print('No solution')\n",
    "\n",
    "    for j in num:\n",
    "            if j not in roman_arab:\n",
    "                print('No solution')\n",
    "\n",
    "    res=0\n",
    "    i=0\n",
    "    while i<= len(num)-1:\n",
    "        if i == len(num)-1:\n",
    "            result+=roman_arab.get(num[i])\n",
    "            i+=1\n",
    "\n",
    "    \n",
    "        elif roman_arab.get(num[i]) >= roman_arab.get(num[i+1]):\n",
    "            res+=roman_arab.get(num[i])\n",
    "            i+=1\n",
    "\n",
    "        else:\n",
    "            res+=roman_arab.get(num[i+1]) - roman_arab.get(num[i])\n",
    "            i+=2\n",
    "\n",
    "    return print(res)\n",
    "\n",
    "\n",
    "if __name__==\"__main__\":\n",
    "    num=input()\n",
    "    check(num)"
   ]
  }
 ],
 "metadata": {
  "kernelspec": {
   "display_name": "base",
   "language": "python",
   "name": "python3"
  },
  "language_info": {
   "codemirror_mode": {
    "name": "ipython",
    "version": 3
   },
   "file_extension": ".py",
   "mimetype": "text/x-python",
   "name": "python",
   "nbconvert_exporter": "python",
   "pygments_lexer": "ipython3",
   "version": "3.9.12"
  },
  "orig_nbformat": 4,
  "vscode": {
   "interpreter": {
    "hash": "c42d99d755d00efaf066b964ceed011a4027ae5af520c8ef8190b9acee3a6094"
   }
  }
 },
 "nbformat": 4,
 "nbformat_minor": 2
}

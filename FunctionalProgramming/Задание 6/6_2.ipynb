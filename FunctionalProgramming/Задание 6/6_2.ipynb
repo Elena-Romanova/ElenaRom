{
 "cells": [
  {
   "cell_type": "code",
   "execution_count": 11,
   "metadata": {},
   "outputs": [
    {
     "name": "stdout",
     "output_type": "stream",
     "text": [
      "[[1, 1, 1]]\n"
     ]
    }
   ],
   "source": [
    "def main():\n",
    "    from itertools import permutations\n",
    "    s = input('введите числа через пробел').split()\n",
    "    s = [int(s[i]) for i in range(len(s))]\n",
    "    s_len = len(s)\n",
    "    s = list(permutations(s, s_len))\n",
    "    s = [list(s[i]) for i in range(len(s))]\n",
    "    rez = []\n",
    "    for i in s:\n",
    "        if i not in rez:\n",
    "            rez.append(i)\n",
    "    print(rez)\n",
    "if __name__ == '__main__':\n",
    "    main()"
   ]
  }
 ],
 "metadata": {
  "kernelspec": {
   "display_name": "base",
   "language": "python",
   "name": "python3"
  },
  "language_info": {
   "codemirror_mode": {
    "name": "ipython",
    "version": 3
   },
   "file_extension": ".py",
   "mimetype": "text/x-python",
   "name": "python",
   "nbconvert_exporter": "python",
   "pygments_lexer": "ipython3",
   "version": "3.9.12"
  },
  "orig_nbformat": 4,
  "vscode": {
   "interpreter": {
    "hash": "c42d99d755d00efaf066b964ceed011a4027ae5af520c8ef8190b9acee3a6094"
   }
  }
 },
 "nbformat": 4,
 "nbformat_minor": 2
}

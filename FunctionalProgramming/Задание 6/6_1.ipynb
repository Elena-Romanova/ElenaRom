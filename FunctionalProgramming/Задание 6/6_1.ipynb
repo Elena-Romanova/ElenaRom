{
 "cells": [
  {
   "cell_type": "code",
   "execution_count": 4,
   "metadata": {},
   "outputs": [
    {
     "name": "stdout",
     "output_type": "stream",
     "text": [
      "(1, 2, 4, -5)\n",
      "2\n"
     ]
    }
   ],
   "source": [
    "def main():\n",
    "     from itertools import combinations\n",
    "     N = int(input()) \n",
    "     s = [int(input()) for _ in range(N)]\n",
    "     С = int(input())\n",
    "     s_comb = list(combinations(s, 4))\n",
    "     \n",
    "     res = s_comb[0]\n",
    "     min_razn= abs(sum(s_comb[0]) - С)\n",
    "     for i in s_comb:\n",
    "         if abs(sum(i) - С) < min_razn:\n",
    "             res=list(i)\n",
    "             min_razn= abs(sum(i) - С)\n",
    "\n",
    "     print(res) \n",
    "     print (sum(res))\n",
    "if __name__ == '__main__':\n",
    "    main()"
   ]
  }
 ],
 "metadata": {
  "kernelspec": {
   "display_name": "base",
   "language": "python",
   "name": "python3"
  },
  "language_info": {
   "codemirror_mode": {
    "name": "ipython",
    "version": 3
   },
   "file_extension": ".py",
   "mimetype": "text/x-python",
   "name": "python",
   "nbconvert_exporter": "python",
   "pygments_lexer": "ipython3",
   "version": "3.9.12"
  },
  "orig_nbformat": 4,
  "vscode": {
   "interpreter": {
    "hash": "c42d99d755d00efaf066b964ceed011a4027ae5af520c8ef8190b9acee3a6094"
   }
  }
 },
 "nbformat": 4,
 "nbformat_minor": 2
}

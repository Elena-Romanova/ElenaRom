{
 "cells": [
  {
   "cell_type": "code",
   "execution_count": 1,
   "metadata": {},
   "outputs": [
    {
     "name": "stdout",
     "output_type": "stream",
     "text": [
      "64\n",
      "[('1', 0, 11), ('3', 2, 53)]\n"
     ]
    }
   ],
   "source": [
    "n=int(input())\n",
    "name_bank=list(input(\"Enter the names of banks\\n\").split(','))\n",
    "money=list(map(int,input().split(',')))\n",
    "\n",
    "if ((money[0]+money[2])>money[1]):\n",
    "    money[1]==0\n",
    "    for i in range (1,n-1):\n",
    "        if money[i]>(money[i+1]+money[i-1]):\n",
    "            money[i-1]=0\n",
    "            money[i+1]=0\n",
    "        else:\n",
    "            money[i]=0\n",
    "else:\n",
    "    money[0]=0\n",
    "    money[2]=0\n",
    "    for i in range(3,n-1):\n",
    "        if money[i]>(money[i+1]+money[i-1]):\n",
    "            money[i-1]=0\n",
    "            money[i+1]=0\n",
    "\n",
    "a=[]\n",
    "print(sum(money))\n",
    "for i in range(n):\n",
    "    if money[i]!=0:\n",
    "        a.append(tuple([name_bank[i],i,money[i]]))\n",
    "print(a)"
   ]
  }
 ],
 "metadata": {
  "kernelspec": {
   "display_name": "Python 3.9.12 ('base')",
   "language": "python",
   "name": "python3"
  },
  "language_info": {
   "codemirror_mode": {
    "name": "ipython",
    "version": 3
   },
   "file_extension": ".py",
   "mimetype": "text/x-python",
   "name": "python",
   "nbconvert_exporter": "python",
   "pygments_lexer": "ipython3",
   "version": "3.9.12"
  },
  "orig_nbformat": 4,
  "vscode": {
   "interpreter": {
    "hash": "c42d99d755d00efaf066b964ceed011a4027ae5af520c8ef8190b9acee3a6094"
   }
  }
 },
 "nbformat": 4,
 "nbformat_minor": 2
}

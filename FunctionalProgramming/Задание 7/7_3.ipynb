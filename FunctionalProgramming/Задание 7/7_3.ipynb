{
 "cells": [
  {
   "cell_type": "code",
   "execution_count": 5,
   "metadata": {},
   "outputs": [
    {
     "name": "stdout",
     "output_type": "stream",
     "text": [
      "[1, 2, 3, 4, 5, 6, 7, 8, 9]\n"
     ]
    }
   ],
   "source": [
    "def main():\n",
    "    def spiral(matrix):\n",
    "        ans = []\n",
    "        if len(matrix) == 0:\n",
    "            return ans\n",
    "        left, right, top, bottom = 0, len(matrix[0]) - 1, 0, len(matrix) - 1\n",
    "        while (top <= bottom and left <= right):\n",
    "            for i in range(left,right+1):\n",
    "                ans.append(matrix[top][i])\n",
    "            top += 1\n",
    "            for i in range(top,bottom+1):\n",
    "                ans.append(matrix[i][right])\n",
    "            right -= 1\n",
    "            if (top <= bottom):\n",
    "                for i in range(right,left-1,-1):\n",
    "                    ans.append(matrix[bottom][i])\n",
    "                bottom -= 1\n",
    "            if (left <= right):\n",
    "                for i in range(bottom,top-1,-1):\n",
    "                    ans.append(matrix[i][left])\n",
    "                left += 1\n",
    "        return ans\n",
    "    rows, cols = int(input('кол-во строк')), int(input('кол-во столбцов'))\n",
    "    matrix = [[int(input()) for _ in range(cols)] for _ in range(rows)]\n",
    "    print(spiral(matrix))\n",
    "if __name__ == '__main__':\n",
    "    main()"
   ]
  }
 ],
 "metadata": {
  "kernelspec": {
   "display_name": "base",
   "language": "python",
   "name": "python3"
  },
  "language_info": {
   "codemirror_mode": {
    "name": "ipython",
    "version": 3
   },
   "file_extension": ".py",
   "mimetype": "text/x-python",
   "name": "python",
   "nbconvert_exporter": "python",
   "pygments_lexer": "ipython3",
   "version": "3.9.12"
  },
  "orig_nbformat": 4,
  "vscode": {
   "interpreter": {
    "hash": "c42d99d755d00efaf066b964ceed011a4027ae5af520c8ef8190b9acee3a6094"
   }
  }
 },
 "nbformat": 4,
 "nbformat_minor": 2
}

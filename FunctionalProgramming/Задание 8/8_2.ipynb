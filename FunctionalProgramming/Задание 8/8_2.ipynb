{
 "cells": [
  {
   "cell_type": "code",
   "execution_count": 1,
   "metadata": {},
   "outputs": [
    {
     "name": "stdout",
     "output_type": "stream",
     "text": [
      "[{'1'}, {'2'}, {'3'}, {'4'}, {'1', '2'}, {'1', '3'}, {'4', '1'}, {'2', '3'}, {'4', '2'}, {'4', '3'}, {'1', '2', '3'}, {'4', '1', '2'}, {'4', '1', '3'}, {'4', '2', '3'}, {'4', '1', '2', '3'}] 15\n"
     ]
    }
   ],
   "source": [
    "def main():\n",
    "    from itertools import permutations\n",
    "    def delete(l):\n",
    "        n = []\n",
    "        for i in l:\n",
    "            if i not in n:\n",
    "                n.append(i)\n",
    "        return n, len(n)\n",
    "    lst = [input() for i in range(int(input('кол-во элементов')))]\n",
    "    ans = []\n",
    "    for i in range(1, len(lst) + 1):\n",
    "        for elem in permutations(lst, i):\n",
    "            p = set(elem)\n",
    "            ans.append(p)\n",
    "    print(*(delete(ans)))\n",
    "if __name__ == '__main__':\n",
    "    main()"
   ]
  }
 ],
 "metadata": {
  "kernelspec": {
   "display_name": "base",
   "language": "python",
   "name": "python3"
  },
  "language_info": {
   "codemirror_mode": {
    "name": "ipython",
    "version": 3
   },
   "file_extension": ".py",
   "mimetype": "text/x-python",
   "name": "python",
   "nbconvert_exporter": "python",
   "pygments_lexer": "ipython3",
   "version": "3.9.12"
  },
  "orig_nbformat": 4,
  "vscode": {
   "interpreter": {
    "hash": "c42d99d755d00efaf066b964ceed011a4027ae5af520c8ef8190b9acee3a6094"
   }
  }
 },
 "nbformat": 4,
 "nbformat_minor": 2
}

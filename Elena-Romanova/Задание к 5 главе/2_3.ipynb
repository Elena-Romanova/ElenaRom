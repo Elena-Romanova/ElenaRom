{
 "cells": [
  {
   "cell_type": "code",
   "execution_count": 1,
   "metadata": {},
   "outputs": [],
   "source": [
    "def main():\n",
    "    def check(s):\n",
    "        brackets_open = ('(', '[', '{')\n",
    "        brackets_closed = (')', ']', '}')\n",
    "        stack = []\n",
    "        for i in s:\n",
    "            if i in brackets_open:\n",
    "                stack.append(i)\n",
    "            if i in brackets_closed:    \n",
    "                if len(stack) == 0:\n",
    "                    return False\n",
    "                else:\n",
    "                    index = brackets_closed.index(i)\n",
    "                    open_bracket = brackets_open[index]\n",
    "                    if stack[-1] == open_bracket:\n",
    "                        stack = stack[:-1]  \n",
    "                    else: \n",
    "                        return False  \n",
    "        return True\n",
    "        \n",
    "    s=input()\n",
    "    print (check(s))\n",
    "    #if check(s)=='True':\n",
    "    #   print(check(s))\n",
    "    #else:\n",
    "    #    if s.find('()')!=-1:\n",
    "    #        print(analiz(s,s.find('()')))\n",
    "    #    elif s.find('{}')!=-1:\n",
    "    #        print(analiz(s,s.find('{}')))\n",
    "    #    elif s.find('[]')!=-1:\n",
    "    #        print(analiz(s,s.find('[]')))\n",
    "    #    else:\n",
    "    #        print('False')\n",
    "\n",
    "if  __name__==\"__main__\":\n",
    "    main()"
   ]
  },
  {
   "cell_type": "code",
   "execution_count": 2,
   "metadata": {},
   "outputs": [
    {
     "name": "stdout",
     "output_type": "stream",
     "text": [
      "g\n"
     ]
    }
   ],
   "source": [
    "s=\"hguji\"\n",
    "print(s[1:2])"
   ]
  },
  {
   "cell_type": "code",
   "execution_count": null,
   "metadata": {},
   "outputs": [],
   "source": [
    "def analiz(stroka,i):\n",
    "    "
   ]
  },
  {
   "cell_type": "code",
   "execution_count": null,
   "metadata": {},
   "outputs": [],
   "source": [
    "# нахожу все вхождения элемента в списке\n",
    "def get_indices(lst, el):\n",
    "    list = []\n",
    "    for i in range(len(lst)):\n",
    "        if lst[i] == el:\n",
    "            list.append(i)\n",
    "    return list\n",
    "#................................"
   ]
  },
  {
   "cell_type": "code",
   "execution_count": null,
   "metadata": {},
   "outputs": [],
   "source": [
    "stroka = []\n",
    "count_(=0\n",
    "count_[=0\n",
    "count_{=0\n",
    "lenn=0\n",
    "brackets_open = ('(', '[', '{')\n",
    "brackets_closed = (')', ']', '}')\n",
    "for i in s:\n",
    "    if i in brackets_open:\n",
    "        stroka.append(i)\n",
    "        if i=='(':\n",
    "            count_(+=1\n",
    "        elif i=='[':\n",
    "            count_[+=1\n",
    "        else:\n",
    "            count_{+=1\n",
    "        lenn+=1\n",
    "    else:\n",
    "        if lenn==0:\n",
    "            stroka =[]\n",
    "        else:\n",
    "            index = brackets_closed.index(i)\n",
    "            open_bracket = brackets_open[index]\n",
    "            if stack[-1] == open_bracket:\n",
    "                stroka.append(i)\n",
    "\n",
    "\n",
    "\n",
    "\n",
    "\n",
    "\n"
   ]
  },
  {
   "cell_type": "code",
   "execution_count": null,
   "metadata": {},
   "outputs": [
    {
     "ename": "IndexError",
     "evalue": "list index out of range",
     "output_type": "error",
     "traceback": [
      "\u001b[1;31m---------------------------------------------------------------------------\u001b[0m",
      "\u001b[1;31mIndexError\u001b[0m                                Traceback (most recent call last)",
      "\u001b[1;32mc:\\Users\\ACER\\Desktop\\Новая папка\\Elena-Romanova\\Задание к 5 главе\\2_3.ipynb Ячейка 2\u001b[0m in \u001b[0;36m<cell line: 46>\u001b[1;34m()\u001b[0m\n\u001b[0;32m     <a href='vscode-notebook-cell:/c%3A/Users/ACER/Desktop/%D0%9D%D0%BE%D0%B2%D0%B0%D1%8F%20%D0%BF%D0%B0%D0%BF%D0%BA%D0%B0/Elena-Romanova/%D0%97%D0%B0%D0%B4%D0%B0%D0%BD%D0%B8%D0%B5%20%D0%BA%205%20%D0%B3%D0%BB%D0%B0%D0%B2%D0%B5/2_3.ipynb#W1sZmlsZQ%3D%3D?line=45'>46</a>\u001b[0m \u001b[39mif\u001b[39;00m \u001b[39m'\u001b[39m\u001b[39m()\u001b[39m\u001b[39m'\u001b[39m \u001b[39min\u001b[39;00m s:\n\u001b[0;32m     <a href='vscode-notebook-cell:/c%3A/Users/ACER/Desktop/%D0%9D%D0%BE%D0%B2%D0%B0%D1%8F%20%D0%BF%D0%B0%D0%BF%D0%BA%D0%B0/Elena-Romanova/%D0%97%D0%B0%D0%B4%D0%B0%D0%BD%D0%B8%D0%B5%20%D0%BA%205%20%D0%B3%D0%BB%D0%B0%D0%B2%D0%B5/2_3.ipynb#W1sZmlsZQ%3D%3D?line=46'>47</a>\u001b[0m     i\u001b[39m=\u001b[39ms\u001b[39m.\u001b[39mfind(\u001b[39m'\u001b[39m\u001b[39m()\u001b[39m\u001b[39m'\u001b[39m)\n\u001b[1;32m---> <a href='vscode-notebook-cell:/c%3A/Users/ACER/Desktop/%D0%9D%D0%BE%D0%B2%D0%B0%D1%8F%20%D0%BF%D0%B0%D0%BF%D0%BA%D0%B0/Elena-Romanova/%D0%97%D0%B0%D0%B4%D0%B0%D0%BD%D0%B8%D0%B5%20%D0%BA%205%20%D0%B3%D0%BB%D0%B0%D0%B2%D0%B5/2_3.ipynb#W1sZmlsZQ%3D%3D?line=47'>48</a>\u001b[0m     one \u001b[39m=\u001b[39m analiz(s)\n\u001b[0;32m     <a href='vscode-notebook-cell:/c%3A/Users/ACER/Desktop/%D0%9D%D0%BE%D0%B2%D0%B0%D1%8F%20%D0%BF%D0%B0%D0%BF%D0%BA%D0%B0/Elena-Romanova/%D0%97%D0%B0%D0%B4%D0%B0%D0%BD%D0%B8%D0%B5%20%D0%BA%205%20%D0%B3%D0%BB%D0%B0%D0%B2%D0%B5/2_3.ipynb#W1sZmlsZQ%3D%3D?line=48'>49</a>\u001b[0m \u001b[39melse\u001b[39;00m:\n\u001b[0;32m     <a href='vscode-notebook-cell:/c%3A/Users/ACER/Desktop/%D0%9D%D0%BE%D0%B2%D0%B0%D1%8F%20%D0%BF%D0%B0%D0%BF%D0%BA%D0%B0/Elena-Romanova/%D0%97%D0%B0%D0%B4%D0%B0%D0%BD%D0%B8%D0%B5%20%D0%BA%205%20%D0%B3%D0%BB%D0%B0%D0%B2%D0%B5/2_3.ipynb#W1sZmlsZQ%3D%3D?line=49'>50</a>\u001b[0m     one\u001b[39m=\u001b[39m[\u001b[39m0\u001b[39m,\u001b[39m0\u001b[39m]\n",
      "\u001b[1;32mc:\\Users\\ACER\\Desktop\\Новая папка\\Elena-Romanova\\Задание к 5 главе\\2_3.ipynb Ячейка 2\u001b[0m in \u001b[0;36manaliz\u001b[1;34m(s)\u001b[0m\n\u001b[0;32m     <a href='vscode-notebook-cell:/c%3A/Users/ACER/Desktop/%D0%9D%D0%BE%D0%B2%D0%B0%D1%8F%20%D0%BF%D0%B0%D0%BF%D0%BA%D0%B0/Elena-Romanova/%D0%97%D0%B0%D0%B4%D0%B0%D0%BD%D0%B8%D0%B5%20%D0%BA%205%20%D0%B3%D0%BB%D0%B0%D0%B2%D0%B5/2_3.ipynb#W1sZmlsZQ%3D%3D?line=35'>36</a>\u001b[0m                 maxilen\u001b[39m=\u001b[39m\u001b[39mlen\u001b[39m(rez2) \n\u001b[0;32m     <a href='vscode-notebook-cell:/c%3A/Users/ACER/Desktop/%D0%9D%D0%BE%D0%B2%D0%B0%D1%8F%20%D0%BF%D0%B0%D0%BF%D0%BA%D0%B0/Elena-Romanova/%D0%97%D0%B0%D0%B4%D0%B0%D0%BD%D0%B8%D0%B5%20%D0%BA%205%20%D0%B3%D0%BB%D0%B0%D0%B2%D0%B5/2_3.ipynb#W1sZmlsZQ%3D%3D?line=36'>37</a>\u001b[0m             \u001b[39mbreak\u001b[39;00m\n\u001b[1;32m---> <a href='vscode-notebook-cell:/c%3A/Users/ACER/Desktop/%D0%9D%D0%BE%D0%B2%D0%B0%D1%8F%20%D0%BF%D0%B0%D0%BF%D0%BA%D0%B0/Elena-Romanova/%D0%97%D0%B0%D0%B4%D0%B0%D0%BD%D0%B8%D0%B5%20%D0%BA%205%20%D0%B3%D0%BB%D0%B0%D0%B2%D0%B5/2_3.ipynb#W1sZmlsZQ%3D%3D?line=37'>38</a>\u001b[0m \u001b[39mif\u001b[39;00m rez1[\u001b[39m1\u001b[39;49m]\u001b[39m>\u001b[39m\u001b[39m=\u001b[39mrez2[\u001b[39m1\u001b[39m]:\n\u001b[0;32m     <a href='vscode-notebook-cell:/c%3A/Users/ACER/Desktop/%D0%9D%D0%BE%D0%B2%D0%B0%D1%8F%20%D0%BF%D0%B0%D0%BF%D0%BA%D0%B0/Elena-Romanova/%D0%97%D0%B0%D0%B4%D0%B0%D0%BD%D0%B8%D0%B5%20%D0%BA%205%20%D0%B3%D0%BB%D0%B0%D0%B2%D0%B5/2_3.ipynb#W1sZmlsZQ%3D%3D?line=38'>39</a>\u001b[0m     \u001b[39mreturn\u001b[39;00m rez1\n\u001b[0;32m     <a href='vscode-notebook-cell:/c%3A/Users/ACER/Desktop/%D0%9D%D0%BE%D0%B2%D0%B0%D1%8F%20%D0%BF%D0%B0%D0%BF%D0%BA%D0%B0/Elena-Romanova/%D0%97%D0%B0%D0%B4%D0%B0%D0%BD%D0%B8%D0%B5%20%D0%BA%205%20%D0%B3%D0%BB%D0%B0%D0%B2%D0%B5/2_3.ipynb#W1sZmlsZQ%3D%3D?line=39'>40</a>\u001b[0m \u001b[39melse\u001b[39;00m:\n",
      "\u001b[1;31mIndexError\u001b[0m: list index out of range"
     ]
    }
   ],
   "source": [
    "# недоделанная часть про подстроки\n",
    "def analiz(s): \n",
    "    rez1=[]\n",
    "    rez2=[]\n",
    "    a=i\n",
    "    b=i+1\n",
    "    d=i\n",
    "    c=i+1\n",
    "    maxilen=0\n",
    "    while True:\n",
    "        a=a-1\n",
    "        b=b+1\n",
    "        xlam=0\n",
    "        if (s[a]=='[' and s[b]==']') or (s[a]=='(' and s[b]==')') or (s[a]=='{' and s[b]=='}'): # находит самую длинную подстроку в случае s=\"((((({[()]}}\" (скобки в скобках)\n",
    "            xlam=0\n",
    "        else:\n",
    "            promegrez= s[a+1:b]\n",
    "            if len(promegrez)==0:\n",
    "                rez1=[0,0]\n",
    "                break\n",
    "            if len(promegrez)>maxilen:\n",
    "                rez1=[promegrez,len(promegrez)]\n",
    "                maxilen=len(rez1) \n",
    "\n",
    "            break\n",
    "        c=c+2\n",
    "        if c<(len(s)-1):\n",
    "            if (s[c]=='[' and s[c+1]==']') or (s[c]=='(' and s[c+1]==')') or (s[c]=='{' and s[c+1]=='}'):# находит самую длинную подстроку в случае s=\"()()())\"\n",
    "                xlam=0\n",
    "            else:\n",
    "                promegrez= s[d:c+2]\n",
    "                if len(promegrez)==0:\n",
    "                    rez2=[0,0]\n",
    "                    break\n",
    "                if len(promegrez)>maxilen:\n",
    "                    rez2=[promegrez,len(promegrez)]\n",
    "                    maxilen=len(rez2) \n",
    "                break\n",
    "    if rez1[1]>=rez2[1]:\n",
    "        return rez1\n",
    "    else:\n",
    "        return rez2\n",
    "\n",
    "    \n",
    "\n",
    "s=\"((((({[()]}}[({})]\"\n",
    "if '()' in s:\n",
    "    i=s.find('()')\n",
    "    one = analiz(s)\n",
    "else:\n",
    "    one=[0,0]\n",
    "if '[]' in s:\n",
    "    i=s.find('[]')\n",
    "    two = analiz(s)\n",
    "else:\n",
    "    two=[0,0]\n",
    "if '{}' in s:\n",
    "    i=s.find('{}')\n",
    "    three = analiz(s)\n",
    "else:\n",
    "    three=[0,0]\n",
    "if one[1]>two[1] and one[1]>three[1]:\n",
    "    print (one[0])\n",
    "elif two[1]>one[1] and two[1]<three[1]:\n",
    "    print (two[0])\n",
    "elif three[1]>one[1] and three[1]<two[1]:\n",
    "    print (three[0])\n",
    "\n",
    "\n",
    "        "
   ]
  }
 ],
 "metadata": {
  "kernelspec": {
   "display_name": "Python 3.9.12 ('base')",
   "language": "python",
   "name": "python3"
  },
  "language_info": {
   "codemirror_mode": {
    "name": "ipython",
    "version": 3
   },
   "file_extension": ".py",
   "mimetype": "text/x-python",
   "name": "python",
   "nbconvert_exporter": "python",
   "pygments_lexer": "ipython3",
   "version": "3.9.12"
  },
  "orig_nbformat": 4,
  "vscode": {
   "interpreter": {
    "hash": "c42d99d755d00efaf066b964ceed011a4027ae5af520c8ef8190b9acee3a6094"
   }
  }
 },
 "nbformat": 4,
 "nbformat_minor": 2
}

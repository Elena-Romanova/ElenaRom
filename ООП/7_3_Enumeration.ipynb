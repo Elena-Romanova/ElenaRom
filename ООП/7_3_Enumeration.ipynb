{
 "cells": [
  {
   "attachments": {},
   "cell_type": "markdown",
   "metadata": {},
   "source": [
    "Некоторые языки программирования, такие как Java и C++, включают синтаксис, поддерживающий тип данных, известный как перечисления (enumerations), или просто enums. Этот тип данных позволяет создавать наборы семантически связанных констант, доступ к которым можно получить через само перечисление. В Python нет специального синтаксиса для перечислений. Однако в стандартной библиотеке Python есть модуль enum, который поддерживает перечисления через класс Enum."
   ]
  },
  {
   "attachments": {},
   "cell_type": "markdown",
   "metadata": {},
   "source": [
    "# Перечисления в Python"
   ]
  },
  {
   "attachments": {},
   "cell_type": "markdown",
   "metadata": {},
   "source": [
    "В Python нет типа данных enum как части его синтаксиса. К счастью, Python 3.4 добавил enum модуль в стандартную библиотеку. Этот модуль предоставляет Enum класс для поддержки перечислений в Python.\n",
    "\n",
    "По определению, перечисление (enumeration) - это набор элементов, которые имеют связанные с ними уникальные постоянные значения. Они обычно используются для представления ограниченного набора значений, например, дней недели или видов домашних животных, основные цвета RGB, коды состояния HTTP. Модуль enum в Python обеспечивает встроенную поддержку для создания перечислений. \n",
    "\n",
    "Перечисления часто называют enum.\n",
    "\n",
    "\n",
    "Перечисления полезны, поскольку они предоставляют более полезный метод ```__repr__()```, группировку, безопасность типов и другие дополнительные возможности, недоступные при использовании обычных констант или словарей Python."
   ]
  },
  {
   "attachments": {},
   "cell_type": "markdown",
   "metadata": {},
   "source": [
    "До появления этого дополнения к стандартной библиотеке вы могли создать нечто похожее на перечисление, определив последовательность похожих или связанных констант. Для этого разработчики Python часто использовали следующую конструкцию:"
   ]
  },
  {
   "cell_type": "code",
   "execution_count": 72,
   "metadata": {},
   "outputs": [
    {
     "data": {
      "text/plain": [
       "1"
      ]
     },
     "execution_count": 72,
     "metadata": {},
     "output_type": "execute_result"
    }
   ],
   "source": [
    ">>> RED, GREEN, YELLOW = range(3)\n",
    "\n",
    ">>> RED\n",
    "0\n",
    "\n",
    ">>> GREEN\n",
    "1"
   ]
  },
  {
   "attachments": {},
   "cell_type": "markdown",
   "metadata": {},
   "source": [
    "Хотя это работает, но не очень хорошо масштабируется, когда вы пытаетесь сгруппировать большое количество связанных констант. Еще одно неудобство заключается в том, что первая константа будет иметь значение 0, что в Python является ложным. Это может быть проблемой в некоторых ситуациях, особенно в тех, которые связаны с булевыми тестами."
   ]
  },
  {
   "attachments": {},
   "cell_type": "markdown",
   "metadata": {},
   "source": [
    "В большинстве случаев перечисления помогут вам избежать вышеописанный недостаток. Они также помогут вам создать более организованный, читабельный и надежный код. Перечисления имеют ряд преимуществ, некоторые из которых связаны с простотой кодирования:\n",
    "\n",
    "* Позволяют удобно **группировать связанные константы** в неком пространстве имен\n",
    "* Возможность **дополнительного поведения** с помощью пользовательских методов, которые работают либо с элементами перечисления, либо с самим перечислением\n",
    "* Обеспечение быстрого и гибкого **доступа** к элементам перечисления\n",
    "* Обеспечение **прямой итерации** над элементами, включая их имена и значения\n",
    "* Облегчение **завершения кода** в IDE\n",
    "* Обеспечение **проверки типов и ошибок**\n",
    "* Предоставление хаба имен с **возможностью поиска** имен"
   ]
  },
  {
   "attachments": {},
   "cell_type": "markdown",
   "metadata": {},
   "source": [
    "Они также делают ваш код надежным, обеспечивая следующие преимущества:\n",
    "\n",
    "* Обеспечение постоянных значений, которые не могут быть изменены во время выполнения кода\n",
    "* Гарантируют безопасность типов, различая одно и то же значение, используемое в нескольких перечислениях\n",
    "* Улучшение читабельности и сопровождаемости за счет использования описательных имен вместо загадочных значений или магических чисел\n",
    "* Облегчение отладки за счет использования читаемых имен вместо значений без явного смысла"
   ]
  },
  {
   "attachments": {},
   "cell_type": "markdown",
   "metadata": {},
   "source": [
    "Для создания собственных перечислений вы можете либо создать подкласс Enum, либо использовать его функциональный API. Оба варианта позволят вам определить набор связанных констант в качестве членов перечисления.\n",
    "\n",
    "Python предоставляет вам модуль ```enum```, который содержит тип ```Enum``` для определения новых перечислений. Вы определяете новый тип перечисления, создавая подкласс класса ```Enum```.\n",
    "\n",
    "В следующем примере показано, как создать перечисление под названием ```Color``` используя наследование:"
   ]
  },
  {
   "cell_type": "code",
   "execution_count": 67,
   "metadata": {},
   "outputs": [],
   "source": [
    "from enum import Enum\n",
    "\n",
    "\n",
    "class Color(Enum):\n",
    "    RED = 1\n",
    "    GREEN = 2\n",
    "    BLUE = 3"
   ]
  },
  {
   "attachments": {},
   "cell_type": "markdown",
   "metadata": {},
   "source": [
    "Как это работает.\n",
    "\n",
    "Сначала импортируйте тип Enum из модуля enum.\n",
    "\n",
    "Во-вторых, определите класс Color, который наследуется от типа Enum.\n",
    "\n",
    "В-третьих, определите элементы(members) перечисления Color."
   ]
  },
  {
   "attachments": {},
   "cell_type": "markdown",
   "metadata": {},
   "source": [
    "Обратите внимание, что элементы перечисления являются константами. Поэтому их имена по традиции пишутся заглавными буквами. \n",
    "\n",
    "Поскольку перечисления используются для представления констант, мы рекомендуем использовать имена в верхнем регистре для элементов\n",
    "\n",
    "В этом примере ```Color``` является перечислением. ```RED```, ```GREEN``` и ```BLUE``` являются элементами перечисления ```Color```. Они имеют ассоциированные значения 1, 2 и 3.\n",
    "\n",
    "Типом элемента является перечисление, к которому он принадлежит.\n",
    "\n",
    "Ниже показано, что типом ```Color.RED``` является перечисление ```Color```:"
   ]
  },
  {
   "cell_type": "code",
   "execution_count": 2,
   "metadata": {},
   "outputs": [
    {
     "name": "stdout",
     "output_type": "stream",
     "text": [
      "<enum 'Color'>\n"
     ]
    }
   ],
   "source": [
    "print(type(Color.RED)) # Элементы перечисления Python являются экземплярами самого перечисления-контейнера"
   ]
  },
  {
   "attachments": {},
   "cell_type": "markdown",
   "metadata": {},
   "source": [
    "```Color.RED``` также является экземпляром перечисления ```Color```:"
   ]
  },
  {
   "cell_type": "code",
   "execution_count": 3,
   "metadata": {},
   "outputs": [
    {
     "name": "stdout",
     "output_type": "stream",
     "text": [
      "True\n"
     ]
    }
   ],
   "source": [
    "print(isinstance(Color.RED, Color))"
   ]
  },
  {
   "attachments": {},
   "cell_type": "markdown",
   "metadata": {},
   "source": [
    "У этого элемента есть атрибуты ```name``` и ```value```:"
   ]
  },
  {
   "cell_type": "code",
   "execution_count": 4,
   "metadata": {},
   "outputs": [
    {
     "name": "stdout",
     "output_type": "stream",
     "text": [
      "RED\n",
      "1\n"
     ]
    }
   ],
   "source": [
    "print(Color.RED.name)\n",
    "print(Color.RED.value)"
   ]
  },
  {
   "attachments": {},
   "cell_type": "markdown",
   "metadata": {},
   "source": [
    "Использование атрибутов .name и .value\n",
    "Элементы перечисления в Python являются экземплярами содержащего их класса. Каждый элемент автоматически снабжается атрибутом .name, который содержит имя элемента в виде строки. Элементы также получают атрибут .value, который хранит значение, присвоенное самому элементу в определении класса.\n",
    "\n",
    "Вы можете обращаться к .name и .value так же, как и к обычным атрибутам, используя точечную нотацию. Эти атрибуты пригодятся вам при итерации перечислений."
   ]
  },
  {
   "attachments": {},
   "cell_type": "markdown",
   "metadata": {},
   "source": [
    "Как вы можете видеть, функция repr() элемента показывает имя перечисления, имя элемента и значение. Str() элемента показывает только имя перечисления и имя элемента:"
   ]
  },
  {
   "cell_type": "code",
   "execution_count": 68,
   "metadata": {},
   "outputs": [
    {
     "name": "stdout",
     "output_type": "stream",
     "text": [
      "<Color.RED: 1>\n",
      "Color.RED\n"
     ]
    }
   ],
   "source": [
    "print(repr(Color.RED))\n",
    "print(Color.RED)"
   ]
  },
  {
   "attachments": {},
   "cell_type": "markdown",
   "metadata": {},
   "source": [
    "Все экземпляры перечислений фактически создаются во время конструирования класса"
   ]
  },
  {
   "attachments": {},
   "cell_type": "markdown",
   "metadata": {},
   "source": [
    "## Членство и равенство\n",
    "Membership and equality\n",
    "\n",
    "Чтобы проверить, входит ли элемент в перечисление, используется оператор пренадлежности in. Например:"
   ]
  },
  {
   "cell_type": "code",
   "execution_count": 5,
   "metadata": {},
   "outputs": [
    {
     "name": "stdout",
     "output_type": "stream",
     "text": [
      "Yes\n"
     ]
    }
   ],
   "source": [
    "if Color.RED in Color:\n",
    "    print('Yes')"
   ]
  },
  {
   "attachments": {},
   "cell_type": "markdown",
   "metadata": {},
   "source": [
    "Перечисления Python по умолчанию поддерживают операторы in и not in. Используя эти операторы, вы можете проверить, присутствует ли данный член в данном перечислении."
   ]
  },
  {
   "attachments": {},
   "cell_type": "markdown",
   "metadata": {},
   "source": [
    "Возможность использования перечислений в операторах if ... elif и операторах match ... case предполагает, что члены перечисления можно сравнивать. По умолчанию перечисления поддерживают два типа операторов сравнения:\n",
    "\n",
    "Идентичность, с использованием операторов is и is not.\n",
    "Равенство, с использованием операторов == и !=.\n",
    "Сравнение тождества основывается на том, что каждый член перечисления является единичным экземпляром своего класса перечисления. Эта характеристика позволяет быстро и дешево сравнивать члены перечисления по тождеству с помощью операторов is и not.\n",
    "\n",
    "Рассмотрим следующие примеры, в которых сравниваются различные комбинации членов перечисления:"
   ]
  },
  {
   "cell_type": "code",
   "execution_count": null,
   "metadata": {},
   "outputs": [],
   "source": [
    ">>> from enum import Enum\n",
    "\n",
    ">>> class AtlanticAveSemaphore(Enum):\n",
    "...     RED = 1\n",
    "...     YELLOW = 2\n",
    "...     GREEN = 3\n",
    "...     PEDESTRIAN_RED = 1\n",
    "...     PEDESTRIAN_GREEN = 3\n",
    "...\n",
    "\n",
    ">>> red = AtlanticAveSemaphore.RED\n",
    ">>> red is AtlanticAveSemaphore.RED\n",
    "True\n",
    ">>> red is not AtlanticAveSemaphore.RED\n",
    "False\n",
    "\n",
    ">>> yellow = AtlanticAveSemaphore.YELLOW\n",
    ">>> yellow is red\n",
    "False\n",
    ">>> yellow is not red\n",
    "True\n",
    "\n",
    ">>> pedestrian_red = AtlanticAveSemaphore.PEDESTRIAN_RED\n",
    ">>> red is pedestrian_red\n",
    "True"
   ]
  },
  {
   "attachments": {},
   "cell_type": "markdown",
   "metadata": {},
   "source": [
    "Каждый член перечисления имеет свою собственную идентичность, которая отличается от идентичности его членов-родственников. Это правило не распространяется на псевдонимы членов, поскольку они являются просто ссылками на существующие члены и имеют ту же идентичность. Вот почему сравнение red и pedestrian_red возвращает True в вашем последнем примере.\n",
    "\n",
    "Примечание: Чтобы получить идентификатор данного объекта в Python, вы можете использовать встроенную функцию id() с объектом в качестве аргумента.\n",
    "\n",
    "Проверка идентичности между членами разных перечислений всегда возвращает False:"
   ]
  },
  {
   "cell_type": "code",
   "execution_count": 112,
   "metadata": {},
   "outputs": [
    {
     "data": {
      "text/plain": [
       "False"
      ]
     },
     "execution_count": 112,
     "metadata": {},
     "output_type": "execute_result"
    }
   ],
   "source": [
    ">>> from enum import Enum\n",
    "\n",
    ">>> class AtlanticAveSemaphore(Enum):\n",
    "...     RED = 1\n",
    "...     YELLOW = 2\n",
    "...     GREEN = 3\n",
    "...     PEDESTRIAN_RED = 1\n",
    "...     PEDESTRIAN_GREEN = 3\n",
    "\n",
    ">>> class EighthAveSemaphore(Enum):\n",
    "...     RED = 1\n",
    "...     YELLOW = 2\n",
    "...     GREEN = 3\n",
    "...     PEDESTRIAN_RED = 1\n",
    "...     PEDESTRIAN_GREEN = 3\n",
    "...\n",
    "\n",
    ">>> AtlanticAveSemaphore.RED is EighthAveSemaphore.RED\n",
    "# False\n",
    "\n",
    ">>> AtlanticAveSemaphore.YELLOW is EighthAveSemaphore.YELLOW\n",
    "# False"
   ]
  },
  {
   "attachments": {},
   "cell_type": "markdown",
   "metadata": {},
   "source": [
    "Причина такого неверного результата заключается в том, что члены разных перечислений являются независимыми экземплярами со своими собственными идентификаторами, поэтому любая проверка их идентичности возвращает False.\n",
    "\n",
    "Операторы равенства == и != также работают между членами перечисления:"
   ]
  },
  {
   "cell_type": "code",
   "execution_count": null,
   "metadata": {},
   "outputs": [],
   "source": [
    ">>> from enum import Enum\n",
    "\n",
    ">>> class AtlanticAveSemaphore(Enum):\n",
    "...     RED = 1\n",
    "...     YELLOW = 2\n",
    "...     GREEN = 3\n",
    "...     PEDESTRIAN_RED = 1\n",
    "...     PEDESTRIAN_GREEN = 3\n",
    "...\n",
    "\n",
    ">>> red = AtlanticAveSemaphore.RED\n",
    ">>> red == AtlanticAveSemaphore.RED\n",
    "True\n",
    "\n",
    ">>> red != AtlanticAveSemaphore.RED\n",
    "False\n",
    "\n",
    ">>> yellow = AtlanticAveSemaphore.YELLOW\n",
    ">>> yellow == red\n",
    "False\n",
    ">>> yellow != red\n",
    "True\n",
    "\n",
    ">>> pedestrian_red = AtlanticAveSemaphore.PEDESTRIAN_RED\n",
    ">>> red == pedestrian_red\n",
    "True"
   ]
  },
  {
   "attachments": {},
   "cell_type": "markdown",
   "metadata": {},
   "source": [
    "Как вы уже узнали, члены перечисления всегда имеют конкретное значение, которое может быть числом, строкой или любым другим объектом. В связи с этим сравнение равенства между членами перечисления и обычными объектами может быть заманчивым.\n",
    "\n",
    "Однако такое сравнение работает не так, как ожидалось, потому что на самом деле сравнение основано на идентичности объектов:"
   ]
  },
  {
   "cell_type": "code",
   "execution_count": null,
   "metadata": {},
   "outputs": [],
   "source": [
    ">>> from enum import Enum\n",
    "\n",
    ">>> class Semaphore(Enum):\n",
    "...     RED = 1\n",
    "...     YELLOW = 2\n",
    "...     GREEN = 3\n",
    "...\n",
    "\n",
    ">>> Semaphore.RED == 1\n",
    "False\n",
    "\n",
    ">>> Semaphore.YELLOW == 2\n",
    "False\n",
    "\n",
    ">>> Semaphore.GREEN != 3\n",
    "True"
   ]
  },
  {
   "attachments": {},
   "cell_type": "markdown",
   "metadata": {},
   "source": [
    "Если оператор == не может сравнить по значению два объекта, это может означать, что объекты принадлежат к разным классам и классы не определили метод ```__eq__()``` для сравнения по значению. Если класс не определяет свой собственный метод ```__eq__()```, будет использовано наследуемое поведение от базового класса object, которое сравнивает объекты по идентичности (т.е. с помощью оператора is)."
   ]
  },
  {
   "attachments": {},
   "cell_type": "markdown",
   "metadata": {},
   "source": [
    "Несмотря на то, что в каждом примере значения членов равны целым числам, эти сравнения возвращают False. Это происходит потому, что обычные члены перечисления сравниваются по идентичности объекта, а не по значению. В приведенном примере вы сравниваете члены перечисления с целыми числами, что подобно сравнению яблок и апельсинов. Они никогда не будут сравниваться одинаково, потому что имеют разную идентичность.\n",
    "\n",
    "Примечание: Позже вы узнаете о IntEnum - специальных перечислениях, которые можно сравнивать с целыми числами."
   ]
  },
  {
   "attachments": {},
   "cell_type": "markdown",
   "metadata": {},
   "source": [
    "## Члены перечисления являются хэшируемыми\n",
    "Enumeration members are hashable\n",
    "\n",
    "Элементы перечисления всегда хешируются. Это означает, что элементы перечисления можно использовать как ключи в словаре или как элементы множества.\n",
    "\n",
    "В следующем примере элементы перечисления Color используются в словаре:"
   ]
  },
  {
   "cell_type": "code",
   "execution_count": 8,
   "metadata": {},
   "outputs": [
    {
     "data": {
      "text/plain": [
       "{<Color.RED: 1>: '#ff0000',\n",
       " <Color.GREEN: 2>: '#00ff00',\n",
       " <Color.BLUE: 3>: '#0000ff'}"
      ]
     },
     "execution_count": 8,
     "metadata": {},
     "output_type": "execute_result"
    }
   ],
   "source": [
    "rgb = {\n",
    "    Color.RED: '#ff0000',\n",
    "    Color.GREEN: '#00ff00',\n",
    "    Color.BLUE: '#0000ff'\n",
    "}\n",
    "rgb"
   ]
  },
  {
   "attachments": {},
   "cell_type": "markdown",
   "metadata": {},
   "source": [
    "## Доступ к члену перечисления по имени и значению\n",
    "Access an enumeration member by name and value\n",
    "\n",
    "Когда речь идет об использовании перечислений в вашем коде, доступ к их элементам является фундаментальной операцией. В Python у вас есть три различных способа доступа к членам перечислений.\n",
    "\n",
    "Типичным способом доступа к элементу перечисления является использование синтаксиса точечной нотации (.), как вы видели до сих пор:\n",
    "```\n",
    "Color.RED\n",
    "```"
   ]
  },
  {
   "attachments": {},
   "cell_type": "markdown",
   "metadata": {},
   "source": [
    "Поскольку ```Enum``` реализует метод ```__getitem__```, вы также можете использовать синтаксис квадратных скобок [] для получения члена по его имени.\n",
    "\n",
    "Например, в следующем примере используется синтаксис квадратных скобок [] для получения элемента RED перечисления Color по его имени:"
   ]
  },
  {
   "cell_type": "code",
   "execution_count": 9,
   "metadata": {},
   "outputs": [
    {
     "name": "stdout",
     "output_type": "stream",
     "text": [
      "Color.RED\n"
     ]
    }
   ],
   "source": [
    "print(Color['RED'])"
   ]
  },
  {
   "attachments": {},
   "cell_type": "markdown",
   "metadata": {},
   "source": [
    "Поскольку перечисление является вызываемым, вы можете получить его элемент по его значению. Например, следующие команды возвращают элемент RED перечисления Color по его значению:"
   ]
  },
  {
   "cell_type": "code",
   "execution_count": 11,
   "metadata": {},
   "outputs": [
    {
     "name": "stdout",
     "output_type": "stream",
     "text": [
      "Color.RED\n"
     ]
    }
   ],
   "source": [
    "print(Color(1))"
   ]
  },
  {
   "attachments": {},
   "cell_type": "markdown",
   "metadata": {},
   "source": [
    "Примечание: Важно отметить, что вызов перечисления со **значением элемента** в качестве аргумента может создать впечатление, что вы инстанцируете перечисление. Однако перечисления не могут быть инстанцированы.\n",
    "Попытка создать экземпляр существующего перечисления недопустима, поэтому вы получите TypeError, если попытаетесь это сделать. Поэтому вы не должны путать создание экземпляра с доступом к членам через вызов перечисления."
   ]
  },
  {
   "attachments": {},
   "cell_type": "markdown",
   "metadata": {},
   "source": [
    "Следующее выражение возвращает True, потому что оно обращается к одному и тому же элементу перечисления, используя имя и значение:"
   ]
  },
  {
   "cell_type": "code",
   "execution_count": 12,
   "metadata": {},
   "outputs": [
    {
     "name": "stdout",
     "output_type": "stream",
     "text": [
      "True\n"
     ]
    }
   ],
   "source": [
    "print(Color['RED'] == Color(1))"
   ]
  },
  {
   "attachments": {},
   "cell_type": "markdown",
   "metadata": {},
   "source": [
    "Перечисления Python предоставляют большую гибкость для доступа к членам. Точечная нотация, пожалуй, является наиболее часто используемым подходом в коде Python. Однако два других подхода также могут быть полезны. Поэтому используйте ту нотацию, которая отвечает вашим конкретным потребностям, соглашениям и стилю."
   ]
  },
  {
   "cell_type": "code",
   "execution_count": null,
   "metadata": {},
   "outputs": [],
   "source": [
    ">>> from enum import Enum\n",
    "\n",
    ">>> class CardinalDirection(Enum):\n",
    "...     NORTH = \"N\"\n",
    "...     SOUTH = \"S\"\n",
    "...     EAST = \"E\"\n",
    "...     WEST = \"W\"\n",
    "...\n",
    "\n",
    ">>> # Dot notation\n",
    ">>> CardinalDirection.NORTH\n",
    "# <CardinalDirection.NORTH: 'N'>\n",
    "\n",
    ">>> # Call notation\n",
    ">>> CardinalDirection(\"N\")\n",
    "# <CardinalDirection.NORTH: 'N'>\n",
    "\n",
    ">>> # Subscript notation\n",
    ">>> CardinalDirection[\"NORTH\"]\n",
    "# <CardinalDirection.NORTH: 'N'>"
   ]
  },
  {
   "attachments": {},
   "cell_type": "markdown",
   "metadata": {},
   "source": [
    "## Итерация элементов перечисления\n",
    "Iterate enumeration members\n",
    "\n",
    "Примечательной особенностью перечислений Python по сравнению с обычными классами является то, что перечисления по умолчанию являются итерируемыми. Поскольку они итерабельны, вы можете использовать их в циклах for и других инструментах, которые принимают и обрабатывают итерации.\n",
    "\n",
    "Перечисления Python поддерживают прямую итерацию над элементами в порядке определения.\n",
    "\n",
    "Например:"
   ]
  },
  {
   "cell_type": "code",
   "execution_count": 13,
   "metadata": {},
   "outputs": [
    {
     "name": "stdout",
     "output_type": "stream",
     "text": [
      "Color.RED\n",
      "Color.GREEN\n",
      "Color.BLUE\n"
     ]
    }
   ],
   "source": [
    "for color in Color:\n",
    "    print(color)"
   ]
  },
  {
   "attachments": {},
   "cell_type": "markdown",
   "metadata": {},
   "source": [
    "Обратите внимание, что порядок элементов такой же, как и в определении перечисления.\n",
    "\n",
    "Также для возврата списка элементов перечисления можно использовать функцию list():"
   ]
  },
  {
   "cell_type": "code",
   "execution_count": 14,
   "metadata": {},
   "outputs": [
    {
     "name": "stdout",
     "output_type": "stream",
     "text": [
      "[<Color.RED: 1>, <Color.GREEN: 2>, <Color.BLUE: 3>]\n"
     ]
    }
   ],
   "source": [
    "print(list(Color))"
   ]
  },
  {
   "attachments": {},
   "cell_type": "markdown",
   "metadata": {},
   "source": [
    "Перечисления можно рассматривать как коллекции констант. Подобно спискам, кортежам или словарям, перечисления в Python также являются итерируемыми. Именно поэтому вы можете использовать функцию list(), чтобы превратить перечисление в список элементов перечисления.\n",
    "\n",
    "Элементы перечисления Python являются экземплярами самого перечисления-контейнера:"
   ]
  },
  {
   "cell_type": "code",
   "execution_count": 80,
   "metadata": {},
   "outputs": [
    {
     "name": "stdout",
     "output_type": "stream",
     "text": [
      "<enum 'Day'>\n"
     ]
    },
    {
     "data": {
      "text/plain": [
       "<enum 'Day'>"
      ]
     },
     "execution_count": 80,
     "metadata": {},
     "output_type": "execute_result"
    }
   ],
   "source": [
    "from enum import Enum\n",
    "\n",
    "class Day(Enum):\n",
    "    MONDAY = 1\n",
    "    TUESDAY = 2\n",
    "    WEDNESDAY = 3\n",
    "    THURSDAY = 4\n",
    "    FRIDAY = 5\n",
    "    SATURDAY = 6\n",
    "    SUNDAY = 7\n",
    "\n",
    "\n",
    "print(type(Day.MONDAY))\n",
    "\n",
    "\n",
    "type(Day.TUESDAY)\n"
   ]
  },
  {
   "attachments": {},
   "cell_type": "markdown",
   "metadata": {},
   "source": [
    "Рассмотрим пример:"
   ]
  },
  {
   "cell_type": "code",
   "execution_count": 104,
   "metadata": {},
   "outputs": [
    {
     "name": "stdout",
     "output_type": "stream",
     "text": [
      "Flavor.VANILLA\n",
      "Flavor.CHOCOLATE\n",
      "Flavor.MINT\n"
     ]
    }
   ],
   "source": [
    "from enum import Enum\n",
    "\n",
    "class Flavor(Enum):\n",
    "    VANILLA = 1\n",
    "    CHOCOLATE = 2\n",
    "    MINT = 3\n",
    "\n",
    "\n",
    "for flavor in Flavor:\n",
    "    print(flavor)"
   ]
  },
  {
   "attachments": {},
   "cell_type": "markdown",
   "metadata": {},
   "source": [
    "В этом примере вы используете цикл for для итерационного просмотра элементов Flavor. Обратите внимание, что элементы выводятся в том же порядке, в котором они были определены в классе.\n",
    "\n",
    "Когда вы перебираете перечисления, вы можете получить доступ к атрибутам .name и .value по мере выполнения:"
   ]
  },
  {
   "cell_type": "code",
   "execution_count": 105,
   "metadata": {},
   "outputs": [
    {
     "name": "stdout",
     "output_type": "stream",
     "text": [
      "VANILLA -> 1\n",
      "CHOCOLATE -> 2\n",
      "MINT -> 3\n"
     ]
    }
   ],
   "source": [
    "for flavor in Flavor:\n",
    "    print(flavor.name, \"->\", flavor.value)"
   ]
  },
  {
   "attachments": {},
   "cell_type": "markdown",
   "metadata": {},
   "source": [
    "Кроме того, перечисления имеют специальный атрибут ```.__members__```, который также можно использовать для итерации по их элементам. Этот атрибут содержит специальный mappingproxy словарь, в котором имена сопоставлены с элементами. Разница между итерацией по этому словарю и непосредственно по перечислению заключается в том, что словарь дает вам доступ ко всем элементам перечисления, включая все псевдонимы, которые у вас могут быть.\n",
    "\n",
    "Вот несколько примеров использования ```.__members__``` для итерации по перечислению Flavor:"
   ]
  },
  {
   "cell_type": "code",
   "execution_count": 107,
   "metadata": {},
   "outputs": [
    {
     "data": {
      "text/plain": [
       "mappingproxy({'VANILLA': <Flavor.VANILLA: 1>,\n",
       "              'CHOCOLATE': <Flavor.CHOCOLATE: 2>,\n",
       "              'MINT': <Flavor.MINT: 3>})"
      ]
     },
     "execution_count": 107,
     "metadata": {},
     "output_type": "execute_result"
    }
   ],
   "source": [
    "Flavor.__members__"
   ]
  },
  {
   "cell_type": "code",
   "execution_count": 106,
   "metadata": {},
   "outputs": [
    {
     "name": "stdout",
     "output_type": "stream",
     "text": [
      "VANILLA\n",
      "CHOCOLATE\n",
      "MINT\n",
      "VANILLA\n",
      "CHOCOLATE\n",
      "MINT\n",
      "Flavor.VANILLA\n",
      "Flavor.CHOCOLATE\n",
      "Flavor.MINT\n",
      "VANILLA -> Flavor.VANILLA\n",
      "CHOCOLATE -> Flavor.CHOCOLATE\n",
      "MINT -> Flavor.MINT\n"
     ]
    }
   ],
   "source": [
    ">>> for name in Flavor.__members__:\n",
    "...     print(name)\n",
    "...\n",
    "# VANILLA\n",
    "# CHOCOLATE\n",
    "# MINT\n",
    "\n",
    ">>> for name in Flavor.__members__.keys():\n",
    "...     print(name)\n",
    "...\n",
    "# VANILLA\n",
    "# CHOCOLATE\n",
    "# MINT\n",
    "\n",
    ">>> for member in Flavor.__members__.values():\n",
    "...     print(member)\n",
    "...\n",
    "# Flavor.VANILLA\n",
    "# Flavor.CHOCOLATE\n",
    "# Flavor.MINT\n",
    "\n",
    ">>> for name, member in Flavor.__members__.items():\n",
    "...     print(name, \"->\", member)\n",
    "...\n",
    "# VANILLA -> Flavor.VANILLA\n",
    "# CHOCOLATE -> Flavor.CHOCOLATE\n",
    "# MINT -> Flavor.MINT"
   ]
  },
  {
   "attachments": {},
   "cell_type": "markdown",
   "metadata": {},
   "source": [
    "Вы можете использовать специальный атрибут ```.__members__``` для детального программного доступа к элементам перечисления Python. Поскольку ```.__members__``` содержит обычный словарь, вы можете использовать все приемы итерации, которые применяются к этому встроенному типу данных. Некоторые из этих приемов включают использование таких методов словаря, как .key(), .values() и .items()."
   ]
  },
  {
   "attachments": {},
   "cell_type": "markdown",
   "metadata": {},
   "source": [
    "## Перечисления являются неизменяемыми\n",
    "Enumerations are immutable\n",
    "\n",
    "Перечисления являются неизменяемыми. Это означает, что вы не можете добавлять или удалять элементы после определения перечисления. Вы также не можете изменять значения элементов.\n",
    "\n",
    "В следующем примере попытка присвоить новый элемент перечислению Color приводит к ошибке TypeError:"
   ]
  },
  {
   "cell_type": "code",
   "execution_count": 15,
   "metadata": {},
   "outputs": [
    {
     "ename": "TypeError",
     "evalue": "'EnumType' object does not support item assignment",
     "output_type": "error",
     "traceback": [
      "\u001b[0;31m---------------------------------------------------------------------------\u001b[0m",
      "\u001b[0;31mTypeError\u001b[0m                                 Traceback (most recent call last)",
      "Cell \u001b[0;32mIn[15], line 1\u001b[0m\n\u001b[0;32m----> 1\u001b[0m Color[\u001b[39m'\u001b[39;49m\u001b[39mYELLOW\u001b[39;49m\u001b[39m'\u001b[39;49m] \u001b[39m=\u001b[39m \u001b[39m4\u001b[39m\n",
      "\u001b[0;31mTypeError\u001b[0m: 'EnumType' object does not support item assignment"
     ]
    }
   ],
   "source": [
    "Color['YELLOW'] = 4"
   ]
  },
  {
   "attachments": {},
   "cell_type": "markdown",
   "metadata": {},
   "source": [
    "Следующий пример пытается изменить значение элемента ```RED``` перечисления ```Color``` и вызывает ошибку AttributeError:"
   ]
  },
  {
   "cell_type": "code",
   "execution_count": 17,
   "metadata": {},
   "outputs": [
    {
     "ename": "AttributeError",
     "evalue": "<enum 'Enum'> cannot set attribute 'value'",
     "output_type": "error",
     "traceback": [
      "\u001b[0;31m---------------------------------------------------------------------------\u001b[0m",
      "\u001b[0;31mAttributeError\u001b[0m                            Traceback (most recent call last)",
      "Cell \u001b[0;32mIn[17], line 1\u001b[0m\n\u001b[0;32m----> 1\u001b[0m Color\u001b[39m.\u001b[39;49mRED\u001b[39m.\u001b[39;49mvalue \u001b[39m=\u001b[39m \u001b[39m100\u001b[39m\n",
      "File \u001b[0;32m/Library/Frameworks/Python.framework/Versions/3.11/lib/python3.11/enum.py:210\u001b[0m, in \u001b[0;36mproperty.__set__\u001b[0;34m(self, instance, value)\u001b[0m\n\u001b[1;32m    208\u001b[0m \u001b[39mdef\u001b[39;00m \u001b[39m__set__\u001b[39m(\u001b[39mself\u001b[39m, instance, value):\n\u001b[1;32m    209\u001b[0m     \u001b[39mif\u001b[39;00m \u001b[39mself\u001b[39m\u001b[39m.\u001b[39mfset \u001b[39mis\u001b[39;00m \u001b[39mNone\u001b[39;00m:\n\u001b[0;32m--> 210\u001b[0m         \u001b[39mraise\u001b[39;00m \u001b[39mAttributeError\u001b[39;00m(\n\u001b[1;32m    211\u001b[0m                 \u001b[39m\"\u001b[39m\u001b[39m<enum \u001b[39m\u001b[39m%r\u001b[39;00m\u001b[39m> cannot set attribute \u001b[39m\u001b[39m%r\u001b[39;00m\u001b[39m\"\u001b[39m \u001b[39m%\u001b[39m (\u001b[39mself\u001b[39m\u001b[39m.\u001b[39mclsname, \u001b[39mself\u001b[39m\u001b[39m.\u001b[39mname)\n\u001b[1;32m    212\u001b[0m                 )\n\u001b[1;32m    213\u001b[0m     \u001b[39melse\u001b[39;00m:\n\u001b[1;32m    214\u001b[0m         \u001b[39mreturn\u001b[39;00m \u001b[39mself\u001b[39m\u001b[39m.\u001b[39mfset(instance, value)\n",
      "\u001b[0;31mAttributeError\u001b[0m: <enum 'Enum'> cannot set attribute 'value'"
     ]
    }
   ],
   "source": [
    "Color.RED.value = 100"
   ]
  },
  {
   "attachments": {},
   "cell_type": "markdown",
   "metadata": {},
   "source": [
    "Для построения перечислений можно также использовать запись, основанную на range():"
   ]
  },
  {
   "cell_type": "code",
   "execution_count": 79,
   "metadata": {},
   "outputs": [
    {
     "data": {
      "text/plain": [
       "[<Season.WINTER: 1>, <Season.SPRING: 2>, <Season.SUMMER: 3>, <Season.FALL: 4>]"
      ]
     },
     "execution_count": 79,
     "metadata": {},
     "output_type": "execute_result"
    }
   ],
   "source": [
    "from enum import Enum\n",
    "\n",
    "class Season(Enum):\n",
    "    WINTER, SPRING, SUMMER, FALL = range(1, 5)\n",
    "\n",
    "\n",
    "list(Season)"
   ]
  },
  {
   "attachments": {},
   "cell_type": "markdown",
   "metadata": {},
   "source": [
    "Несмотря на то, что для создания перечислений используется синтаксис класса, это специальные классы, которые отличаются от обычных классов Python. В отличие от обычных классов, перечисления:\n",
    "\n",
    "* Не могут быть инстанцированы\n",
    "* Не могут быть подклассами, если только базовое перечисление не имеет элементов\n",
    "* Предоставляют человекочитаемое строковое представление для своих членов (```object.__repr__(self)```)\n",
    "* Являются итерируемыми, возвращая свои элементы в последовательности\n",
    "* Предоставляют хэшируемые элементы, которые могут быть использованы в качестве ключей словаря\n",
    "* Поддерживают синтаксис квадратных скобок, синтаксис вызова и точечную нотацию для доступа к элементам.\n",
    "* Не допускают переназначения элементов.\n",
    "\n",
    "Вам следует помнить обо всех этих тонких различиях, когда вы начнете создавать и работать с собственными перечислениями в Python."
   ]
  },
  {
   "attachments": {},
   "cell_type": "markdown",
   "metadata": {},
   "source": [
    "Часто элементы перечисления принимают последовательные целочисленные значения. Однако в Python значения элементов перечисления могут быть любого типа, включая типы, определяемые пользователем. Например, вот перечисление школьных оценок, в котором используются непоследовательные числовые значения в порядке убывания:"
   ]
  },
  {
   "cell_type": "code",
   "execution_count": 81,
   "metadata": {},
   "outputs": [
    {
     "data": {
      "text/plain": [
       "[<Grade.A: 90>, <Grade.B: 80>, <Grade.C: 70>, <Grade.D: 60>, <Grade.F: 0>]"
      ]
     },
     "execution_count": 81,
     "metadata": {},
     "output_type": "execute_result"
    }
   ],
   "source": [
    "from enum import Enum\n",
    "\n",
    "class Grade(Enum):\n",
    "    A = 90\n",
    "    B = 80\n",
    "    C = 70\n",
    "    D = 60\n",
    "    F = 0\n",
    "\n",
    "\n",
    "list(Grade)"
   ]
  },
  {
   "attachments": {},
   "cell_type": "markdown",
   "metadata": {},
   "source": [
    "Этот пример показывает, что перечисления Python довольно гибкие и позволяют использовать любое значимое значение для их элементов. Вы можете устанавливать значения элементов в соответствии с замыслом вашего кода.\n",
    "\n",
    "Вы также можете использовать строковые значения для элементов перечисления. Вот пример перечисления Size, которое можно использовать в интернет-магазине:"
   ]
  },
  {
   "cell_type": "code",
   "execution_count": 82,
   "metadata": {},
   "outputs": [
    {
     "data": {
      "text/plain": [
       "[<Size.S: 'small'>,\n",
       " <Size.M: 'medium'>,\n",
       " <Size.L: 'large'>,\n",
       " <Size.XL: 'extra large'>]"
      ]
     },
     "execution_count": 82,
     "metadata": {},
     "output_type": "execute_result"
    }
   ],
   "source": [
    "from enum import Enum\n",
    "\n",
    "class Size(Enum):\n",
    "    S = \"small\"\n",
    "    M = \"medium\"\n",
    "    L = \"large\"\n",
    "    XL = \"extra large\"\n",
    "\n",
    "\n",
    "list(Size)"
   ]
  },
  {
   "attachments": {},
   "cell_type": "markdown",
   "metadata": {},
   "source": [
    "В этом примере значение, связанное с каждым размером, содержит описание, которое может помочь вам и другим разработчикам понять смысл вашего кода.\n",
    "\n",
    "Вы также можете создавать перечисления булевых значений. В этом случае элементы вашего перечисления будут иметь только два значения:"
   ]
  },
  {
   "cell_type": "code",
   "execution_count": 83,
   "metadata": {},
   "outputs": [
    {
     "name": "stdout",
     "output_type": "stream",
     "text": [
      "[<SwitchPosition.ON: True>, <SwitchPosition.OFF: False>]\n"
     ]
    },
    {
     "data": {
      "text/plain": [
       "[<UserResponse.YES: True>, <UserResponse.NO: False>]"
      ]
     },
     "execution_count": 83,
     "metadata": {},
     "output_type": "execute_result"
    }
   ],
   "source": [
    "from enum import Enum\n",
    "\n",
    "class SwitchPosition(Enum):\n",
    "    ON = True\n",
    "    OFF = False\n",
    "\n",
    "\n",
    "print(list(SwitchPosition))\n",
    "\n",
    "\n",
    "class UserResponse(Enum):\n",
    "    YES = True\n",
    "    NO = False\n",
    "\n",
    "\n",
    "list(UserResponse)"
   ]
  },
  {
   "attachments": {},
   "cell_type": "markdown",
   "metadata": {},
   "source": [
    "Эти два примера показывают, как можно использовать перечисления для добавления дополнительного контекста в ваш код. В первом примере любой, кто прочитает ваш код, будет знать, что код эмулирует объект switch с двумя возможными состояниями. Эта дополнительная информация значительно улучшает читабельность кода.\n",
    "\n",
    "Вы также можете определить перечисление с неоднородными значениями, но это не рекомендуется делать, так как это не соответствует идее группировки похожих, связанных констант в перечислениях:"
   ]
  },
  {
   "cell_type": "code",
   "execution_count": 85,
   "metadata": {},
   "outputs": [
    {
     "name": "stdout",
     "output_type": "stream",
     "text": [
      "<UserResponse.NO: 'No'>\n"
     ]
    },
    {
     "data": {
      "text/plain": [
       "<UserResponse.YES: 1>"
      ]
     },
     "execution_count": 85,
     "metadata": {},
     "output_type": "execute_result"
    }
   ],
   "source": [
    "from enum import Enum\n",
    "\n",
    "class UserResponse(Enum):\n",
    "    YES = 1\n",
    "    NO = \"No\"\n",
    "\n",
    "\n",
    "print(repr(UserResponse.NO))\n",
    "\n",
    "\n",
    "UserResponse.YES"
   ]
  },
  {
   "attachments": {},
   "cell_type": "markdown",
   "metadata": {},
   "source": [
    "Наконец, вы также можете создавать пустые перечисления:"
   ]
  },
  {
   "cell_type": "code",
   "execution_count": null,
   "metadata": {},
   "outputs": [],
   "source": [
    ">>> from enum import Enum\n",
    "\n",
    ">>> class Empty(Enum):\n",
    "...     pass\n",
    "...\n",
    "\n",
    ">>> list(Empty)\n",
    "[]\n",
    "\n",
    ">>> class Empty(Enum):\n",
    "...     ...\n",
    "...\n",
    "\n",
    ">>> list(Empty)\n",
    "[]\n",
    "\n",
    ">>> class Empty(Enum):\n",
    "...     \"\"\"Empty enumeration for such and such purposes.\"\"\"\n",
    "...\n",
    "\n",
    ">>> list(Empty)\n",
    "[]"
   ]
  },
  {
   "attachments": {},
   "cell_type": "markdown",
   "metadata": {},
   "source": [
    "В данном примере Empty представляет пустое перечисление, поскольку в нем не определено ни одной константы-члена. Обратите внимание, что для создания пустых перечислений можно использовать оператор pass, литерал многоточие (Ellipsis) (...) или doc-строку на уровне класса. Последний подход может помочь вам улучшить читабельность вашего кода за счет дополнительного контекста в строке документации.\n",
    "\n",
    "Итак, зачем вам вообще нужно определять пустое перечисление? Пустые перечисления могут пригодиться, когда вам нужно построить иерархию классов перечислений для повторного использования функциональности через наследование."
   ]
  },
  {
   "attachments": {},
   "cell_type": "markdown",
   "metadata": {},
   "source": [
    "## Наследование от перечисления\n",
    "Inherits from an enumeration\n",
    "\n",
    "Перечисление не может быть унаследовано, если оно содержит элементов. Следующий пример работает нормально, потому что перечисление ```Color``` не содержит элементов:"
   ]
  },
  {
   "cell_type": "code",
   "execution_count": 18,
   "metadata": {},
   "outputs": [],
   "source": [
    "class Color(Enum):\n",
    "    pass\n",
    "\n",
    "\n",
    "class RGB(Color):\n",
    "    RED = 1\n",
    "    GREEN = 2\n",
    "    BLUE = 3"
   ]
  },
  {
   "attachments": {},
   "cell_type": "markdown",
   "metadata": {},
   "source": [
    "Однако следующий пример не будет работать, потому что у перечисления RGB есть элементы:"
   ]
  },
  {
   "cell_type": "code",
   "execution_count": 19,
   "metadata": {},
   "outputs": [
    {
     "ename": "TypeError",
     "evalue": "<enum 'RGBA'> cannot extend <enum 'RGB'>",
     "output_type": "error",
     "traceback": [
      "\u001b[0;31m---------------------------------------------------------------------------\u001b[0m",
      "\u001b[0;31mTypeError\u001b[0m                                 Traceback (most recent call last)",
      "Cell \u001b[0;32mIn[19], line 1\u001b[0m\n\u001b[0;32m----> 1\u001b[0m \u001b[39mclass\u001b[39;49;00m \u001b[39mRGBA\u001b[39;49;00m(RGB):\n\u001b[1;32m      2\u001b[0m     ALPHA \u001b[39m=\u001b[39;49m \u001b[39m4\u001b[39;49m\n",
      "File \u001b[0;32m/Library/Frameworks/Python.framework/Versions/3.11/lib/python3.11/enum.py:474\u001b[0m, in \u001b[0;36mEnumType.__prepare__\u001b[0;34m(metacls, cls, bases, **kwds)\u001b[0m\n\u001b[1;32m    471\u001b[0m \u001b[39m@classmethod\u001b[39m\n\u001b[1;32m    472\u001b[0m \u001b[39mdef\u001b[39;00m \u001b[39m__prepare__\u001b[39m(metacls, \u001b[39mcls\u001b[39m, bases, \u001b[39m*\u001b[39m\u001b[39m*\u001b[39mkwds):\n\u001b[1;32m    473\u001b[0m     \u001b[39m# check that previous enum members do not exist\u001b[39;00m\n\u001b[0;32m--> 474\u001b[0m     metacls\u001b[39m.\u001b[39;49m_check_for_existing_members_(\u001b[39mcls\u001b[39;49m, bases)\n\u001b[1;32m    475\u001b[0m     \u001b[39m# create the namespace dict\u001b[39;00m\n\u001b[1;32m    476\u001b[0m     enum_dict \u001b[39m=\u001b[39m _EnumDict()\n",
      "File \u001b[0;32m/Library/Frameworks/Python.framework/Versions/3.11/lib/python3.11/enum.py:938\u001b[0m, in \u001b[0;36mEnumType._check_for_existing_members_\u001b[0;34m(mcls, class_name, bases)\u001b[0m\n\u001b[1;32m    936\u001b[0m \u001b[39mfor\u001b[39;00m base \u001b[39min\u001b[39;00m chain\u001b[39m.\u001b[39m\u001b[39m__mro__\u001b[39m:\n\u001b[1;32m    937\u001b[0m     \u001b[39mif\u001b[39;00m \u001b[39missubclass\u001b[39m(base, Enum) \u001b[39mand\u001b[39;00m base\u001b[39m.\u001b[39m_member_names_:\n\u001b[0;32m--> 938\u001b[0m         \u001b[39mraise\u001b[39;00m \u001b[39mTypeError\u001b[39;00m(\n\u001b[1;32m    939\u001b[0m                 \u001b[39m\"\u001b[39m\u001b[39m<enum \u001b[39m\u001b[39m%r\u001b[39;00m\u001b[39m> cannot extend \u001b[39m\u001b[39m%r\u001b[39;00m\u001b[39m\"\u001b[39m\n\u001b[1;32m    940\u001b[0m                 \u001b[39m%\u001b[39m (class_name, base)\n\u001b[1;32m    941\u001b[0m                 )\n",
      "\u001b[0;31mTypeError\u001b[0m: <enum 'RGBA'> cannot extend <enum 'RGB'>"
     ]
    }
   ],
   "source": [
    "class RGBA(RGB):\n",
    "    ALPHA = 4"
   ]
  },
  {
   "attachments": {},
   "cell_type": "markdown",
   "metadata": {},
   "source": [
    "Рассмотрим следующий пример:"
   ]
  },
  {
   "cell_type": "code",
   "execution_count": null,
   "metadata": {},
   "outputs": [],
   "source": [
    "from enum import Enum\n",
    "import string\n",
    "\n",
    "class BaseTextEnum(Enum):\n",
    "    def as_list(self):\n",
    "        try:\n",
    "            return list(self.value)\n",
    "        except TypeError:\n",
    "            return [str(self.value)]\n",
    "\n",
    "\n",
    "class Alphabet(BaseTextEnum):\n",
    "    LOWERCASE = string.ascii_lowercase # 'abcdefghijklmnopqrstuvwxyz'\n",
    "    UPPERCASE = string.ascii_uppercase\n",
    "\n",
    "\n",
    "Alphabet.LOWERCASE.as_list()\n",
    "# ['a', 'b', 'c', 'd', ..., 'x', 'y', 'z']"
   ]
  },
  {
   "attachments": {},
   "cell_type": "markdown",
   "metadata": {},
   "source": [
    "В этом примере вы создаете BaseTextEnum как перечисление без элементов. Вы можете наследовать пользовательское перечисление, только если оно не имеет элементов, поэтому класс BaseTextEnum подходит для этого. Класс Alphabet наследуется от вашего пустого перечисления, что означает, что вы можете получить доступ к методу .as_list(). Этот метод преобразует значение заданного элемента в список."
   ]
  },
  {
   "attachments": {},
   "cell_type": "markdown",
   "metadata": {},
   "source": [
    "## Создание перечислений с помощью функционального API\n",
    "Класс Enum предоставляет функциональный API, который вы можете использовать для создания перечислений без использования обычного синтаксиса класса. Вам просто нужно будет вызвать Enum с соответствующими аргументами, как это делается с функцией или любым другим вызываемым объектом.\n",
    "\n",
    "В случае с Enum функциональная сигнатура имеет следующий вид:\n",
    "```\n",
    "Enum(\n",
    "    value,\n",
    "    names,\n",
    "    *,\n",
    "    module=None,\n",
    "    qualname=None,\n",
    "    type=None,\n",
    "    start=1\n",
    ")\n",
    "```"
   ]
  },
  {
   "attachments": {},
   "cell_type": "markdown",
   "metadata": {},
   "source": [
    "Из этой сигнатуры можно сделать вывод, что Enum нуждается в двух позиционных аргументах, value и names. Кроме того, он может принимать до четырех keyword-only необязательных аргументов. Эти аргументы - module, qualname, type и start.\n",
    "\n",
    "Вот таблица, в которой кратко описаны содержание и значение каждого аргумента в сигнатуре Enum:"
   ]
  },
  {
   "attachments": {},
   "cell_type": "markdown",
   "metadata": {},
   "source": [
    "<table class=\"table table-hover\">\n",
    "<thead>\n",
    "<tr>\n",
    "<th>Argument</th>\n",
    "<th>Description</th>\n",
    "<th>Required</th>\n",
    "</tr>\n",
    "</thead>\n",
    "<tbody>\n",
    "<tr>\n",
    "<td><code>value</code></td>\n",
    "<td>Содержит строку с именем нового класса перечисления</td>\n",
    "<td>Yes</td>\n",
    "</tr>\n",
    "<tr>\n",
    "<td><code>names</code></td>\n",
    "<td>Предоставляет имена для элементов перечисления</td>\n",
    "<td>Yes</td>\n",
    "</tr>\n",
    "<tr>\n",
    "<td><code>module</code></td>\n",
    "<td>Принимает имя модуля, определяющего класс перечисления</td>\n",
    "<td>No</td>\n",
    "</tr>\n",
    "<tr>\n",
    "<td><code>qualname</code></td>\n",
    "<td>Содержит местоположение модуля, определяющего класс перечисления</td>\n",
    "<td>No</td>\n",
    "</tr>\n",
    "<tr>\n",
    "<td><code>type</code></td>\n",
    "<td>Содержит класс который будет использоваться в качестве первого класса-миксина</td>\n",
    "<td>No</td>\n",
    "</tr>\n",
    "<tr>\n",
    "<td><code>start</code></td>\n",
    "<td>Принимает начальное значение из перечисления, с которого будут начинаться значения</td>\n",
    "<td>No</td>\n",
    "</tr>\n",
    "</tbody>\n",
    "</table>"
   ]
  },
  {
   "attachments": {},
   "cell_type": "markdown",
   "metadata": {},
   "source": [
    "Для указания аргумента names можно использовать следующие объекты:\n",
    "\n",
    "* Строка, содержащая имена элементов, разделенные пробелами или запятыми.\n",
    "* iterable object имен элементов\n",
    "* iterable object пар имя-значение"
   ]
  },
  {
   "attachments": {},
   "cell_type": "markdown",
   "metadata": {},
   "source": [
    "Аргументы module и qualname играют важную роль, когда вам нужно сереализовать и десереализовать перечисления."
   ]
  },
  {
   "attachments": {},
   "cell_type": "markdown",
   "metadata": {},
   "source": [
    "Аргумент type необходим, если вы хотите создать класс-миксин для своего перечисления. Использование класса mixin может предоставить вашему пользовательскому перечислению новые функциональные возможности, например, расширенные возможности сравнения.\n",
    "\n",
    "Наконец, аргумент start дает возможность настроить начальное значение перечислений. По умолчанию этот аргумент принимает значение 1, а не 0. Причина такого значения по умолчанию заключается в том, что 0 - это false в булевом смысле, но члены перечисления оцениваются как True. Поэтому начало с 0 будет выглядеть неожиданным и запутанным.\n",
    "\n",
    "В большинстве случаев при создании перечислений вы будете использовать только первые два аргумента Enum. \n",
    "\n",
    "Вот пример создания перечисления распространенных методов HTTP:"
   ]
  },
  {
   "cell_type": "code",
   "execution_count": 91,
   "metadata": {},
   "outputs": [
    {
     "data": {
      "text/plain": [
       "[<HTTPMethod.GET: 1>,\n",
       " <HTTPMethod.POST: 2>,\n",
       " <HTTPMethod.PUSH: 3>,\n",
       " <HTTPMethod.PATCH: 4>,\n",
       " <HTTPMethod.DELETE: 5>]"
      ]
     },
     "execution_count": 91,
     "metadata": {},
     "output_type": "execute_result"
    }
   ],
   "source": [
    "from enum import Enum\n",
    "\n",
    "HTTPMethod = Enum(\n",
    "    \"HTTPMethod\", [\"GET\", \"POST\", \"PUSH\", \"PATCH\", \"DELETE\"]\n",
    ")\n",
    "\n",
    "list(HTTPMethod)"
   ]
  },
  {
   "attachments": {},
   "cell_type": "markdown",
   "metadata": {},
   "source": [
    "Этот вызов Enum возвращает новое перечисление под названием HTTPMethod. Для указания имен элементов используется список строк. Каждая строка представляет собой метод HTTP. Обратите внимание, что значения элементов автоматически устанавливаются в последовательные целые числа, начиная с 1. Вы можете изменить это начальное значение с помощью аргумента start.\n",
    "\n",
    "Обратите внимание, что определение вышеуказанных перечислений с помощью синтаксиса класса приведет к такому же результату:"
   ]
  },
  {
   "cell_type": "code",
   "execution_count": 92,
   "metadata": {},
   "outputs": [
    {
     "data": {
      "text/plain": [
       "[<HTTPMethod.GET: 1>,\n",
       " <HTTPMethod.POST: 2>,\n",
       " <HTTPMethod.PUSH: 3>,\n",
       " <HTTPMethod.PATCH: 4>,\n",
       " <HTTPMethod.DELETE: 5>]"
      ]
     },
     "execution_count": 92,
     "metadata": {},
     "output_type": "execute_result"
    }
   ],
   "source": [
    "from enum import Enum\n",
    "\n",
    "class HTTPMethod(Enum):\n",
    "    GET = 1\n",
    "    POST = 2\n",
    "    PUSH = 3\n",
    "    PATCH = 4\n",
    "    DELETE = 5\n",
    "\n",
    "\n",
    "list(HTTPMethod)"
   ]
  },
  {
   "attachments": {},
   "cell_type": "markdown",
   "metadata": {},
   "source": [
    "Здесь вы используете синтаксис класса для определения перечисления HTTPMethod. Этот пример полностью эквивалентен предыдущему, как вы можете заключить из вывода list().\n",
    "\n",
    "Использование синтаксиса класса или функционального API для создания перечисления - это ваше решение, которое в основном зависит от вашего вкуса и конкретных условий. Однако если вы хотите создавать перечисления динамически, то функциональный API может быть вашим единственным вариантом.\n",
    "\n",
    "Рассмотрим следующий пример, в котором вы создаете перечисление с элементами, предоставленными пользователем:"
   ]
  },
  {
   "cell_type": "code",
   "execution_count": 93,
   "metadata": {},
   "outputs": [
    {
     "data": {
      "text/plain": [
       "[<DynamicEnum.YES: 1>, <DynamicEnum.NO: 2>]"
      ]
     },
     "execution_count": 93,
     "metadata": {},
     "output_type": "execute_result"
    }
   ],
   "source": [
    "from enum import Enum\n",
    "\n",
    "names = []\n",
    "while True:\n",
    "    name = input(\"Member name: \")\n",
    "    if name in {\"q\", \"Q\"}:\n",
    "        break\n",
    "    names.append(name.upper())\n",
    "\n",
    "# Member name: YES\n",
    "# Member name: NO\n",
    "# Member name: q\n",
    "\n",
    "\n",
    "\n",
    "DynamicEnum = Enum(\"DynamicEnum\", names)\n",
    "list(DynamicEnum)"
   ]
  },
  {
   "attachments": {},
   "cell_type": "markdown",
   "metadata": {},
   "source": [
    "Этот пример немного экстремален, потому что создание любого объекта на основе пользовательского ввода - довольно рискованная практика, учитывая, что вы не можете предсказать, что введет пользователь. Однако этот пример призван показать, что функциональный API - это то, что нужно, когда вам нужно динамически создавать перечисления."
   ]
  },
  {
   "attachments": {},
   "cell_type": "markdown",
   "metadata": {},
   "source": [
    "Наконец, если вам нужно задать пользовательские значения для элементов перечисления, то в качестве аргумента names вы можете использовать iterable object пар имя-значение. В приведенном ниже примере для инициализации всех элементов перечисления используется список кортежей имя-значение:"
   ]
  },
  {
   "cell_type": "code",
   "execution_count": 94,
   "metadata": {},
   "outputs": [
    {
     "data": {
      "text/plain": [
       "[<HTTPStatusCode.OK: 200>,\n",
       " <HTTPStatusCode.CREATED: 201>,\n",
       " <HTTPStatusCode.BAD_REQUEST: 400>,\n",
       " <HTTPStatusCode.NOT_FOUND: 404>,\n",
       " <HTTPStatusCode.SERVER_ERROR: 500>]"
      ]
     },
     "execution_count": 94,
     "metadata": {},
     "output_type": "execute_result"
    }
   ],
   "source": [
    "from enum import Enum\n",
    "\n",
    "HTTPStatusCode = Enum(\n",
    "    value=\"HTTPStatusCode\",\n",
    "    names=[\n",
    "        (\"OK\", 200),\n",
    "        (\"CREATED\", 201),\n",
    "        (\"BAD_REQUEST\", 400),\n",
    "        (\"NOT_FOUND\", 404),\n",
    "        (\"SERVER_ERROR\", 500),\n",
    "    ],\n",
    ")\n",
    "\n",
    "list(HTTPStatusCode)"
   ]
  },
  {
   "attachments": {},
   "cell_type": "markdown",
   "metadata": {},
   "source": [
    "Предоставление списка кортежей имя-значение, как вы сделали выше, позволяет создать перечисление HTTPStatusCode с пользовательскими значениями для элементов. В этом примере, если вы не хотите использовать список кортежей \"имя-значение\", вы также можете использовать словарь, который сопоставляет имена со значениями."
   ]
  },
  {
   "attachments": {},
   "cell_type": "markdown",
   "metadata": {},
   "source": [
    "## Использование перечислений в операторах if и match\n",
    "Продолжаем перечесление\n",
    "\n",
    "Цепочки операторов if ... elif и относительно новый оператор match ... case являются распространенными и, вероятно, естественными местами, где вы можете использовать перечисления. Обе конструкции позволяют вам предпринимать различные действия в зависимости от определенных условий.\n",
    "\n",
    "Например, допустим, у вас есть часть кода, которая обрабатывает семафор, или светофор, в приложении управления движением. Вы должны выполнять различные действия в зависимости от текущего состояния семафора. В этой ситуации вы можете использовать перечисление для представления семафора и его огней. Затем вы можете использовать цепочку операторов if ... elif, чтобы решить, какое действие нужно выполнить:"
   ]
  },
  {
   "cell_type": "code",
   "execution_count": 108,
   "metadata": {},
   "outputs": [
    {
     "name": "stdout",
     "output_type": "stream",
     "text": [
      "You can continue!\n",
      "Light will change to red, be careful!\n",
      "You must stop!\n"
     ]
    }
   ],
   "source": [
    "from enum import Enum\n",
    "\n",
    "class Semaphore(Enum):\n",
    "    RED = 1\n",
    "    YELLOW = 2\n",
    "    GREEN = 3\n",
    "\n",
    "\n",
    "def handle_semaphore(light):\n",
    "    if light is Semaphore.RED:\n",
    "        print(\"You must stop!\")\n",
    "    elif light is Semaphore.YELLOW:\n",
    "        print(\"Light will change to red, be careful!\")\n",
    "    elif light is Semaphore.GREEN:\n",
    "        print(\"You can continue!\")\n",
    "\n",
    "\n",
    "handle_semaphore(Semaphore.GREEN)\n",
    "# You can continue!\n",
    "\n",
    "handle_semaphore(Semaphore.YELLOW)\n",
    "# Light will change to red, be careful!\n",
    "\n",
    "handle_semaphore(Semaphore.RED)\n",
    "# You must stop!"
   ]
  },
  {
   "attachments": {},
   "cell_type": "markdown",
   "metadata": {},
   "source": [
    "Цепочка операторов if ... elif в вашей функции handle_semaphore() проверяет значение текущего индикатора, чтобы решить, какое действие предпринять. Обратите внимание, что вызовы print() в handle_semaphore() - это всего лишь условные обозначения. В реальном коде вы бы заменили их более сложными операциями.\n",
    "\n",
    "Если вы используете Python 3.10 или выше, то вы можете быстро превратить приведенную выше цепочку операторов if ... elif в эквивалентный оператор match ... case:"
   ]
  },
  {
   "cell_type": "code",
   "execution_count": 109,
   "metadata": {},
   "outputs": [
    {
     "name": "stdout",
     "output_type": "stream",
     "text": [
      "You can continue!\n",
      "Light will change to red, be careful!\n",
      "You must stop!\n"
     ]
    }
   ],
   "source": [
    "from enum import Enum\n",
    "\n",
    "class Semaphore(Enum):\n",
    "    RED = 1\n",
    "    YELLOW = 2\n",
    "    GREEN = 3\n",
    "\n",
    "\n",
    "def handle_semaphore(light):\n",
    "    match light:\n",
    "        case Semaphore.RED:\n",
    "            print(\"You must stop!\")\n",
    "        case Semaphore.YELLOW:\n",
    "            print(\"Light will change to red, be careful!\")\n",
    "        case Semaphore.GREEN:\n",
    "            print(\"You can continue!\")\n",
    "\n",
    "\n",
    "handle_semaphore(Semaphore.GREEN)\n",
    "\n",
    "\n",
    "handle_semaphore(Semaphore.YELLOW)\n",
    "\n",
    "\n",
    "handle_semaphore(Semaphore.RED)"
   ]
  },
  {
   "attachments": {},
   "cell_type": "markdown",
   "metadata": {},
   "source": [
    "Эта новая реализация handle_semaphore() эквивалентна предыдущей реализации, использующей операторы if ... elif. Использование любой из этих методик - дело вкуса и стиля. Обе техники работают хорошо и сравнимы по удобочитаемости. Однако обратите внимание, что если вам нужно гарантировать обратную совместимость с версиями Python ниже 3.10, то вы должны использовать цепочку операторов if ... elif.\n",
    "\n",
    "Наконец, обратите внимание, что, несмотря на то, что перечисления хорошо сочетаются с операторами if ... elif и match ... case, вы должны помнить, что эти операторы не очень хорошо масштабируются. Если вы добавите новые члены в целевое перечисление, то вам придется обновить функцию обработки, чтобы учесть эти новые члены."
   ]
  },
  {
   "attachments": {},
   "cell_type": "markdown",
   "metadata": {},
   "source": [
    "## Резюмируем:\n",
    "\n",
    "* Перечисление - это набор элементов, которые имеют связанные с ними уникальные постоянные значения.\n",
    "* Создайте новое перечисление, определив класс, который наследуется от типа Enum модуля enum.\n",
    "* Элементы имеют те же типы, что и перечисление, к которому они принадлежат.\n",
    "* Используйте ```enumeration[member_name]``` для доступа к элементу по его имени и ```enumeration(member_value)``` для доступа к элементу по его значению.\n",
    "* Перечисления являются итерируемыми.\n",
    "* Элементы перечислений хэшируются.\n",
    "* Перечислимые являются неизменяемыми.\n",
    "* Перечисление не может наследоваться от перечисления, если оно имеет элементы."
   ]
  },
  {
   "attachments": {},
   "cell_type": "markdown",
   "metadata": {},
   "source": [
    "# Псевдонимы Enum в Python и декоратор @enum.unique\n",
    "Python Enum aliases & @enum.unique Decorator\n",
    "\n",
    "Рассмотрим псевдонимы элементов перечисления и о том, как использовать декоратор enum unique для обеспечения уникальности значений элементов перечисления."
   ]
  },
  {
   "attachments": {},
   "cell_type": "markdown",
   "metadata": {},
   "source": [
    "## Введение в псевдонимы перечисления\n",
    "\n",
    "По определению, значения членов перечисления уникальны. Однако вы можете создавать различные имена членов с одинаковыми значениями.\n",
    "\n",
    "Например, ниже определено перечисление ```Color```:"
   ]
  },
  {
   "cell_type": "code",
   "execution_count": 29,
   "metadata": {},
   "outputs": [],
   "source": [
    "from enum import Enum\n",
    "\n",
    "\n",
    "class Color(Enum):\n",
    "    RED = 1\n",
    "    CRIMSON = 1 # малиновый\n",
    "    SALMON = 1 # светло-розовый\n",
    "    GREEN = 2\n",
    "    BLUE = 3"
   ]
  },
  {
   "attachments": {},
   "cell_type": "markdown",
   "metadata": {},
   "source": [
    "В этом примере перечисление ```Color``` имеет элементы ```RED```, ```CRIMSON``` и ```SALMON``` с одинаковым значением 1.\n",
    "\n",
    "Когда вы определяете несколько элементов в перечислении с одинаковыми значениями, Python создает не разные элементы, а псевдонимы.\n",
    "\n",
    "В этом примере ```RED``` является основным элементов, а ```CRIMSON``` и ```SALMON``` являются псевдонимами элемента ```RED```.\n",
    "\n",
    "Следующие утверждения возвращают True, потому что элементы ```CRIMSON``` и ```SALMON``` являются псевдонимами элемента ```RED```:"
   ]
  },
  {
   "cell_type": "code",
   "execution_count": 30,
   "metadata": {},
   "outputs": [
    {
     "name": "stdout",
     "output_type": "stream",
     "text": [
      "True\n",
      "True\n"
     ]
    }
   ],
   "source": [
    "print(Color.RED is Color.CRIMSON)\n",
    "print(Color.RED is Color.SALMON)"
   ]
  },
  {
   "attachments": {},
   "cell_type": "markdown",
   "metadata": {},
   "source": [
    "Когда вы ищете элемент по значению, вы всегда получаете основной элемент, а не псевдонимы. Например, следующий оператор возвращает элемент RED:"
   ]
  },
  {
   "cell_type": "code",
   "execution_count": 31,
   "metadata": {},
   "outputs": [
    {
     "name": "stdout",
     "output_type": "stream",
     "text": [
      "Color.RED\n"
     ]
    }
   ],
   "source": [
    "print(Color(1))"
   ]
  },
  {
   "attachments": {},
   "cell_type": "markdown",
   "metadata": {},
   "source": [
    "Когда вы итерируете элементы перечисления с псевдонимами, вы получите только основные элементы, а не псевдонимы. Например:"
   ]
  },
  {
   "cell_type": "code",
   "execution_count": 32,
   "metadata": {},
   "outputs": [
    {
     "name": "stdout",
     "output_type": "stream",
     "text": [
      "Color.RED\n",
      "Color.GREEN\n",
      "Color.BLUE\n"
     ]
    }
   ],
   "source": [
    "for color in Color:\n",
    "    print(color)"
   ]
  },
  {
   "attachments": {},
   "cell_type": "markdown",
   "metadata": {},
   "source": [
    "Чтобы получить все элементы, включая псевдонимы, необходимо использовать специальный атрибут ```__member__``` класса перечисления (the ```__member__``` property of the enumeration class.). \n",
    "(mappingproxy object)\n",
    "Например:"
   ]
  },
  {
   "cell_type": "code",
   "execution_count": null,
   "metadata": {},
   "outputs": [],
   "source": [
    "from enum import Enum\n",
    "from pprint import pprint\n",
    "\n",
    "\n",
    "class Color(Enum):\n",
    "    RED = 1\n",
    "    CRIMSON = 1\n",
    "    SALMON = 1\n",
    "    GREEN = 2\n",
    "    BLUE = 3\n",
    "\n",
    "\n",
    "pprint(Color.__members__)"
   ]
  },
  {
   "attachments": {},
   "cell_type": "markdown",
   "metadata": {},
   "source": [
    "```\n",
    "mappingproxy({'BLUE': <Color.BLUE: 3>,\n",
    "              'CRIMSON': <Color.RED: 1>,\n",
    "              'GREEN': <Color.GREEN: 2>,\n",
    "              'RED': <Color.RED: 1>,\n",
    "              'SALMON': <Color.RED: 1>})\n",
    "```"
   ]
  },
  {
   "attachments": {},
   "cell_type": "markdown",
   "metadata": {},
   "source": [
    "Как видно из вывода, ```CRIMSON``` и ```SALMON``` ссылаются на один и тот же объект, на который ссылается элемент ```RED```:\n",
    "```\n",
    "<Color.RED: 1>\n",
    "```"
   ]
  },
  {
   "cell_type": "code",
   "execution_count": 100,
   "metadata": {},
   "outputs": [
    {
     "name": "stdout",
     "output_type": "stream",
     "text": [
      "[<OperatingSystem.UBUNTU: 'linux'>, <OperatingSystem.MACOS: 'darwin'>, <OperatingSystem.WINDOWS: 'win'>]\n"
     ]
    },
    {
     "data": {
      "text/plain": [
       "'UBUNTU'"
      ]
     },
     "execution_count": 100,
     "metadata": {},
     "output_type": "execute_result"
    }
   ],
   "source": [
    "from enum import Enum\n",
    "\n",
    "class OperatingSystem(Enum):\n",
    "    UBUNTU = \"linux\"\n",
    "    MACOS = \"darwin\"\n",
    "    WINDOWS = \"win\"\n",
    "    DEBIAN = \"linux\"\n",
    "\n",
    "\n",
    "# Aliases aren't listed\n",
    "print(list(OperatingSystem))\n",
    "\n",
    "# To access aliases, use __members__\n",
    "list(OperatingSystem.__members__.items())"
   ]
  },
  {
   "attachments": {},
   "cell_type": "markdown",
   "metadata": {},
   "source": [
    "## Когда использовать псевдонимы перечислений\n",
    "When to use enum aliases\n",
    "\n",
    "Псевдонимы перечислений могут быть полезны в некоторых ситуациях. Например, предположим, что вам приходится иметь дело с API из двух разных систем. И каждая система имеет свой статус ответа с одинаковым значением, как показано в следующей таблице:"
   ]
  },
  {
   "attachments": {},
   "cell_type": "markdown",
   "metadata": {},
   "source": [
    "<table><thead><tr><th> System 1</th><th>System 2</th><th>Meaning</th></tr></thead><tbody><tr><td>REQUESTING</td><td>PENDING</td><td>The request is in progress</td></tr><tr><td>OK</td><td>FULFILLED</td><td>The request was completed successfully</td></tr><tr><td>NOT_OK</td><td>REJECTED</td><td>The request was failed</td></tr></tbody></table>"
   ]
  },
  {
   "attachments": {},
   "cell_type": "markdown",
   "metadata": {},
   "source": [
    "Чтобы стандартизировать коды состояния этих систем, можно использовать следующие псевдонимы перечислений:"
   ]
  },
  {
   "attachments": {},
   "cell_type": "markdown",
   "metadata": {},
   "source": [
    "<table><thead><tr><th>Your System</th><th> System 1</th><th>System 2</th><th>Meaning</th></tr></thead><tbody><tr><td>IN_PROGRESS</td><td>REQUESTING</td><td>PENDING</td><td>The request is in progress</td></tr><tr><td>SUCCESS</td><td>OK</td><td>FULFILLED</td><td>The request was completed successfully</td></tr><tr><td>ERROR</td><td>NOT_OK</td><td>REJECTED</td><td>The request was failed</td></tr></tbody></table>"
   ]
  },
  {
   "attachments": {},
   "cell_type": "markdown",
   "metadata": {},
   "source": [
    "Ниже определено перечисление ResponseStatus с псевдонимами:"
   ]
  },
  {
   "cell_type": "code",
   "execution_count": 34,
   "metadata": {},
   "outputs": [],
   "source": [
    "from enum import Enum\n",
    "\n",
    "\n",
    "class ResponseStatus(Enum):\n",
    "    # in progress\n",
    "    IN_PROGRESS = 1\n",
    "    REQUESTING = 1\n",
    "    PENDING = 1\n",
    "\n",
    "    # success\n",
    "    SUCCESS = 2\n",
    "    OK = 2\n",
    "    FULFILLED = 2\n",
    "\n",
    "    # error\n",
    "    ERROR = 3\n",
    "    NOT_OK = 3\n",
    "    REJECTED = 3"
   ]
  },
  {
   "attachments": {},
   "cell_type": "markdown",
   "metadata": {},
   "source": [
    "Ниже сравнивается код ответа от системы 1, чтобы проверить, был ли запрос успешным или нет:"
   ]
  },
  {
   "cell_type": "code",
   "execution_count": 37,
   "metadata": {},
   "outputs": [
    {
     "name": "stdout",
     "output_type": "stream",
     "text": [
      "The request completed successfully\n"
     ]
    }
   ],
   "source": [
    "code = 'OK'\n",
    "if ResponseStatus[code] is ResponseStatus.SUCCESS:\n",
    "    print('The request completed successfully')"
   ]
  },
  {
   "attachments": {},
   "cell_type": "markdown",
   "metadata": {},
   "source": [
    "Аналогичным образом, вы можете проверить код ответа системы 2, чтобы узнать, был ли запрос успешным:"
   ]
  },
  {
   "cell_type": "code",
   "execution_count": 36,
   "metadata": {},
   "outputs": [
    {
     "name": "stdout",
     "output_type": "stream",
     "text": [
      "The request completed successfully\n"
     ]
    }
   ],
   "source": [
    "code = 'FULFILLED'\n",
    "if ResponseStatus[code] is ResponseStatus.SUCCESS:\n",
    "    print('The request completed successfully')"
   ]
  },
  {
   "attachments": {},
   "cell_type": "markdown",
   "metadata": {},
   "source": [
    "## @enum.unique decorator\n",
    "\n",
    "Чтобы определить перечисление без псевдонимов, можно аккуратно использовать уникальные значения для элементов.\n",
    "\n",
    "Например:"
   ]
  },
  {
   "cell_type": "code",
   "execution_count": null,
   "metadata": {},
   "outputs": [],
   "source": [
    "from enum import Enum\n",
    "\n",
    "\n",
    "class Day(Enum):\n",
    "    MON = 'Monday'\n",
    "    TUE = 'Tuesday'\n",
    "    WED = 'Wednesday'\n",
    "    THU = 'Thursday'\n",
    "    FRI = 'Friday'\n",
    "    SAT = 'Saturday'\n",
    "    SUN = 'Sunday'"
   ]
  },
  {
   "attachments": {},
   "cell_type": "markdown",
   "metadata": {},
   "source": [
    "Но вы можете **случайно** использовать одинаковые значения для двух элементов, как в этом случае:"
   ]
  },
  {
   "cell_type": "code",
   "execution_count": null,
   "metadata": {},
   "outputs": [],
   "source": [
    "class Day(Enum):\n",
    "    MON = 'Monday'\n",
    "    TUE = 'Monday'\n",
    "    WED = 'Wednesday'\n",
    "    THU = 'Thursday'\n",
    "    FRI = 'Friday'\n",
    "    SAT = 'Saturday'\n",
    "    SUN = 'Sunday'"
   ]
  },
  {
   "attachments": {},
   "cell_type": "markdown",
   "metadata": {},
   "source": [
    "В этом примере элемент ```TUE``` является псевдонимом элемента ```MON```, чего вы, возможно, не ожидали.\n",
    "\n",
    "Чтобы перечисление не имело псевдонимов, можно использовать декоратор @enum.unique из модуля enum.\n",
    "\n",
    "Когда вы \"украсите\" перечисление декоратором ```@enum.unique```, Python выдаст исключение, если перечисление имеет псевдонимы.\n",
    "\n",
    "Например, следующий пример вызовет ошибку ValueError:"
   ]
  },
  {
   "cell_type": "code",
   "execution_count": null,
   "metadata": {},
   "outputs": [],
   "source": [
    "import enum\n",
    "\n",
    "from enum import Enum\n",
    "\n",
    "\n",
    "@enum.unique\n",
    "class Day(Enum):\n",
    "    MON = 'Monday'\n",
    "    TUE = 'Monday'\n",
    "    WED = 'Wednesday'\n",
    "    THU = 'Thursday'\n",
    "    FRI = 'Friday'\n",
    "    SAT = 'Saturday'\n",
    "    SUN = 'Sunday'\n",
    "\n",
    "# ValueError: duplicate values found in : TUE -> MON"
   ]
  },
  {
   "attachments": {},
   "cell_type": "markdown",
   "metadata": {},
   "source": [
    "Пример с другим импортом:"
   ]
  },
  {
   "cell_type": "code",
   "execution_count": null,
   "metadata": {},
   "outputs": [],
   "source": [
    "from enum import Enum, unique\n",
    "\n",
    "@unique \n",
    "class OperatingSystem(Enum):\n",
    "    UBUNTU = \"linux\"\n",
    "    MACOS = \"darwin\"\n",
    "    WINDOWS = \"win\"\n",
    "    DEBIAN = \"linux\""
   ]
  },
  {
   "attachments": {},
   "cell_type": "markdown",
   "metadata": {},
   "source": [
    "## Резюмируем\n",
    "\n",
    "* Когда перечисление имеет различные элементы с одинаковыми значениями, первый элемент является основным, а остальные - псевдонимами основного элемента.\n",
    "* Используйте декоратор ```@enum.unique``` из модуля ```enum``` для обеспечения уникальности значений элементов."
   ]
  },
  {
   "attachments": {},
   "cell_type": "markdown",
   "metadata": {},
   "source": [
    "## Сортировка перечислений\n",
    "По умолчанию перечисления в Python не поддерживают операторы сравнения >, <, >= и <=. Поэтому вы не можете сортировать элементы перечисления с помощью встроенной функции sorted() напрямую, как в примере ниже:"
   ]
  },
  {
   "cell_type": "code",
   "execution_count": null,
   "metadata": {},
   "outputs": [],
   "source": [
    ">>> from enum import Enum\n",
    "\n",
    ">>> class Season(Enum):\n",
    "...     SPRING = 1\n",
    "...     SUMMER = 2\n",
    "...     AUTUMN = 3\n",
    "...     WINTER = 4\n",
    "...\n",
    "\n",
    ">>> sorted(Season)\n",
    "# Traceback (most recent call last):\n",
    "#     ...\n",
    "# TypeError: '<' not supported between instances of 'Season' and 'Season'"
   ]
  },
  {
   "attachments": {},
   "cell_type": "markdown",
   "metadata": {},
   "source": [
    "Когда вы используете перечисление в качестве аргумента sorted(), вы получаете ошибку типа TypeError, поскольку перечисления не поддерживают оператор <. Однако существует способ успешно сортировать перечисления по именам и значениям их элементов, используя аргумент key в вызове sorted()."
   ]
  },
  {
   "cell_type": "code",
   "execution_count": null,
   "metadata": {},
   "outputs": [],
   "source": [
    ">>> sorted(Season, key=lambda season: season.value) # By value\n",
    "# [\n",
    "#     <Season.SPRING: 1>,\n",
    "#     <Season.SUMMER: 2>,\n",
    "#     <Season.AUTUMN: 3>,\n",
    "#     <Season.WINTER: 4>\n",
    "# ]\n",
    "\n",
    ">>> sorted(Season, key=lambda season: season.name) # By name\n",
    "# [\n",
    "#     <Season.AUTUMN: 3>,\n",
    "#     <Season.SPRING: 1>,\n",
    "#     <Season.SUMMER: 2>,\n",
    "#     <Season.WINTER: 4>\n",
    "# ]"
   ]
  },
  {
   "attachments": {},
   "cell_type": "markdown",
   "metadata": {},
   "source": [
    "Используем лямбда-функцию, которая принимает элемент перечисления в качестве аргумента и возвращает его атрибут .value/.name. "
   ]
  },
  {
   "attachments": {},
   "cell_type": "markdown",
   "metadata": {},
   "source": [
    "# Настройка и расширение класса Enum в Python\n",
    "Customize and Extend Python Enum Class\n",
    "\n",
    "Настройка классов перечислений Python\n",
    "\n",
    "Иногда вам может понадобиться обеспечить перечислениям пользовательское поведение.\n",
    "\n",
    "Перечисления - это классы со специальными возможностями. Как и обычные классы, перечисления могут иметь методы и специальные методы. Вы можете добавлять к ним методы или реализовывать методы перечисления для настройки их поведения.\n",
    "\n",
    "Следующий пример определяет класс перечисления ```PaymentStatus```:"
   ]
  },
  {
   "cell_type": "code",
   "execution_count": 39,
   "metadata": {},
   "outputs": [],
   "source": [
    "from enum import Enum\n",
    "\n",
    "\n",
    "class PaymentStatus(Enum):\n",
    "    PENDING = 1 # В ожидании\n",
    "    COMPLETED = 2 # Завершено\n",
    "    REFUNDED = 3 # Возвращено"
   ]
  },
  {
   "attachments": {},
   "cell_type": "markdown",
   "metadata": {},
   "source": [
    "Перечисление ```PaymentStatus``` имеет три элемента: ```PENDING```, ```COMPLETED``` и ```REFUND```.\n",
    "\n",
    "Ниже отображается элемент перечисления ```PaymentStatus```:\n",
    "```Py\n",
    "print(PaymentStatus.PENDING)\n",
    "```\n",
    "Output:\n",
    "```\n",
    "PaymentStatus.PENDING\n",
    "```\n",
    "Язык кода: Python (python)\n",
    "Чтобы настроить стринговое представление элемента ```PaymentStatus```, вы можете реализовать метод __str__. Например:"
   ]
  },
  {
   "cell_type": "code",
   "execution_count": 41,
   "metadata": {},
   "outputs": [
    {
     "name": "stdout",
     "output_type": "stream",
     "text": [
      "pending(1)\n"
     ]
    }
   ],
   "source": [
    "from enum import Enum\n",
    "\n",
    "\n",
    "class PaymentStatus(Enum):\n",
    "    PENDING = 1 \n",
    "    COMPLETED = 2\n",
    "    REFUNDED = 3\n",
    "\n",
    "    def __str__(self):\n",
    "        return f'{self.name.lower()}({self.value})'\n",
    "\n",
    "\n",
    "print(PaymentStatus.PENDING)"
   ]
  },
  {
   "attachments": {},
   "cell_type": "markdown",
   "metadata": {},
   "source": [
    "### Реализация метода ```__eq__```\n",
    "\n",
    "Ниже приведена попытка сравнить элемент класса перечисления PaymentStatus с целым числом:\n",
    "\n",
    "```Py\n",
    "if PaymentStatus.PENDING == 1:\n",
    "    print('The payment is pending.')\n",
    "```"
   ]
  },
  {
   "attachments": {},
   "cell_type": "markdown",
   "metadata": {},
   "source": [
    "Он ничего не выведет, потому что PaymentStatus.PENDING не равен целому числу 1.\n",
    "\n",
    "Чтобы разрешить сравнение между элементом PaymentStatus и целым числом, вы можете реализовать метод ```__eq__``` следующим образом:"
   ]
  },
  {
   "cell_type": "code",
   "execution_count": 44,
   "metadata": {},
   "outputs": [
    {
     "name": "stdout",
     "output_type": "stream",
     "text": [
      "The payment is pending.\n"
     ]
    }
   ],
   "source": [
    "from enum import Enum\n",
    "\n",
    "\n",
    "class PaymentStatus(Enum):\n",
    "    PENDING = 1\n",
    "    COMPLETED = 2\n",
    "    REFUNDED = 3\n",
    "\n",
    "    def __str__(self):\n",
    "        return f'{self.name.lower()}({self.value})'\n",
    "\n",
    "    def __eq__(self, other):\n",
    "        if isinstance(other, int):\n",
    "            return self.value == other\n",
    "\n",
    "        if isinstance(other, PaymentStatus):\n",
    "            return self is other\n",
    "\n",
    "        return False\n",
    "\n",
    "\n",
    "if PaymentStatus.PENDING == 1:\n",
    "    print('The payment is pending.')"
   ]
  },
  {
   "attachments": {},
   "cell_type": "markdown",
   "metadata": {},
   "source": [
    "В методе ```__eq__```:\n",
    "\n",
    "* Если сравниваемое значение является целым числом, то сравнивается значение элемента с целым числом.\n",
    "* Если сравниваемое значение является экземпляром перечисления PaymentStatus, то сравнивается значение с элементом перечисления PaymentStatus с помощью оператора is.\n",
    "* В противном случае возвращается False.\n",
    "\n",
    "Программа работает, как и ожидалось, и возвращает следующий результат:"
   ]
  },
  {
   "attachments": {},
   "cell_type": "markdown",
   "metadata": {},
   "source": [
    "###  Реализация метода ```__lt__```\n",
    "\n",
    "Предположим, что вы хотите, чтобы элементы ```PaymentStatus``` имели порядок сортировки, основанный на их значении. И вы также хотите сравнить их с целым числом.\n",
    "\n",
    "Для этого вы можете реализовать метод ```__lt__``` и использовать декоратор ```@total_ordering``` из модуля ```functools```:"
   ]
  },
  {
   "cell_type": "code",
   "execution_count": 52,
   "metadata": {},
   "outputs": [
    {
     "name": "stdout",
     "output_type": "stream",
     "text": [
      "The payment has not completed\n"
     ]
    }
   ],
   "source": [
    "from enum import Enum\n",
    "from functools import total_ordering\n",
    "\n",
    "\n",
    "@total_ordering\n",
    "class PaymentStatus(Enum):\n",
    "    PENDING = 1\n",
    "    COMPLETED = 2\n",
    "    REFUNDED = 3\n",
    "\n",
    "    def __str__(self):\n",
    "        return f'{self.name.lower()}({self.value})'\n",
    "\n",
    "    def __eq__(self, other):\n",
    "        if isinstance(other, int):\n",
    "            return self.value == other\n",
    "\n",
    "        if isinstance(other, PaymentStatus):\n",
    "            return self is other\n",
    "\n",
    "        return False\n",
    "\n",
    "    def __lt__(self, other):\n",
    "        if isinstance(other, int):\n",
    "            return self.value < other\n",
    "\n",
    "        if isinstance(other, PaymentStatus):\n",
    "            return self.value < other.value\n",
    "\n",
    "        return False\n",
    "\n",
    "\n",
    "# compare with an integer\n",
    "status = 1\n",
    "if status < PaymentStatus.COMPLETED: # 1 < 2\n",
    "    print('The payment has not completed')\n",
    "\n",
    "# compare with another member\n",
    "status = PaymentStatus.PENDING\n",
    "if status >= PaymentStatus.COMPLETED: # 1 >= 2\n",
    "    print('The payment is not pending')"
   ]
  },
  {
   "attachments": {},
   "cell_type": "markdown",
   "metadata": {},
   "source": [
    "### FUNCTOOLS.TOTAL_ORDERING\n",
    "Декоратор для классов, упрощающий реализацию сравнений.\n",
    "\n",
    "Описываемый декоратор, позволяет для классов, в которых определён ```__eq__()```, а также один из \n",
    "```__lt__(), __gt__(), __le__(), __ge__()```, сгенерировать остальные методы автоматически.\n",
    "\n",
    "Главный минус - замедление исполнения."
   ]
  },
  {
   "attachments": {},
   "cell_type": "markdown",
   "metadata": {},
   "source": [
    "## Реализация метода ```__bool__```\n",
    "\n",
    "По умолчанию все элементы перечисления являются истинными. Например:"
   ]
  },
  {
   "cell_type": "code",
   "execution_count": 53,
   "metadata": {},
   "outputs": [
    {
     "name": "stdout",
     "output_type": "stream",
     "text": [
      "pending(1) True\n",
      "completed(2) True\n",
      "refunded(3) True\n"
     ]
    }
   ],
   "source": [
    "for member in PaymentStatus:\n",
    "    print(member, bool(member))"
   ]
  },
  {
   "attachments": {},
   "cell_type": "markdown",
   "metadata": {},
   "source": [
    "Чтобы настроить это поведение, вам нужно реализовать метод ```__bool__```. Предположим, вы хотите, чтобы элементы ```COMPLETED``` и ```REFUNDED``` были True, а ```PENDING``` - False.\n",
    "\n",
    "Ниже показано, как реализовать эту логику:"
   ]
  },
  {
   "cell_type": "code",
   "execution_count": 54,
   "metadata": {},
   "outputs": [
    {
     "name": "stdout",
     "output_type": "stream",
     "text": [
      "pending(1) False\n",
      "completed(2) True\n",
      "refunded(3) False\n"
     ]
    }
   ],
   "source": [
    "from enum import Enum\n",
    "from functools import total_ordering\n",
    "\n",
    "\n",
    "@total_ordering\n",
    "class PaymentStatus(Enum):\n",
    "    PENDING = 1\n",
    "    COMPLETED = 2\n",
    "    REFUNDED = 3\n",
    "\n",
    "    def __str__(self):\n",
    "        return f'{self.name.lower()}({self.value})'\n",
    "\n",
    "    def __eq__(self, other):\n",
    "        if isinstance(other, int):\n",
    "            return self.value == other\n",
    "\n",
    "        if isinstance(other, PaymentStatus):\n",
    "            return self is other\n",
    "\n",
    "        return False\n",
    "\n",
    "    def __lt__(self, other):\n",
    "        if isinstance(other, int):\n",
    "            return self.value < other\n",
    "\n",
    "        if isinstance(other, PaymentStatus):\n",
    "            return self.value < other.value\n",
    "\n",
    "        return False\n",
    "\n",
    "    def __bool__(self):\n",
    "        if self is self.COMPLETED:\n",
    "            return True\n",
    "\n",
    "        return False\n",
    "\n",
    "\n",
    "for member in PaymentStatus:\n",
    "    print(member, bool(member))"
   ]
  },
  {
   "attachments": {},
   "cell_type": "markdown",
   "metadata": {},
   "source": [
    "Рассмотрим следующий пример, из документации Py:"
   ]
  },
  {
   "cell_type": "code",
   "execution_count": null,
   "metadata": {},
   "outputs": [],
   "source": [
    ">>> from enum import Enum\n",
    "\n",
    ">>> class Mood(Enum):\n",
    "...     FUNKY = 1\n",
    "...     MAD = 2\n",
    "...     HAPPY = 3\n",
    "...\n",
    "...     def describe_mood(self):\n",
    "...         return self.name, self.value\n",
    "...\n",
    "...     def __str__(self):\n",
    "...         return f\"I feel {self.name}\"\n",
    "...\n",
    "...     @classmethod\n",
    "...     def favorite_mood(cls):\n",
    "...         return cls.HAPPY\n",
    "...\n",
    "\n",
    ">>> Mood.HAPPY.describe_mood()\n",
    "# ('HAPPY', 3)\n",
    "\n",
    ">>> print(Mood.HAPPY)\n",
    "# I feel HAPPY\n",
    "\n",
    ">>> Mood.favorite_mood()\n",
    "# <Mood.HAPPY: 3>"
   ]
  },
  {
   "attachments": {},
   "cell_type": "markdown",
   "metadata": {},
   "source": [
    "В этом примере у вас есть перечисление Mood с тремя элементами. Обычные методы, такие как .describe_mood(), связаны с экземплярами содержащего их перечисления, которые являются элементами перечисления. Таким образом, вы должны вызывать обычные методы на элементах перечисления, а не на самом классе перечисления.\n",
    "\n",
    "Примечание: Помните, что перечисления Python не могут быть инстанцированы. Элементы перечисления - это допустимые экземпляры перечисления. Таким образом, параметр self представляет текущий элемент перечисления.\n",
    "\n",
    "Аналогично, специальный метод ```.__str__()``` работает с элементами, предоставляя красивое печатное представление каждого элемента.\n",
    "\n",
    "Наконец, метод .favorite_mood() - это метод класса, который работает с самим классом или перечислением. Методы класса, подобные этому, обеспечивают доступ ко всем элементам перечисления изнутри класса."
   ]
  },
  {
   "attachments": {},
   "cell_type": "markdown",
   "metadata": {},
   "source": [
    "## Смешивание перечислений с другими типами\n",
    "Mixing Enumerations With Other Types\n",
    "\n",
    "Python поддерживает множественное наследование как часть своих объектно-ориентированных возможностей. Это означает, что в Python вы можете наследовать несколько классов при создании иерархии классов. Множественное наследование удобно, когда вы хотите повторно использовать функциональность нескольких классов одновременно.\n",
    "\n",
    "Распространенной практикой в объектно-ориентированном программировании является использование так называемых классов-миксинов. Эти классы предоставляют функциональность, которую могут использовать другие классы. В Python вы можете добавить классы mixin в список родителей данного класса, чтобы автоматически получить функциональность mixin.\n",
    "\n",
    "Например, допустим, вам нужно перечисление, поддерживающее целочисленное сравнение. В этом случае вы можете использовать встроенный тип int в качестве миксина при определении своего перечисления:"
   ]
  },
  {
   "cell_type": "code",
   "execution_count": 116,
   "metadata": {},
   "outputs": [
    {
     "data": {
      "text/plain": [
       "False"
      ]
     },
     "execution_count": 116,
     "metadata": {},
     "output_type": "execute_result"
    }
   ],
   "source": [
    ">>> from enum import Enum\n",
    "\n",
    ">>> class Size(int, Enum):\n",
    "...     S = 1\n",
    "...     M = 2\n",
    "...     L = 3\n",
    "...     XL = 4\n",
    "...\n",
    "\n",
    ">>> Size.S > Size.M\n",
    "# False\n",
    ">>> Size.S < Size.M\n",
    "# True\n",
    ">>> Size.L >= Size.M\n",
    "# True\n",
    ">>> Size.L <= Size.M\n",
    "# False\n",
    "\n",
    ">>> Size.L > 2\n",
    "# True\n",
    ">>> Size.M < 1\n",
    "# False"
   ]
  },
  {
   "attachments": {},
   "cell_type": "markdown",
   "metadata": {},
   "source": [
    "В этом примере ваш класс Size наследуется от int и Enum. Наследование от типа int позволяет выполнять прямое сравнение между элементами с помощью операторов сравнения >, <, >= и <=. Оно также позволяет сравнивать элементы Size с целыми числами.\n",
    "\n",
    "Дополнительная типизация для значений перечисления в Python означает, что значения элементов перечисления имеют как тип перечисления, так и тип базового типа данных (например, int, str, float и т.д.). Это позволяет выполнять операции сравнения, арифметические операции и другие операции, которые поддерживаются базовым типом данных, непосредственно на значениях перечисления.\n",
    "\n",
    "Наконец, обратите внимание, что когда вы используете тип данных в качестве миксина, атрибут .value элемента не является тем же самым, что и сам элемент, хотя они эквивалентны и будут сравниваться как таковые. Вот почему вы можете сравнивать элементы Size с целыми числами напрямую."
   ]
  },
  {
   "attachments": {},
   "cell_type": "markdown",
   "metadata": {},
   "source": [
    "Приведенный выше пример показывает, что создание перечислений с помощью классов mixin часто очень полезно, когда вам нужно повторно использовать определенный фрагмент функциональности. Если вы решите использовать эту технику в некоторых своих перечислениях, то вам придется придерживаться следующей сигнатуры:\n",
    "```\n",
    "class EnumName([mixin_type, ...], [data_type,] enum_type):\n",
    "    # Members go here...\n",
    "```"
   ]
  },
  {
   "attachments": {},
   "cell_type": "markdown",
   "metadata": {},
   "source": [
    "Эта сигнатура подразумевает, что вы можете иметь один или несколько классов mixin, не более одного класса типа данных и родительский класс enum, в таком порядке.\n",
    "\n",
    "Рассмотрим следующие примеры:"
   ]
  },
  {
   "cell_type": "code",
   "execution_count": null,
   "metadata": {},
   "outputs": [],
   "source": [
    ">>> from enum import Enum\n",
    "\n",
    ">>> class MixinA:\n",
    "...     def a(self):\n",
    "...         print(f\"MixinA: {self.value}\")\n",
    "...\n",
    "\n",
    ">>> class MixinB:\n",
    "...     def b(self):\n",
    "...         print(f\"MixinB: {self.value}\")\n",
    "...\n",
    "\n",
    ">>> class ValidEnum(MixinA, MixinB, str, Enum):\n",
    "...     MEMBER = \"value\"\n",
    "...\n",
    "\n",
    ">>> ValidEnum.MEMBER.a()  # Call .a() from MixinA\n",
    "# MixinA: value\n",
    "\n",
    ">>> ValidEnum.MEMBER.b()  # Call .b() from MixinB\n",
    "# MixinB: value\n",
    "\n",
    ">>> ValidEnum.MEMBER.upper()  # Call .upper() from str\n",
    "# 'VALUE'\n",
    "\n",
    "\n",
    ">>> class WrongMixinOrderEnum(Enum, MixinA, MixinB):\n",
    "...     MEMBER = \"value\"\n",
    "...\n",
    "# Traceback (most recent call last):\n",
    "#     ...\n",
    "# TypeError: new enumerations should be created as\n",
    "#     `EnumName([mixin_type, ...] [data_type,] enum_type)`\n",
    "\n",
    ">>> class TooManyDataTypesEnum(int, str, Enum):\n",
    "...     MEMBER = \"value\"\n",
    "...\n",
    "# Traceback (most recent call last):\n",
    "#     ...\n",
    "# TypeError: 'TooManyDataTypesEnum': too many data types:\n",
    "#     {<class 'int'>, <class 'str'>}"
   ]
  },
  {
   "attachments": {},
   "cell_type": "markdown",
   "metadata": {},
   "source": [
    "Класс ValidEnum показывает, что в последовательности баз вы должны разместить столько классов-миксинов, сколько вам нужно, но только один тип данных - перед Enum.\n",
    "\n",
    "WrongMixinOrderEnum показывает, что если вы поместите Enum в любую позицию, кроме последней, то получите TypeError с информацией о правильной сигнатуре для использования. Между тем, TooManyDataTypesEnum подтверждает, что ваш список классов-миксинов должен иметь не более одного конкретного типа данных, например, int или str.\n",
    "\n",
    "Помните, что если вы используете конкретный тип данных в списке классов-миксинов, то значения элементов должны соответствовать типу этого конкретного типа данных."
   ]
  },
  {
   "attachments": {},
   "cell_type": "markdown",
   "metadata": {},
   "source": [
    "## Расширение классов перечислений Python\n",
    "Extend Python enum classes\n",
    "\n",
    "Python не позволяет расширять класс enum, если в нем нет ни одного элемента. Однако это не является ограничением. Потому что вы можете определить базовый класс, у которого есть методы, но нет элементов, а затем расширить этот базовый класс. Например:\n",
    "\n",
    "Сначала определите базовый класс ```OrderedEnum```, который упорядочивает элементы по их значениям:"
   ]
  },
  {
   "cell_type": "code",
   "execution_count": 56,
   "metadata": {},
   "outputs": [],
   "source": [
    "from enum import Enum\n",
    "from functools import total_ordering\n",
    "\n",
    "\n",
    "@total_ordering\n",
    "class OrderedEnum(Enum):\n",
    "    def __lt__(self, other):\n",
    "        if isinstance(other, OrderedEnum):\n",
    "            return self.value < other.value\n",
    "        return NotImplemented"
   ]
  },
  {
   "attachments": {},
   "cell_type": "markdown",
   "metadata": {},
   "source": [
    "Во-вторых, определите ```ApprovalStatus```, который расширяет класс ```OrderedEnum```:"
   ]
  },
  {
   "cell_type": "code",
   "execution_count": 57,
   "metadata": {},
   "outputs": [],
   "source": [
    "class ApprovalStatus(OrderedEnum):\n",
    "    PENDING = 1\n",
    "    IN_PROGRESS = 2\n",
    "    APPROVED = 3"
   ]
  },
  {
   "attachments": {},
   "cell_type": "markdown",
   "metadata": {},
   "source": [
    "В-третьих, сравните элементы класса ```ApprovalStatus```:"
   ]
  },
  {
   "cell_type": "code",
   "execution_count": 60,
   "metadata": {},
   "outputs": [
    {
     "name": "stdout",
     "output_type": "stream",
     "text": [
      "The request has not been approved.\n"
     ]
    }
   ],
   "source": [
    "status = ApprovalStatus(2) # ApprovalStatus.IN_PROGRESS\n",
    "if status < ApprovalStatus.APPROVED:\n",
    "    print('The request has not been approved.')"
   ]
  },
  {
   "attachments": {},
   "cell_type": "markdown",
   "metadata": {},
   "source": [
    "Full code:"
   ]
  },
  {
   "cell_type": "code",
   "execution_count": 61,
   "metadata": {},
   "outputs": [
    {
     "name": "stdout",
     "output_type": "stream",
     "text": [
      "The request has not been approved.\n"
     ]
    }
   ],
   "source": [
    "from enum import Enum\n",
    "from functools import total_ordering\n",
    "\n",
    "\n",
    "@total_ordering\n",
    "class OrderedEnum(Enum):\n",
    "    def __lt__(self, other):\n",
    "        if isinstance(other, OrderedEnum):\n",
    "            return self.value < other.value\n",
    "        return NotImplemented\n",
    "\n",
    "\n",
    "class ApprovalStatus(OrderedEnum):\n",
    "    PENDING = 1\n",
    "    IN_PROGRESS = 2\n",
    "    APPROVED = 3\n",
    "\n",
    "\n",
    "status = ApprovalStatus(2)\n",
    "if status < ApprovalStatus.APPROVED:\n",
    "    print('The request has not been approved.')"
   ]
  },
  {
   "attachments": {},
   "cell_type": "markdown",
   "metadata": {},
   "source": [
    "## Резюмируем\n",
    "\n",
    "* Реализуйте dunder-методы для настройки поведения классов перечислений Python.\n",
    "* Определите класс emum без элементов с методами, который расширяет этот базовый класс."
   ]
  },
  {
   "attachments": {},
   "cell_type": "markdown",
   "metadata": {},
   "source": [
    "# Python enum auto"
   ]
  },
  {
   "attachments": {},
   "cell_type": "markdown",
   "metadata": {},
   "source": [
    "Рассмотрим функцию ```auto()``` модуля enum для генерации уникальных значений для элементов перечисления.\n",
    "\n",
    "В следующем примере определено перечисление с тремя элементами, значения которых равны 1, 2 и 3:"
   ]
  },
  {
   "cell_type": "code",
   "execution_count": null,
   "metadata": {},
   "outputs": [],
   "source": [
    "from enum import Enum\n",
    "\n",
    "\n",
    "class State(Enum):\n",
    "    PENDING = 1\n",
    "    FULFILLED = 2\n",
    "    REJECTED = 3"
   ]
  },
  {
   "attachments": {},
   "cell_type": "markdown",
   "metadata": {},
   "source": [
    "В этом примере мы вручную присваиваем целочисленные значения элементам перечисления.\n",
    "\n",
    "Чтобы сделать это более удобным, в Python 3.6 в модуле enum появился вспомогательный класс auto(), который автоматически генерирует уникальные значения для элементов перечисления. Например:"
   ]
  },
  {
   "cell_type": "code",
   "execution_count": 62,
   "metadata": {},
   "outputs": [],
   "source": [
    "from enum import Enum, auto\n",
    "\n",
    "\n",
    "class State(Enum):\n",
    "    PENDING = auto()\n",
    "    FULFILLED = auto()\n",
    "    REJECTED = auto()\n",
    "\n",
    "    def __str__(self):\n",
    "        return f'{self.name(self.value)}'"
   ]
  },
  {
   "attachments": {},
   "cell_type": "markdown",
   "metadata": {},
   "source": [
    "* Вызовите auto(), чтобы сгенерировать уникальное значение для каждого элемента перечисления State.\n",
    "* По умолчанию класс auto() генерирует последовательность целых чисел, начиная с 1.\n",
    "\n",
    "Ниже показаны значения элементов перечисления State:"
   ]
  },
  {
   "cell_type": "code",
   "execution_count": 63,
   "metadata": {},
   "outputs": [
    {
     "name": "stdout",
     "output_type": "stream",
     "text": [
      "PENDING 1\n",
      "FULFILLED 2\n",
      "REJECTED 3\n"
     ]
    }
   ],
   "source": [
    "for state in State:\n",
    "    print(state.name, state.value)"
   ]
  },
  {
   "attachments": {},
   "cell_type": "markdown",
   "metadata": {},
   "source": [
    "Вам нужно вызвать auto() один раз для каждого автоматического значения, которое вам нужно. Вы также можете комбинировать auto():"
   ]
  },
  {
   "cell_type": "code",
   "execution_count": 95,
   "metadata": {},
   "outputs": [
    {
     "data": {
      "text/plain": [
       "[<Day.MONDAY: 1>,\n",
       " <Day.TUESDAY: 2>,\n",
       " <Day.WEDNESDAY: 3>,\n",
       " <Day.THURSDAY: 4>,\n",
       " <Day.FRIDAY: 5>,\n",
       " <Day.SATURDAY: 6>,\n",
       " <Day.SUNDAY: 7>]"
      ]
     },
     "execution_count": 95,
     "metadata": {},
     "output_type": "execute_result"
    }
   ],
   "source": [
    "from enum import auto, Enum\n",
    "\n",
    "class Day(Enum):\n",
    "    MONDAY = auto()\n",
    "    TUESDAY = auto()\n",
    "    WEDNESDAY = 3\n",
    "    THURSDAY = auto()\n",
    "    FRIDAY = auto()\n",
    "    SATURDAY = auto()\n",
    "    SUNDAY = 7\n",
    "\n",
    "\n",
    "list(Day)"
   ]
  },
  {
   "attachments": {},
   "cell_type": "markdown",
   "metadata": {},
   "source": [
    "## Как работает enum() auto\n",
    "\n",
    "Технически, auto() вызывает метод ```_generate_next_value_()``` для генерации значений для элементов. Вот синтаксис метода _generate_next_value_():\n",
    "```\n",
    "_generate_next_value_(name, start, count, last_values)\n",
    "```\n",
    "Функция _generate_next_value_() имеет следующие параметры:\n",
    "\n",
    "* name - имя элемента\n",
    "* start - начальное значение элементов перечисления.\n",
    "* count - количество созданных элементов перечисления, включая псевдонимы.\n",
    "* last_values - список всех предыдущих значений, использованных для элементов перечисления.\n",
    "\n",
    "По умолчанию функция _generate_next_value_() генерирует следующее число в последовательности целых чисел, начиная с единицы. Однако Python может изменить эту логику в будущем."
   ]
  },
  {
   "attachments": {},
   "cell_type": "markdown",
   "metadata": {},
   "source": [
    "Можно переопределить метод ```._generate_next_value_()```, который auto() использует под капотом для генерации автоматических значений, чтобы добавить пользовательскую логику, генерирующую уникальные значения. В этом случае необходимо поместить метод ```_generate_next_value_()``` перед определением всех элементов.\n",
    "\n",
    "Ниже показано, как переопределить метод ```_generate_next_value_()```, чтобы генерировать значения для элементов, используя их имена:"
   ]
  },
  {
   "cell_type": "code",
   "execution_count": 64,
   "metadata": {},
   "outputs": [
    {
     "name": "stdout",
     "output_type": "stream",
     "text": [
      "PENDING pending\n",
      "FULFILLED fulfilled\n",
      "REJECTED rejected\n"
     ]
    }
   ],
   "source": [
    "from enum import Enum, auto\n",
    "\n",
    "\n",
    "class State(Enum):\n",
    "    def _generate_next_value_(name, start, count, last_values):\n",
    "        return name.lower()\n",
    "\n",
    "    PENDING = auto()\n",
    "    FULFILLED = auto()\n",
    "    REJECTED = auto()\n",
    "\n",
    "\n",
    "for state in State:\n",
    "    print(state.name, state.value)"
   ]
  },
  {
   "cell_type": "code",
   "execution_count": 96,
   "metadata": {},
   "outputs": [
    {
     "data": {
      "text/plain": [
       "[<CardinalDirection.NORTH: 'N'>,\n",
       " <CardinalDirection.SOUTH: 'S'>,\n",
       " <CardinalDirection.EAST: 'E'>,\n",
       " <CardinalDirection.WEST: 'W'>]"
      ]
     },
     "execution_count": 96,
     "metadata": {},
     "output_type": "execute_result"
    }
   ],
   "source": [
    "from enum import Enum, auto\n",
    "\n",
    "class CardinalDirection(Enum):\n",
    "    def _generate_next_value_(name, start, count, last_values):\n",
    "        return name[0] # Return first character of each member’s name\n",
    "    NORTH = auto()\n",
    "    SOUTH = auto()\n",
    "    EAST = auto()\n",
    "    WEST = auto()\n",
    "\n",
    "\n",
    "list(CardinalDirection)"
   ]
  },
  {
   "attachments": {},
   "cell_type": "markdown",
   "metadata": {},
   "source": [
    "Используйте класс ```auto()``` модуля enum для генерации уникальных значений для элементов перечисления."
   ]
  },
  {
   "attachments": {},
   "cell_type": "markdown",
   "metadata": {},
   "source": [
    "# Exploring Other Enumeration Classes\n",
    "Изучение других классов перечислений\n",
    "\n",
    "Использование целочисленных значений членов перечисления является довольно распространенной практикой. Поэтому модуль enum предоставляет класс IntEnum для создания перечислений с целочисленными значениями напрямую.\n",
    "\n",
    "Помимо Enum, модуль enum предоставляет несколько дополнительных классов, которые позволяют создавать перечисления со специфическим поведением. У вас есть класс IntEnum для создания перечислимых констант, которые также являются подклассами int, что подразумевает, что все элементы будут обладать всеми свойствами целого числа.\n",
    "\n",
    "В модуле enum также найдете более специализированные классы, такие как IntFlag и Flag. Оба класса позволят вам создавать перечислимые наборы констант, которые вы сможете объединять с помощью побитовых операторов. https://realpython.com/python-bitwise-operators/\n"
   ]
  },
  {
   "attachments": {},
   "cell_type": "markdown",
   "metadata": {},
   "source": [
    "## Построение целочисленных перечислений: IntEnum\n",
    "Целочисленные перечисления настолько распространены, что модуль enum экспортирует специальный класс IntEnum, который был создан специально для этого случая. Если вам нужно, чтобы элементы ваших перечислений вели себя как целые числа, то вам следует наследоваться от IntEnum, а не от Enum.\n",
    "\n",
    "Класс IntEnum позволяет использовать перечисления c элементами, определенными как целочисленные константы, а также выполнить операции сравнения между перечислениями и целыми числами.\n",
    "\n",
    "Подкласс IntEnum эквивалентен использованию множественного наследования с int в качестве класса mixin:"
   ]
  },
  {
   "attachments": {},
   "cell_type": "markdown",
   "metadata": {},
   "source": [
    "Элементы класса enum.IntEnum можно сравнить с целыми числами."
   ]
  },
  {
   "cell_type": "code",
   "execution_count": null,
   "metadata": {},
   "outputs": [],
   "source": [
    ">>> from enum import IntEnum\n",
    "\n",
    ">>> class Size(IntEnum):\n",
    "...     S = 1\n",
    "...     M = 2\n",
    "...     L = 3\n",
    "...     XL = 4\n",
    "...\n",
    "\n",
    ">>> Size.S > Size.M\n",
    "# False\n",
    ">>> Size.S < Size.M\n",
    "# True\n",
    ">>> Size.L >= Size.M\n",
    "# True\n",
    ">>> Size.L <= Size.M\n",
    "# False\n",
    "\n",
    ">>> Size.L > 2\n",
    "# True\n",
    ">>> Size.M < 1\n",
    "# False"
   ]
  },
  {
   "attachments": {},
   "cell_type": "markdown",
   "metadata": {},
   "source": [
    "Теперь Size наследуется непосредственно от IntEnum, а не от int и Enum. Как и предыдущая версия Size, эта новая версия имеет полную возможность сравнения и поддерживает все операторы сравнения. Вы также можете напрямую использовать элементы класса в целочисленных операциях.\n",
    "\n",
    "Size автоматически попытается преобразовать любое значение другого типа данных в целое число. Если такое преобразование невозможно, то вы получите ошибку ValueError:"
   ]
  },
  {
   "cell_type": "code",
   "execution_count": null,
   "metadata": {},
   "outputs": [],
   "source": [
    ">>> from enum import IntEnum\n",
    "\n",
    ">>> class Size(IntEnum):\n",
    "...     S = 1\n",
    "...     M = 2\n",
    "...     L = 3\n",
    "...     XL = \"4\" # <-- attempt to convert value to int\n",
    "...\n",
    "\n",
    ">>> list(Size)\n",
    "# [<Size.S: 1>, <Size.M: 2>, <Size.L: 3>, <Size.XL: 4>]\n",
    "\n",
    ">>> class Size(IntEnum):\n",
    "...     S = 1\n",
    "...     M = 2\n",
    "...     L = 3\n",
    "...     XL = \"4.o\" # <-- attempt to convert value to int\n",
    "...\n",
    "# Traceback (most recent call last):\n",
    "#     ...\n",
    "# ValueError: invalid literal for int() with base 10: '4.o'"
   ]
  },
  {
   "attachments": {},
   "cell_type": "markdown",
   "metadata": {},
   "source": [
    "В первом примере Size автоматически преобразует строку \"4\" в целочисленное значение. Во втором примере, поскольку строка \"4.o\" не содержит допустимого числового значения, вы получаете ошибку ValueError, и преобразование не выполняется.\n",
    "\n",
    "В текущей стабильной версии Python, 3.10, модуль enum не включает класс StrEnum. Однако этот класс является еще одним примером популярного использования перечислений. По этой причине в Python 3.11 будет включен тип StrEnum с прямой поддержкой распространенных строковых операций. Пока же вы можете имитировать поведение класса StrEnum, создав класс mixin, родительскими классами которого являются str и Enum. (Уже доступен в 3.11)"
   ]
  },
  {
   "attachments": {},
   "cell_type": "markdown",
   "metadata": {},
   "source": [
    "Значения enum.IntEnum ведут себя как целые числа и в других отношениях:\n",
    "```\n",
    ">>> class Shape(IntEnum):\n",
    "...     CIRCLE = 1\n",
    "...     SQUARE = 2\n",
    "\n",
    ">>> int(Shape.CIRCLE)\n",
    "# 1\n",
    ">>> ['a', 'b', 'c'][Shape.CIRCLE]\n",
    "# 'b'\n",
    ">>> [i for i in range(Shape.SQUARE)]\n",
    "# [0, 1]\n",
    "```"
   ]
  },
  {
   "attachments": {},
   "cell_type": "markdown",
   "metadata": {},
   "source": [
    "# Использование перечислений: Два практических примера\n",
    "Using Enumerations: Two Practical Examples\n",
    "\n",
    "Перечисления в Python могут помочь вам улучшить читабельность и организацию кода. Вы можете использовать их для группировки похожих констант, которые затем можно использовать в коде для замены строк, чисел и других значений на читабельные и осмысленные имена.\n",
    "\n",
    "В следующих разделах вы рассмотрите несколько практических примеров, которые касаются распространенных случаев использования перечислений. Эти примеры помогут вам решить, когда ваш код может выиграть от использования перечислений."
   ]
  },
  {
   "attachments": {},
   "cell_type": "markdown",
   "metadata": {},
   "source": [
    "# Замена магических чисел\n",
    "Replacing Magic Numbers\n",
    "\n",
    "Перечисления отлично подходят для замены наборов связанных \"магических\" чисел, таких как коды состояния HTTP, порты компьютера и коды выхода. С помощью перечисления вы можете сгруппировать эти числовые константы и присвоить им читабельные и описательные имена, которые вы сможете использовать в дальнейшем в своем коде.\n",
    "\n",
    "Допустим, у вас есть следующая функция в составе приложения, которое получает и обрабатывает HTTP-контент непосредственно из Интернета:"
   ]
  },
  {
   "cell_type": "code",
   "execution_count": 124,
   "metadata": {},
   "outputs": [
    {
     "name": "stdout",
     "output_type": "stream",
     "text": [
      "response:  <http.client.HTTPResponse object at 0x104ddfdf0>\n",
      "response.getcode():  200\n",
      "###\n",
      "Success!\n"
     ]
    }
   ],
   "source": [
    "from http.client import HTTPSConnection\n",
    "\n",
    "def process_response(response):\n",
    "    match response.getcode():\n",
    "        case 200:\n",
    "            print(\"Success!\")\n",
    "        case 201:\n",
    "            print(\"Successfully created!\")\n",
    "        case 400:\n",
    "            print(\"Bad request\")\n",
    "        case 404:\n",
    "            print(\"Not Found\")\n",
    "        case 500:\n",
    "            print(\"Internal server error\")\n",
    "        case _:\n",
    "            print(\"Unexpected status\")\n",
    "\n",
    "\n",
    "connection = HTTPSConnection(\"www.python.org\")\n",
    "try:\n",
    "    connection.request(\"GET\", \"/\")\n",
    "    response = connection.getresponse()\n",
    "    print(\"response: \",response)\n",
    "    print(\"response.getcode(): \",response.getcode())\n",
    "    print('###')\n",
    "    process_response(response)\n",
    "finally:\n",
    "    connection.close()\n",
    "\n"
   ]
  },
  {
   "attachments": {},
   "cell_type": "markdown",
   "metadata": {},
   "source": [
    "Ваша функция ```process_response()``` принимает в качестве аргумента объект ответа HTTP. Затем она получает код состояния из ответа с помощью метода ```.getcode()```. Оператор ```match ... case``` последовательно сравнивает текущий код состояния с некоторыми стандартными кодами состояния, представленными в вашем примере в виде магических чисел.\n",
    "\n",
    "Если происходит совпадение, то выполняется блок кода в совпадающем случае. Если совпадения не происходит, то запускается случай по умолчанию. Обратите внимание, что случай по умолчанию - это тот, в котором в качестве критерия соответствия используется знак подчеркивания (_).\n",
    "\n",
    "Остальная часть кода подключается к образцу веб-страницы, выполняет GET-запрос, получает объект ответа и обрабатывает его с помощью функции process_response(). Пункт finally закрывает активное соединение, чтобы избежать утечки ресурсов."
   ]
  },
  {
   "attachments": {},
   "cell_type": "markdown",
   "metadata": {},
   "source": [
    "Несмотря на то, что этот код работает, он может быть сложным для чтения и понимания для людей, не знакомых с кодами состояния HTTP и их соответствующими значениями. Чтобы решить эти проблемы и сделать код более читабельным и удобным для сопровождения, вы можете использовать перечисление для группировки кодов состояния HTTP и дать им описательные имена:"
   ]
  },
  {
   "cell_type": "code",
   "execution_count": 125,
   "metadata": {},
   "outputs": [
    {
     "name": "stdout",
     "output_type": "stream",
     "text": [
      "Success!\n"
     ]
    }
   ],
   "source": [
    "from enum import IntEnum\n",
    "from http.client import HTTPSConnection\n",
    "\n",
    "class HTTPStatusCode(IntEnum):\n",
    "    OK = 200\n",
    "    CREATED = 201\n",
    "    BAD_REQUEST = 400\n",
    "    NOT_FOUND = 404\n",
    "    SERVER_ERROR = 500\n",
    "\n",
    "\n",
    "def process_response(response):\n",
    "    match response.getcode():\n",
    "        case HTTPStatusCode.OK: # <-- более читабельно\n",
    "            print(\"Success!\")\n",
    "        case HTTPStatusCode.CREATED:\n",
    "            print(\"Successfully created!\")\n",
    "        case HTTPStatusCode.BAD_REQUEST:\n",
    "            print(\"Bad request\")\n",
    "        case HTTPStatusCode.NOT_FOUND:\n",
    "            print(\"Not Found\")\n",
    "        case HTTPStatusCode.SERVER_ERROR:\n",
    "            print(\"Internal server error\")\n",
    "        case _:\n",
    "            print(\"Unexpected status\")\n",
    "\n",
    "\n",
    "connection = HTTPSConnection(\"www.python.org\")\n",
    "try:\n",
    "    connection.request(\"GET\", \"/\")\n",
    "    response = connection.getresponse()\n",
    "    process_response(response)\n",
    "finally:\n",
    "    connection.close()"
   ]
  },
  {
   "attachments": {},
   "cell_type": "markdown",
   "metadata": {},
   "source": [
    "Этот код добавляет новое перечисление под названием HTTPStatusCode в ваше приложение. Это перечисление группирует основные коды состояния HTTP и дает им удобочитаемые имена. Оно также делает их строго постоянными, что делает ваше приложение более надежным.\n",
    "\n",
    "Внутри process_response() вы используете человекочитаемые и описательные имена, которые предоставляют информацию о контексте и содержании. Теперь любой человек, читающий ваш код, сразу поймет, что критерием соответствия является код состояния HTTP. Они также быстро поймут значение каждого целевого кода."
   ]
  },
  {
   "attachments": {},
   "cell_type": "markdown",
   "metadata": {},
   "source": [
    "# Автомат состояний\n",
    "Creating a State Machine\n",
    "\n",
    "Еще один интересный случай использования перечислений - это когда вы используете их для воссоздания различных возможных состояний данной системы. Если ваша система в любой момент времени может находиться ровно в одном из конечного числа состояний, то ваша система работает как машина состояний. Перечисления полезны, когда вам нужно реализовать этот распространенный шаблон проектирования.\n",
    "\n",
    "В качестве примера использования перечислений для реализации паттерна автомата состояний можно привести создание минимального симулятора проигрывателя дисков. Для начала создайте файл disk_player.py со следующим содержимым:"
   ]
  },
  {
   "cell_type": "code",
   "execution_count": 126,
   "metadata": {},
   "outputs": [],
   "source": [
    "# disk_player.py\n",
    "\n",
    "from enum import Enum, auto\n",
    "\n",
    "class State(Enum):\n",
    "    EMPTY = auto()\n",
    "    STOPPED = auto()\n",
    "    PAUSED = auto()\n",
    "    PLAYING = auto()"
   ]
  },
  {
   "attachments": {},
   "cell_type": "markdown",
   "metadata": {},
   "source": [
    "Здесь вы определяете класс State. Этот класс группирует все возможные состояния вашего дискового проигрывателя: EMPTY, STOPPED, PAUSED и PLAYING. Теперь вы можете написать класс проигрывателя DiskPlayer, который будет выглядеть следующим образом:"
   ]
  },
  {
   "cell_type": "code",
   "execution_count": null,
   "metadata": {},
   "outputs": [],
   "source": [
    "# disk_player.py\n",
    "# ...\n",
    "\n",
    "class DiskPlayer:\n",
    "    def __init__(self):\n",
    "        self.state = State.EMPTY\n",
    "\n",
    "    def insert_disk(self):\n",
    "        if self.state is State.EMPTY:\n",
    "            self.state = State.STOPPED\n",
    "        else:\n",
    "            raise ValueError(\"disk already inserted\")\n",
    "\n",
    "    def eject_disk(self):\n",
    "        if self.state is State.EMPTY:\n",
    "            raise ValueError(\"no disk inserted\")\n",
    "        else:\n",
    "            self.state = State.EMPTY\n",
    "\n",
    "    def play(self):\n",
    "        if self.state in {State.STOPPED, State.PAUSED}:\n",
    "            self.state = State.PLAYING\n",
    "\n",
    "    def pause(self):\n",
    "        if self.state is State.PLAYING:\n",
    "            self.state = State.PAUSED\n",
    "        else:\n",
    "            raise ValueError(\"can't pause when not playing\")\n",
    "\n",
    "    def stop(self):\n",
    "        if self.state in {State.PLAYING, State.PAUSED}:\n",
    "            self.state = State.STOPPED\n",
    "        else:\n",
    "            raise ValueError(\"can't stop when not playing or paused\")"
   ]
  },
  {
   "attachments": {},
   "cell_type": "markdown",
   "metadata": {},
   "source": [
    "Класс DiskPlayer реализует все возможные действия, которые может выполнить ваш плеер, включая вставку и извлечение диска, воспроизведение, паузу и остановку плеера. Обратите внимание, как каждый метод в DiskPlayer проверяет и обновляет текущее состояние плеера, используя перечисление State.\n",
    "\n",
    "Чтобы завершить пример, вы используете традиционную вставку ```if __name__ == \"__main__\":```, чтобы завернуть несколько строк кода, которые позволят вам опробовать класс DiskPlayer:"
   ]
  },
  {
   "cell_type": "code",
   "execution_count": null,
   "metadata": {},
   "outputs": [],
   "source": [
    "# disk_player.py\n",
    "# ...\n",
    "\n",
    "if __name__ == \"__main__\":\n",
    "    actions = [\n",
    "        DiskPlayer.insert_disk,\n",
    "        DiskPlayer.play,\n",
    "        DiskPlayer.pause,\n",
    "        DiskPlayer.stop,\n",
    "        DiskPlayer.eject_disk,\n",
    "        DiskPlayer.insert_disk,\n",
    "        DiskPlayer.play,\n",
    "        DiskPlayer.stop,\n",
    "        DiskPlayer.eject_disk,\n",
    "    ]\n",
    "    player = DiskPlayer()\n",
    "    for action in actions:\n",
    "        action(player)\n",
    "        print(player.state)"
   ]
  },
  {
   "attachments": {},
   "cell_type": "markdown",
   "metadata": {},
   "source": [
    "В этом фрагменте кода вы сначала определяете переменную actions, которая содержит последовательность методов, которые вы будете вызывать из DiskPlayer, чтобы опробовать класс. Затем вы создаете экземпляр класса проигрывателя дисков. Наконец, вы запускаете цикл for для итерации списка действий и запускаете каждое действие через экземпляр плеера.\n",
    "\n",
    "Вот и все! Ваш симулятор проигрывателя дисков готов к тестированию. Чтобы запустить его, выполните следующую команду в командной строке:"
   ]
  },
  {
   "attachments": {},
   "cell_type": "markdown",
   "metadata": {},
   "source": [
    "```\n",
    "$ python disk_player.py\n",
    "State.STOPPED\n",
    "State.PLAYING\n",
    "State.PAUSED\n",
    "State.STOPPED\n",
    "State.EMPTY\n",
    "State.STOPPED\n",
    "State.PLAYING\n",
    "State.STOPPED\n",
    "State.EMPTY\n",
    "```"
   ]
  },
  {
   "attachments": {},
   "cell_type": "markdown",
   "metadata": {},
   "source": [
    "Вывод этой команды показывает, что ваше приложение прошло через все возможные состояния. Конечно, этот пример минимален и не рассматривает все возможные сценарии. Это наглядный пример того, как вы можете использовать перечисление для реализации модели машины состояний в своем коде."
   ]
  },
  {
   "attachments": {},
   "cell_type": "markdown",
   "metadata": {},
   "source": [
    "# Заключение\n",
    "Теперь вы знаете, как создавать и использовать перечисления в Python. С помощью перечислений вы можете группировать наборы связанных констант и получать к ним доступ через само перечисление.\n",
    "\n",
    "Python не предоставляет специального синтаксиса перечислений. Однако модуль enum поддерживает этот распространенный тип данных с помощью класса Enum.\n",
    "\n",
    "В этом уроке вы узнали, как:\n",
    "\n",
    "* Создавать собственные перечисления, используя класс Enum в Python.\n",
    "* Работать с перечислениями и их элементами\n",
    "* Наделять свои классы перечислений новыми функциональными возможностями\n",
    "* использовать перечисления на некоторых практических примерах\n",
    "* Вы также узнали о других полезных типах перечислений, таких как IntEnum. (IntFlag и Flag см документацию). Они доступны * В enum и помогут вам создавать специализированные перечисления.\n",
    "\n",
    "Обладая всеми этими знаниями, вы теперь готовы начать использовать перечисления Python для группировки, присвоения имен и работы с наборами семантически связанных констант. Перечисления позволяют лучше организовать ваш код, делая его более читабельным, явным и удобным для сопровождения."
   ]
  }
 ],
 "metadata": {
  "kernelspec": {
   "display_name": "Python 3",
   "language": "python",
   "name": "python3"
  },
  "language_info": {
   "codemirror_mode": {
    "name": "ipython",
    "version": 3
   },
   "file_extension": ".py",
   "mimetype": "text/x-python",
   "name": "python",
   "nbconvert_exporter": "python",
   "pygments_lexer": "ipython3",
   "version": "3.11.1"
  },
  "orig_nbformat": 4
 },
 "nbformat": 4,
 "nbformat_minor": 2
}

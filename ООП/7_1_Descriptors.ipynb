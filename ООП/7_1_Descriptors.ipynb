{
 "cells": [
  {
   "attachments": {},
   "cell_type": "markdown",
   "metadata": {},
   "source": [
    "https://realpython.com/python-descriptors/\n",
    "\n",
    "https://docs-python.ru/tutorial/klassy-jazyke-python/bazovyj-obzor-deskriptora-klassa/\n",
    "\n",
    "https://docs.python.org/3/howto/descriptor.html"
   ]
  },
  {
   "attachments": {},
   "cell_type": "markdown",
   "metadata": {},
   "source": [
    "На этом занятии мы затронем довольно интересную, но не простую тему – дескрипторы. Я начну с одного явного недостатка объектов-свойств (@property), о которых мы с вами уже подробно говорили. Давайте представим, что создаем класс для представления точек в трехмерном пространстве:\n",
    "\n",
    "```Py\n",
    "class Point3D:\n",
    "    def __init__(self, x, y, z):\n",
    "        self._x = x\n",
    "        self._y = y\n",
    "        self._z = z\n",
    "```\n",
    "Здесь у нас формируются защищенные локальные свойства для создаваемого объекта класса Point3D. Теперь представим, что согласно заданию координаты должны представляться исключительно целыми числами. Для этого я пропишу следующий метод проверки:\n",
    "```Py\n",
    "@classmethod\n",
    "def verify_coord(cls, coord):\n",
    "    if type(coord) != int:\n",
    "        raise TypeError(\"Координата должна быть целым числом\")\n",
    "```\n",
    "А вызывать его будут в сеттерах соответствующих свойств класса:\n",
    "```Py\n",
    "@property\n",
    "def x(self):\n",
    "    return self._x\n",
    "\n",
    "@x.setter\n",
    "def x(self, coord):\n",
    "    self.verify_coord(coord)\n",
    "    self._x = coord\n",
    "\n",
    "@property\n",
    "def y(self):\n",
    "    return self._y\n",
    "\n",
    "@y.setter\n",
    "def y(self, coord):\n",
    "    self.verify_coord(coord)\n",
    "    self._y = coord\n",
    "\n",
    "@property\n",
    "def z(self):\n",
    "    return self._z\n",
    "\n",
    "@z.setter\n",
    "def z(self, coord):\n",
    "    self.verify_coord(coord)\n",
    "    self._z = coord\n",
    "```"
   ]
  },
  {
   "attachments": {},
   "cell_type": "markdown",
   "metadata": {},
   "source": [
    "И теперь мы можем в инициализаторе использовать эти объекты-свойства для формирования локальных атрибутов экземпляров:\n",
    "```Py\n",
    "class Point3D:\n",
    "    def __init__(self, x, y, z):\n",
    "        self.x = x\n",
    "        self.y = y\n",
    "        self.z = z\n",
    "```"
   ]
  },
  {
   "attachments": {},
   "cell_type": "markdown",
   "metadata": {},
   "source": [
    "Все, создавая объекты этого класса:\n",
    "```Py\n",
    "p = Point3D(1, 2, 3)\n",
    "print(p.__dict__)\n",
    "```"
   ]
  },
  {
   "attachments": {},
   "cell_type": "markdown",
   "metadata": {},
   "source": [
    "у нас автоматически будут формироваться нужные локальные атрибуты и мы сможем с ними работать через объекты-свойства x, y, z."
   ]
  },
  {
   "cell_type": "code",
   "execution_count": 49,
   "metadata": {},
   "outputs": [
    {
     "name": "stdout",
     "output_type": "stream",
     "text": [
      "{'_x': 1, '_y': 2, '_z': 3}\n"
     ]
    }
   ],
   "source": [
    "class Point3D:\n",
    "    def __init__(self, x, y, z):\n",
    "        self.x = x\n",
    "        self.y = y\n",
    "        self.z = z\n",
    "\n",
    "    @classmethod\n",
    "    def verify_coord(cls, coord):\n",
    "        if type(coord) != int:\n",
    "            raise TypeError(\"Координата должна быть целым числом\")\n",
    "        \n",
    "    @property\n",
    "    def x(self):\n",
    "        return self._x\n",
    "\n",
    "    @x.setter\n",
    "    def x(self, coord):\n",
    "        self.verify_coord(coord)\n",
    "        self._x = coord\n",
    "\n",
    "    @property\n",
    "    def y(self):\n",
    "        return self._y\n",
    "\n",
    "    @y.setter\n",
    "    def y(self, coord):\n",
    "        self.verify_coord(coord)\n",
    "        self._y = coord\n",
    "\n",
    "    @property\n",
    "    def z(self):\n",
    "        return self._z\n",
    "\n",
    "    @z.setter\n",
    "    def z(self, coord):\n",
    "        self.verify_coord(coord)\n",
    "        self._z = coord\n",
    "\n",
    "p = Point3D(1, 2, 3)\n",
    "print(p.__dict__)"
   ]
  },
  {
   "attachments": {},
   "cell_type": "markdown",
   "metadata": {},
   "source": [
    "Но, смотрите, в нашем классе Point3D получилось своеобразное дублирование: мы три раза прописывали свойства, фактически, с одинаковым функционалом. Менялись только названия методов и локальных атрибутов. Представьте, во что превратится описание этого класса, если нужно будет задать 10 и более таких объектов-свойств! Программист во всем этом просто запутается, да и редактировать такую программу станет непросто. Как можно все это оптимизировать? Здесь нам на помощь как раз и приходят дескрипторы."
   ]
  },
  {
   "attachments": {},
   "cell_type": "markdown",
   "metadata": {},
   "source": [
    "Дескрипторы - это объекты Python, реализующие метод протокола дескрипторов, который дает вам возможность создавать объекты с особым поведением, когда к ним обращаются как к атрибутам других объектов. Здесь вы можете увидеть правильное определение протокола дескрипторов:\n",
    "```Py\n",
    "__get__(self, obj, type=None) -> object\n",
    "__set__(self, obj, value) -> None\n",
    "__delete__(self, obj) -> None\n",
    "__set_name__(self, owner, name)\n",
    "```\n",
    "Для реализации дескриптора классу требуется определить один или несколько методов, входящих в протокол дескриптора."
   ]
  },
  {
   "attachments": {},
   "cell_type": "markdown",
   "metadata": {},
   "source": [
    "Если ваш дескриптор реализует только ```.__get__()```, то говорят, что это **non-data descriptor** (дескриптор не данных). Если он реализует ```.__set__()``` или ```.__delete__()```, то говорят, что это **data descriptor** (дескриптор данных). Обратите внимание, что разница не только в названии, но и в поведении. Это потому, что дескрипторы данных имеют приоритет в процессе поиска, как вы увидите позже."
   ]
  },
  {
   "attachments": {},
   "cell_type": "markdown",
   "metadata": {},
   "source": [
    "Про OBJECT.```__SET_NAME__```\n",
    "\n",
    "```object.__set_name__(self, owner, name)  -> None```\n",
    " - self : Ссылка на экземпляр дескриптора.\n",
    "\n",
    " - owner : Класс владельца дескриптора.\n",
    "\n",
    " - name : Имя атрибута из класса владельца, связанное с дескриптором. # a = Descr() # self is link for descriptor's instance, name is \"a\", owner is link for owner\n",
    "\n",
    "Один из методов протокола дескриптора. Позволяет отследить имя атрибута, к которому дескриптор привязан в классе.\n",
    "Появился в Py 3.6\n",
    "Каждый раз, когда вы инстанцируете дескриптор, вызывается этот метод и автоматически устанавливается параметр name.\n",
    "`\n",
    "a = Descr()"
   ]
  },
  {
   "attachments": {},
   "cell_type": "markdown",
   "metadata": {},
   "source": [
    "Если вы хотите использовать дескрипторы Python в своем коде, то вам просто необходимо реализовать протокол дескрипторов. Наиболее важными методами этого протокола являются ```.__get__()``` и ```.__set__()```, которые имеют следующую сигнатуру:\n",
    "```Py\n",
    "__get__(self, obj, type=None) -> object\n",
    "__set__(self, obj, value) -> None\n",
    "```\n",
    "Когда вы реализуете протокол, помните об этих вещах:\n",
    "\n",
    "- self - это экземпляр дескриптора, который вы пишете.\n",
    "- obj - это экземпляр объекта, к которому прикреплен ваш дескриптор.\n",
    "- type - это тип объекта, к которому прикреплен дескриптор.\n",
    "В ```.__set__()``` у вас нет переменной type, потому что вы можете вызвать ```.__set__()``` только для объекта. В отличие от этого, вы можете вызывать ```.__get__()``` как для объекта, так и для класса."
   ]
  },
  {
   "attachments": {},
   "cell_type": "markdown",
   "metadata": {},
   "source": [
    "Когда атрибут класса является дескриптором, при поиске атрибута срабатывает специальное поведение связывания. Обычно при использовании a.b для получения, установки или удаления атрибута происходит поиск объекта с именем b в словаре класса для a, но если b является дескриптором, то вызывается соответствующий метод дескриптора. "
   ]
  },
  {
   "attachments": {},
   "cell_type": "markdown",
   "metadata": {},
   "source": [
    "Чтобы использовать дескриптор, он должен быть сохранен как переменная класса в другом классе."
   ]
  },
  {
   "attachments": {},
   "cell_type": "markdown",
   "metadata": {},
   "source": [
    "Дескрипторы вызываются методом ```__getattribute__()```.\n",
    "Переопределение ```__getattribute__()``` предотвращает автоматический вызов дескрипторов."
   ]
  },
  {
   "attachments": {},
   "cell_type": "markdown",
   "metadata": {},
   "source": [
    "Посмотрите на следующий пример, определяющий дескриптор, который при обращении к нему записывает что-то в консоль:"
   ]
  },
  {
   "cell_type": "code",
   "execution_count": 2,
   "metadata": {},
   "outputs": [
    {
     "name": "stdout",
     "output_type": "stream",
     "text": [
      "accessing the attribute to get the value\n",
      "42\n"
     ]
    }
   ],
   "source": [
    "# descriptors.py\n",
    "class Verbose_attribute():\n",
    "    \"\"\"Класс дескриптора\"\"\"\n",
    "    def __get__(self, obj, type=None) -> object:\n",
    "        print(\"accessing the attribute to get the value\")\n",
    "        return 42\n",
    "    def __set__(self, obj, value) -> None:\n",
    "        print(\"accessing the attribute to set the value\")\n",
    "        raise AttributeError(\"Cannot change the value\")\n",
    "\n",
    "class Foo():\n",
    "    # экземпляр дескриптора\n",
    "    attribute1 = Verbose_attribute()\n",
    "\n",
    "my_foo_object = Foo()\n",
    "x = my_foo_object.attribute1\n",
    "print(x)"
   ]
  },
  {
   "attachments": {},
   "cell_type": "markdown",
   "metadata": {},
   "source": [
    "В приведенном выше примере Verbose_attribute() реализует протокол дескриптора. Как только она инстанцируется как атрибут Foo, ее можно считать дескриптором."
   ]
  },
  {
   "attachments": {},
   "cell_type": "markdown",
   "metadata": {},
   "source": [
    "Когда к нему обращаются через ```.__get__()``` значения, он всегда возвращает значение 42.\n",
    "Когда к нему обращаются, через ```.__set__()```, он вызывает исключение AttributeError, что является рекомендуемым способом реализации дескрипторов только для чтения."
   ]
  },
  {
   "attachments": {},
   "cell_type": "markdown",
   "metadata": {},
   "source": [
    "Давайте, теперь посмотрим, как дескриптор может упростить наш программный код с обработкой координат точек.\n",
    "\n",
    "Так как все координаты – целые числа, то интерфейс взаимодействия с ними мы определим через дескриптор с названием Integer (это имя мы, конечно же, придумываем сами):\n",
    "```Py\n",
    "class Integer:\n",
    "    def __set_name__(self, owner, name):\n",
    "        self.name = \"_\" + name\n",
    " \n",
    "    def __get__(self, instance, owner):\n",
    "        return instance.__dict__[self.name]\n",
    " \n",
    "    def __set__(self, instance, value):\n",
    "        print(f\"__set__: {self.name} = {value}\")\n",
    "        instance.__dict__[self.name] = value\n",
    "```\n",
    "Пока не  обращаем внимания на его содержимое, сейчас я все подробно объясню. Затем, в классе Point3D мы создадим три атрибута как объекты класса Integer:\n",
    "```Py\n",
    "class Point3D:\n",
    "    x = Integer()\n",
    "    y = Integer()\n",
    "    z = Integer()\n",
    " \n",
    "    def __init__(self, x, y, z):\n",
    "        self.x = x\n",
    "        self.y = y\n",
    "        self.z = z\n",
    "```\n",
    "Эти атрибуты и есть дескрипторы данных, через которые будет проходить взаимодействие. Итак, когда мы создавали экземпляры классов Integer, то автоматически вызывался магический метод ```__set_name__```, в котором параметр self являлся ссылкой на создаваемый экземпляр класса; owner – ссылка на класс Point3D; name – имя атрибута (для первого объекта x, затем, y и z). В этом методе мы формируем локальное свойство с именем атрибута, добавляя перед ним одно нижнее подчеркивание (так принято делать при определении дескрипторов). В итоге, в экземплярах классов будут храниться имена _x, _y, _z.\n",
    "\n",
    "\n",
    "Зачем нам это нужно? Смотрите дальше. Предположим, мы создаем экземпляр класса Point3D:\n",
    "```Py\n",
    "pt = Point3D(1, 2, 3)\n",
    "```\n",
    "Сработает инициализатор, а в нем идет обращение к дескрипторам x, y, z. В частности, мы им присваиваем переданные значения. В этом случае, в классе Integer срабатывает сеттер (магический метод ```__set__```), параметр self – это ссылка на объект дескриптора; instance – ссылка на объект pt, из которого произошло обращение к дескриптору; value – присваиваемое значение. В этом сеттере мы выводим в консоль сообщение, что был вызван данный метод и отображаем сохраненное имя и присваиваемое значение. Следующей строчкой через ссылку instance, то есть, на экземпляр класса pt, формируем в нем локальное свойство с именем self.name и присваиваем значение value. В результате, в объекте pt появляются локальные свойства _x, _y, _z с соответствующими значениями.\n",
    "\n",
    "Если затем, выполнить считывание данных через дескриптор, например, x, то автоматически сработает геттер (метод ```__get__```), в котором self – это ссылка на объект Integer; instance – ссылка на экземпляр класса pt; owner – ссылка на класс Point3D. Мы здесь через ссылку instance обращаемся к словарю ```__dict__``` и считываем значение нужного локального свойства, которое, затем, возвращается геттером. Это же значение автоматически возвращается и самим дескриптором.\n",
    "\n",
    "Вот общая схема работы дескрипторов применительно к нашему классу Point3D. Теперь, сколько бы интерфейсов взаимодействия нам не понадобилось, мы легко их можем добавить в наш класс и все будет выглядеть понятно и компактно. На первый взгляд все это может показаться каким-то сложным и запутанным. Но, если внимательно во всем разобраться, то все предельно просто, только несколько громоздко"
   ]
  },
  {
   "cell_type": "code",
   "execution_count": 4,
   "metadata": {},
   "outputs": [
    {
     "name": "stdout",
     "output_type": "stream",
     "text": [
      "__set__: _x = 1\n",
      "__set__: _y = 2\n",
      "__set__: _z = 3\n"
     ]
    }
   ],
   "source": [
    "class Integer:\n",
    "    def __set_name__(self, owner, name):\n",
    "        self.name = \"_\" + name\n",
    " \n",
    "    def __get__(self, instance, owner):\n",
    "        return instance.__dict__[self.name]\n",
    " \n",
    "    def __set__(self, instance, value):\n",
    "        print(f\"__set__: {self.name} = {value}\")\n",
    "        instance.__dict__[self.name] = value\n",
    "\n",
    "class Point3D:\n",
    "    x = Integer() # Наш интерфейс взаимодействия\n",
    "    y = Integer()\n",
    "    z = Integer()\n",
    " \n",
    "    def __init__(self, x, y, z):\n",
    "        self.x = x\n",
    "        self.y = y\n",
    "        self.z = z\n",
    "\n",
    "pt = Point3D(1, 2, 3)"
   ]
  },
  {
   "cell_type": "code",
   "execution_count": 5,
   "metadata": {},
   "outputs": [
    {
     "name": "stdout",
     "output_type": "stream",
     "text": [
      "{'_x': 1, '_y': 2, '_z': 3}\n"
     ]
    }
   ],
   "source": [
    "print(pt.__dict__)"
   ]
  },
  {
   "attachments": {},
   "cell_type": "markdown",
   "metadata": {},
   "source": [
    "Последнее, что нужно прописать в дескрипторе – это проверку корректности данных. Для этого у нас уже есть метод verify_coord, перенесем его в класс Integer и вызовем в сеттере:"
   ]
  },
  {
   "cell_type": "code",
   "execution_count": 13,
   "metadata": {},
   "outputs": [
    {
     "name": "stdout",
     "output_type": "stream",
     "text": [
      "{'_x': 1, '_y': 2, '_z': 3}\n"
     ]
    }
   ],
   "source": [
    "class Integer:\n",
    "    @classmethod\n",
    "    def verify_coord(cls, coord):\n",
    "        if type(coord) != int:\n",
    "            raise TypeError(\"Координата должна быть целым числом\")\n",
    " \n",
    "    def __set_name__(self, owner, name):\n",
    "        self.name = \"_\" + name\n",
    " \n",
    "    def __get__(self, instance, owner):\n",
    "        return instance.__dict__[self.name]\n",
    " \n",
    "    def __set__(self, instance, value):\n",
    "        self.verify_coord(value)\n",
    "        instance.__dict__[self.name] = value\n",
    "\n",
    "class Point3D:\n",
    "    x = Integer()\n",
    "    y = Integer()\n",
    "    z = Integer()\n",
    " \n",
    "    def __init__(self, x, y, z):\n",
    "        self.x = x\n",
    "        self.y = y\n",
    "        self.z = z\n",
    "\n",
    "pt = Point3D(1, 2, 3)\n",
    "print(pt.__dict__)"
   ]
  },
  {
   "attachments": {},
   "cell_type": "markdown",
   "metadata": {},
   "source": [
    "Теперь, если при формировании объекта указать неверный тип данных, то увидим сообщение об ошибке.\n",
    "Еще в классе Integer я сделаю обращение к атрибутам экземпляра через стандартные функции getattr и setattr:\n",
    "```Py\n",
    "def __get__(self, instance, owner):\n",
    "        return getattr(instance, self.name)\n",
    "\n",
    "def __set__(self, instance, value):\n",
    "    self.verify_coord(value)\n",
    "    setattr(instance, self.name, value)\n",
    "```\n",
    "Так будет правильнее, с точки зрения Python, чем обращение напрямую к специальной коллекции ```__dict__```.\n",
    "\n",
    "\n",
    "Резюмируем код:"
   ]
  },
  {
   "cell_type": "code",
   "execution_count": 51,
   "metadata": {},
   "outputs": [
    {
     "name": "stdout",
     "output_type": "stream",
     "text": [
      "{'_x': 1, '_y': 2, '_z': 3}\n"
     ]
    }
   ],
   "source": [
    "class Integer:\n",
    "    @classmethod\n",
    "    def verify_coord(cls, coord):\n",
    "        if type(coord) != int:\n",
    "            raise TypeError(\"Координата должна быть целым числом\")\n",
    " \n",
    "    def __set_name__(self, owner, name):\n",
    "        self.name = \"_\" + name\n",
    " \n",
    "    def __get__(self, instance, owner):\n",
    "        return getattr(instance, self.name)\n",
    "\n",
    "    def __set__(self, instance, value):\n",
    "        self.verify_coord(value)\n",
    "        setattr(instance, self.name, value)\n",
    "\n",
    "class Point3D:\n",
    "    x = Integer()\n",
    "    y = Integer()\n",
    "    z = Integer()\n",
    " \n",
    "    def __init__(self, x, y, z):\n",
    "        self.x = x\n",
    "        self.y = y\n",
    "        self.z = z\n",
    "\n",
    "pt = Point3D(1, 2, 3)\n",
    "print(pt.__dict__)"
   ]
  },
  {
   "attachments": {},
   "cell_type": "markdown",
   "metadata": {},
   "source": [
    "В итоге, мы с вами определили дескриптор данных (data descriptor) и на его основе создали три объекта x, y, z для интерфейса взаимодействия с координатами точки объектов класса Point3D."
   ]
  },
  {
   "attachments": {},
   "cell_type": "markdown",
   "metadata": {},
   "source": [
    "### Как осуществляется доступ к атрибутам с помощью цепочки поиска\n",
    "Чтобы понять немного больше о дескрипторах Python и внутреннем устройстве Python, вам нужно понять, что происходит в Python при обращении к атрибуту. В Python каждый объект имеет встроенный атрибут ```__dict__```. Это словарь, который содержит все атрибуты, определенные в самом объекте. Чтобы увидеть это в действии, рассмотрим следующий пример:"
   ]
  },
  {
   "cell_type": "code",
   "execution_count": 24,
   "metadata": {},
   "outputs": [
    {
     "name": "stdout",
     "output_type": "stream",
     "text": [
      "{'color': 'red'}\n",
      "{'__module__': '__main__', 'number_of_weels': 4, '__init__': <function Car.__init__ at 0x107048ae0>, '__doc__': None}\n"
     ]
    }
   ],
   "source": [
    "class Vehicle():\n",
    "    can_fly = False\n",
    "    number_of_weels = 0\n",
    "\n",
    "class Car(Vehicle):\n",
    "    number_of_weels = 4\n",
    "\n",
    "    def __init__(self, color):\n",
    "        self.color = color\n",
    "\n",
    "my_car = Car(\"red\")\n",
    "print(my_car.__dict__)\n",
    "print(type(my_car).__dict__)"
   ]
  },
  {
   "attachments": {},
   "cell_type": "markdown",
   "metadata": {},
   "source": [
    "Этот код создает новый объект и выводит содержимое атрибута ```__dict__``` как для объекта, так и для класса. Теперь запустите сценарий и проанализируйте вывод, чтобы увидеть установленные атрибуты ```__dict__```."
   ]
  },
  {
   "attachments": {},
   "cell_type": "markdown",
   "metadata": {},
   "source": [
    "Атрибуты ```__dict__``` установлены, как и ожидалось. Обратите внимание, что в Python все является объектом. Класс - это тоже объект, поэтому у него также будет атрибут ```__dict__```, который содержит все атрибуты и методы класса.\n",
    "\n",
    "Итак, что же происходит под капотом, когда вы обращаетесь к атрибуту в Python? Давайте проведем несколько тестов с помощью модифицированной версии предыдущего примера. Рассмотрим этот код:"
   ]
  },
  {
   "cell_type": "code",
   "execution_count": 25,
   "metadata": {},
   "outputs": [
    {
     "name": "stdout",
     "output_type": "stream",
     "text": [
      "red\n",
      "4\n",
      "False\n"
     ]
    }
   ],
   "source": [
    "# lookup.py\n",
    "class Vehicle(object):\n",
    "    can_fly = False\n",
    "    number_of_weels = 0\n",
    "\n",
    "class Car(Vehicle):\n",
    "    number_of_weels = 4\n",
    "\n",
    "    def __init__(self, color):\n",
    "        self.color = color\n",
    "\n",
    "my_car = Car(\"red\")\n",
    "\n",
    "print(my_car.color)\n",
    "print(my_car.number_of_weels)\n",
    "print(my_car.can_fly)"
   ]
  },
  {
   "attachments": {},
   "cell_type": "markdown",
   "metadata": {},
   "source": [
    "В этом примере вы создаете экземпляр класса Car, который наследуется от класса Vehicle. Затем вы получаете доступ к некоторым атрибутам. Если вы запустите этот пример, то увидите, что получите все ожидаемые значения.\n",
    "\n",
    "Здесь, когда вы обращаетесь к атрибуту color экземпляра my_car, вы фактически обращаетесь к единственному значению атрибута ```__dict__``` объекта my_car. Когда вы обращаетесь к атрибуту number_of_wheels объекта my_car, вы на самом деле обращаетесь к единственному значению атрибута ```__dict__``` класса Car. Наконец, когда вы обращаетесь к атрибуту can_fly, вы на самом деле обращаетесь к нему с помощью атрибута ```__dict__``` класса Vehicle.\n",
    "\n",
    "Это означает, что приведенный выше пример можно переписать следующим образом:"
   ]
  },
  {
   "cell_type": "code",
   "execution_count": 26,
   "metadata": {},
   "outputs": [
    {
     "name": "stdout",
     "output_type": "stream",
     "text": [
      "red\n",
      "4\n",
      "False\n"
     ]
    }
   ],
   "source": [
    "# lookup2.py\n",
    "class Vehicle():\n",
    "    can_fly = False\n",
    "    number_of_weels = 0\n",
    "\n",
    "class Car(Vehicle):\n",
    "    number_of_weels = 4\n",
    "\n",
    "    def __init__(self, color):\n",
    "        self.color = color\n",
    "\n",
    "my_car = Car(\"red\")\n",
    "\n",
    "print(my_car.__dict__['color'])\n",
    "print(type(my_car).__dict__['number_of_weels'])\n",
    "print(type(my_car).__base__.__dict__['can_fly']) # TYPE.__BASE__ Указывает на ближайший родительский тип, определяющий для текущего его основную линию наследственности."
   ]
  },
  {
   "attachments": {},
   "cell_type": "markdown",
   "metadata": {},
   "source": [
    "Что же происходит, когда вы обращаетесь к атрибуту объекта с помощью точечной нотации? Как интерпретатор узнает, что вам действительно нужно? Здесь вступает в силу концепция, называемая цепочкой поиска (lookup chain): **ЦЕПОЧКА ПОИСКА**. **ПРИОРИТЕТ ПОИСКА** **PY**\n",
    "\n",
    "- Сначала вы получите результат, возвращенный методом ```__get__``` дескриптора данных, названного по имени искомого атрибута.\n",
    "\n",
    "- Если это не удается, то вы получите значение ```__dict__``` вашего объекта для ключа, названного по имени искомого атрибута.\n",
    "\n",
    "- Если это не удается, то вы получите результат, возвращенный методом ```__get__``` дескриптора не-данных, названного по имени искомого атрибута.\n",
    "\n",
    "- Если это не удается, то вы получите значение ```__dict__``` вашего типа объекта для ключа, названного по имени искомого атрибута.\n",
    "\n",
    "- Если это не удастся, то вы получите значение ```__dict__``` родительского типа вашего объекта для ключа, названного после искомого атрибута.\n",
    "\n",
    "- Если это не удалось, то предыдущий шаг повторяется для всех родительских типов в порядке разрешения методов вашего объекта. (mro)\n",
    "\n",
    "- Если все остальное не удалось, то вы получите исключение AttributeError.\n",
    "\n",
    "Теперь вы понимаете, почему важно знать, является ли дескриптор дескриптором данных или дескриптором не данных? Они находятся на разных уровнях цепочки поиска, и позже вы увидите, что эта разница в поведении может быть очень удобной."
   ]
  },
  {
   "cell_type": "code",
   "execution_count": 27,
   "metadata": {},
   "outputs": [
    {
     "data": {
      "text/plain": [
       "10"
      ]
     },
     "execution_count": 27,
     "metadata": {},
     "output_type": "execute_result"
    }
   ],
   "source": [
    "class Ten:\n",
    "    def __get__(self, obj, objtype=None):\n",
    "        return 10\n",
    "\n",
    "class A:\n",
    "    x = 5                       # Regular class attribute\n",
    "    y = Ten()                   # Descriptor instance\n",
    "\n",
    "a = A()                     # Make an instance of class A\n",
    "a.x                         # Normal attribute lookup\n",
    "\n",
    "a.y                         # Descriptor lookup"
   ]
  },
  {
   "attachments": {},
   "cell_type": "markdown",
   "metadata": {},
   "source": [
    "При поиске атрибута a.x оператор точки находит 'x': 5 в словаре класса. В поиске атрибута a.y оператор точки находит экземпляр дескриптора, распознанный по его методу ```__get__```. Вызов этого метода возвращает 10."
   ]
  },
  {
   "attachments": {},
   "cell_type": "markdown",
   "metadata": {},
   "source": [
    "Теперь вернемся к тому, что вначале мы говорили, что важно различать дескрипторы данных и не данных. Напоминание: (Если ваш дескриптор реализует только ```.__get__()```, то говорят, что это **non-data descriptor** (дескриптор не данных). Если он реализует ```.__set__()``` или ```.__delete__()```, то говорят, что это **data descriptor** (дескриптор данных). Обратите внимание, что разница не только в названии, но и в поведении. Это потому, что дескрипторы данных имеют приоритет в процессе поиска) В чем разница? Ну, во-первых, очевидно, дескрипторы не данных не могут менять значения какого-либо свойства, так как не имеют сеттера и делитера. **Они служат только для считывания информации**. И есть второе важное отличие. **приоритет доступа.** О чем здесь речь? О lookup chain Давайте я покажу это различие на примере. Добавим в программу еще один дескриптор, только не данных (**non-data descriptor**):\n",
    "```Py\n",
    "class ReadIntX:\n",
    "    def __set_name__(self, owner, name):\n",
    "        self.name = \"_x\"\n",
    " \n",
    "    def __get__(self, instance, owner):\n",
    "        return getattr(instance, self.name)\n",
    "```\n",
    "Он у нас будет считывать локальное свойство _x. Определим его в классе Point3D:\n",
    "```Py\n",
    "xr = ReadIntX()\n",
    "```\n",
    "И теперь можем использовать для считывания локального атрибута _x:\n",
    "```Py\n",
    "print(pt.xr)\n",
    "```"
   ]
  },
  {
   "attachments": {},
   "cell_type": "markdown",
   "metadata": {},
   "source": [
    "Т.e: Если в ```__dict__``` владельца имеется запись с ключём, совпадающим с именем атрибута, указывающего на дескриптор, то в случае дескрипторов не-данных при обращении к атрибуту вернётся значение из ```__dict__```, а не из дескриптора. В случае дескрипторов данных наоборот — значение из дескриптора."
   ]
  },
  {
   "cell_type": "code",
   "execution_count": 19,
   "metadata": {},
   "outputs": [
    {
     "name": "stdout",
     "output_type": "stream",
     "text": [
      "{'_x': 1, '_y': 2, '_z': 3}\n",
      "5 {'_x': 1, '_y': 2, '_z': 3, 'xr': 5}\n"
     ]
    }
   ],
   "source": [
    "class Integer:\n",
    "    @classmethod\n",
    "    def verify_coord(cls, coord):\n",
    "        if type(coord) != int:\n",
    "            raise TypeError(\"Координата должна быть целым числом\")\n",
    " \n",
    "    def __set_name__(self, owner, name):\n",
    "        self.name = \"_\" + name\n",
    " \n",
    "    def __get__(self, instance, owner):\n",
    "        return getattr(instance, self.name)\n",
    "\n",
    "    def __set__(self, instance, value):\n",
    "        self.verify_coord(value)\n",
    "        setattr(instance, self.name, value)\n",
    "\n",
    "class ReadIntX: # <-- non-data descriptor\n",
    "    def __set_name__(self, owner, name):\n",
    "        self.name = \"_x\"\n",
    " \n",
    "    def __get__(self, instance, owner):\n",
    "        return getattr(instance, self.name)\n",
    "    \n",
    "class Point3D:\n",
    "    x = Integer()\n",
    "    y = Integer()\n",
    "    z = Integer()\n",
    "    xr = ReadIntX() # <-- non-data descriptor instance\n",
    " \n",
    "    def __init__(self, x, y, z):\n",
    "        self.x = x\n",
    "        self.y = y\n",
    "        self.z = z\n",
    "\n",
    "pt = Point3D(1, 2, 3)\n",
    "print(pt.__dict__)\n",
    "##\n",
    "pt.xr = 5\n",
    "print(pt.xr, pt.__dict__) # pt.xr возв"
   ]
  },
  {
   "attachments": {},
   "cell_type": "markdown",
   "metadata": {},
   "source": [
    "Как видите, все работает. Но, что будет, если мы запишем конструкцию:\n",
    "```Py\n",
    "pt.xr = 5\n",
    "```\n",
    "Произойдет ошибка? Нет! В экземпляре pt будет создано новое локальное свойство с именем xr и мы в этом можем убедиться:\n",
    "```Py\n",
    "print(pt.xr, pt.__dict__)\n",
    "```\n",
    "Кроме того, при обращении к pt.xr мы получаем значение 5, а не 1. Это, как раз и говорит о том, что приоритет доступа к локальным свойствам объекта и к дескриптору не данных одинаков. (Код выше)"
   ]
  },
  {
   "attachments": {},
   "cell_type": "markdown",
   "metadata": {},
   "source": [
    "Однако, если в дескриптор добавить сеттер и превратить его в дескриптор данных:\n",
    "```Py\n",
    "class ReadIntX:\n",
    "    def __set_name__(self, owner, name):\n",
    "        self.name = \"_x\"\n",
    " \n",
    "    def __get__(self, instance, owner):\n",
    "        return getattr(instance, self.name)\n",
    " \n",
    "    def __set__(self, instance, value):\n",
    "        setattr(instance, self.name, value)\n",
    "```\n",
    "А создание локального атрибута xr в объекте pt мы сделаем через коллекцию ```__dict__```:\n",
    "```Py\n",
    "pt.__dict__['xr'] = 5\n",
    "```\n",
    "то при выполнении:\n",
    "```Py\n",
    "print(pt.xr, pt.__dict__)\n",
    "```\n",
    "увидим значение 1, хотя в объекте существует свойство xr, которое установили в значение 5. Это произошло потому, что **приоритет обращению к дескриптору данных выше, чем к локальным атрибутам экземпляра класса**. То есть, здесь все работает ровно так, как и с доступом к объектам-свойствам, о которых мы говорили на прошлых занятиях:"
   ]
  },
  {
   "cell_type": "code",
   "execution_count": 20,
   "metadata": {},
   "outputs": [
    {
     "name": "stdout",
     "output_type": "stream",
     "text": [
      "{'_x': 1, '_y': 2, '_z': 3}\n",
      "1 {'_x': 1, '_y': 2, '_z': 3, 'xr': 5}\n"
     ]
    }
   ],
   "source": [
    "class Integer:\n",
    "    @classmethod\n",
    "    def verify_coord(cls, coord):\n",
    "        if type(coord) != int:\n",
    "            raise TypeError(\"Координата должна быть целым числом\")\n",
    " \n",
    "    def __set_name__(self, owner, name):\n",
    "        self.name = \"_\" + name\n",
    " \n",
    "    def __get__(self, instance, owner):\n",
    "        return getattr(instance, self.name)\n",
    "\n",
    "    def __set__(self, instance, value):\n",
    "        self.verify_coord(value)\n",
    "        setattr(instance, self.name, value)\n",
    "\n",
    "class ReadIntX: # <-- data descriptor\n",
    "    def __set_name__(self, owner, name):\n",
    "        self.name = \"_x\"\n",
    " \n",
    "    def __get__(self, instance, owner):\n",
    "        return getattr(instance, self.name)\n",
    " \n",
    "    def __set__(self, instance, value):\n",
    "        setattr(instance, self.name, value)\n",
    "    \n",
    "class Point3D:\n",
    "    x = Integer()\n",
    "    y = Integer()\n",
    "    z = Integer()\n",
    "    xr = ReadIntX() # <-- data descriptor instance\n",
    " \n",
    "    def __init__(self, x, y, z):\n",
    "        self.x = x\n",
    "        self.y = y\n",
    "        self.z = z\n",
    "\n",
    "pt = Point3D(1, 2, 3)\n",
    "print(pt.__dict__)\n",
    "##\n",
    "#pt.xr = 5\n",
    "#print(pt.xr, pt.__dict__)\n",
    "pt.__dict__['xr'] = 5\n",
    "print(pt.xr, pt.__dict__)"
   ]
  },
  {
   "attachments": {},
   "cell_type": "markdown",
   "metadata": {},
   "source": [
    "Еще один важный момент: дескрипторы Python инстанцируются только один раз для каждого класса. Это означает, что каждый экземпляр класса, содержащего дескриптор, разделяет этот экземпляр дескриптора. Это то, чего вы можете не ожидать, и может привести к классической ошибке, например, такой:"
   ]
  },
  {
   "cell_type": "code",
   "execution_count": 3,
   "metadata": {},
   "outputs": [
    {
     "name": "stdout",
     "output_type": "stream",
     "text": [
      "3\n",
      "3\n",
      "3\n"
     ]
    }
   ],
   "source": [
    "# descriptors2.py\n",
    "class OneDigitNumericValue():\n",
    "    # set name поможет исправить ситуацию, как в примерах выше\n",
    "    def __init__(self):\n",
    "        self.value = 0\n",
    "    def __get__(self, obj, type=None) -> object:\n",
    "        return self.value\n",
    "    def __set__(self, obj, value) -> None:\n",
    "        if value > 9 or value < 0 or int(value) != value:\n",
    "            raise AttributeError(\"The value is invalid\")\n",
    "        self.value = value\n",
    "\n",
    "class Foo():\n",
    "    number = OneDigitNumericValue()\n",
    "\n",
    "my_foo_object = Foo()\n",
    "my_second_foo_object = Foo()\n",
    "\n",
    "my_foo_object.number = 3\n",
    "print(my_foo_object.number) # ожидали 0\n",
    "print(my_second_foo_object.number)\n",
    "\n",
    "my_third_foo_object = Foo()\n",
    "print(my_third_foo_object.number)"
   ]
  },
  {
   "attachments": {},
   "cell_type": "markdown",
   "metadata": {},
   "source": [
    "With set name:\n",
    "\n",
    "С помощью этого нового метода каждый раз, когда вы инстанцируете дескриптор, вызывается этот метод и автоматически устанавливается параметр name."
   ]
  },
  {
   "cell_type": "code",
   "execution_count": 52,
   "metadata": {},
   "outputs": [
    {
     "name": "stdout",
     "output_type": "stream",
     "text": [
      "3\n",
      "0\n",
      "0\n"
     ]
    }
   ],
   "source": [
    "# descriptors5.py\n",
    "class OneDigitNumericValue():\n",
    "    def __set_name__(self, owner, name):\n",
    "        self.name = name\n",
    "\n",
    "    def __get__(self, obj, type=None) -> object:\n",
    "        return obj.__dict__.get(self.name) or 0\n",
    "\n",
    "    def __set__(self, obj, value) -> None:\n",
    "        obj.__dict__[self.name] = value\n",
    "\n",
    "class Foo():\n",
    "    number = OneDigitNumericValue()\n",
    "\n",
    "my_foo_object = Foo()\n",
    "my_second_foo_object = Foo()\n",
    "\n",
    "my_foo_object.number = 3\n",
    "print(my_foo_object.number)\n",
    "print(my_second_foo_object.number)\n",
    "\n",
    "my_third_foo_object = Foo()\n",
    "print(my_third_foo_object.number)"
   ]
  },
  {
   "attachments": {},
   "cell_type": "markdown",
   "metadata": {},
   "source": [
    "Вернемся к примеру:"
   ]
  },
  {
   "cell_type": "code",
   "execution_count": 22,
   "metadata": {},
   "outputs": [
    {
     "name": "stdout",
     "output_type": "stream",
     "text": [
      "accessing the attribute to get the value\n",
      "42\n"
     ]
    }
   ],
   "source": [
    "# descriptors.py\n",
    "class Verbose_attribute():\n",
    "    def __get__(self, obj, type=None) -> object:\n",
    "        print(\"accessing the attribute to get the value\")\n",
    "        return 42\n",
    "    def __set__(self, obj, value) -> None:\n",
    "        print(\"accessing the attribute to set the value\")\n",
    "        raise AttributeError(\"Cannot change the value\")\n",
    "\n",
    "class Foo():\n",
    "    attribute1 = Verbose_attribute()\n",
    "\n",
    "my_foo_object = Foo()\n",
    "x = my_foo_object.attribute1\n",
    "print(x)"
   ]
  },
  {
   "attachments": {},
   "cell_type": "markdown",
   "metadata": {},
   "source": [
    "В приведенном выше примере Verbose_attribute() реализует протокол дескриптора. Как только она инстанцируется как атрибут Foo, ее можно считать дескриптором.\n",
    "\n",
    "Когда к нему обращаются через ```.__get__()``` значения, он всегда возвращает значение 42.\n",
    "Когда к нему обращаются, через ```.__set__()```, он вызывает исключение AttributeError, что является рекомендуемым способом реализации дескрипторов только для чтения."
   ]
  },
  {
   "attachments": {},
   "cell_type": "markdown",
   "metadata": {},
   "source": [
    "Интересно, но свойства (@property) в Python - это просто.. дескрипторы!"
   ]
  },
  {
   "attachments": {},
   "cell_type": "markdown",
   "metadata": {},
   "source": [
    "Если вы хотите получить тот же результат, что и в предыдущем примере, без явного использования дескриптора Python, то наиболее простым подходом будет использование свойства (property). В следующем примере используется свойство, которое при обращении к нему записывает сообщение в консоль:"
   ]
  },
  {
   "cell_type": "code",
   "execution_count": 21,
   "metadata": {},
   "outputs": [
    {
     "name": "stdout",
     "output_type": "stream",
     "text": [
      "accessing the attribute to get the value\n",
      "42\n"
     ]
    }
   ],
   "source": [
    "# property_decorator.py\n",
    "class Foo():\n",
    "    @property\n",
    "    def attribute1(self) -> object:\n",
    "        print(\"accessing the attribute to get the value\")\n",
    "        return 42\n",
    "\n",
    "    @attribute1.setter\n",
    "    def attribute1(self, value) -> None:\n",
    "        print(\"accessing the attribute to set the value\")\n",
    "        raise AttributeError(\"Cannot change the value\")\n",
    "\n",
    "my_foo_object = Foo()\n",
    "x = my_foo_object.attribute1\n",
    "print(x)"
   ]
  },
  {
   "attachments": {},
   "cell_type": "markdown",
   "metadata": {},
   "source": [
    "В приведенном выше примере декораторы используются для определения свойства с методами getter и setter. Но, как мы знаем, декораторы - это просто синтаксический сахар. На самом деле, приведенный пример можно записать следующим образом:"
   ]
  },
  {
   "cell_type": "code",
   "execution_count": 23,
   "metadata": {},
   "outputs": [
    {
     "name": "stdout",
     "output_type": "stream",
     "text": [
      "accessing the attribute to get the value\n",
      "42\n"
     ]
    }
   ],
   "source": [
    "# property_function.py\n",
    "class Foo():\n",
    "    def getter(self) -> object:\n",
    "        print(\"accessing the attribute to get the value\")\n",
    "        return 42\n",
    "\n",
    "    def setter(self, value) -> None:\n",
    "        print(\"accessing the attribute to set the value\")\n",
    "        raise AttributeError(\"Cannot change the value\")\n",
    "\n",
    "    attribute1 = property(getter, setter)\n",
    "\n",
    "my_foo_object = Foo()\n",
    "x = my_foo_object.attribute1\n",
    "print(x)"
   ]
  },
  {
   "attachments": {},
   "cell_type": "markdown",
   "metadata": {},
   "source": [
    "Теперь вы видите, что свойство было создано с помощью функции property(). Напомним шаблон этой функции:\n",
    "```\n",
    "property(fget=None, fset=None, fdel=None, doc=None) -> object\n",
    "```"
   ]
  },
  {
   "attachments": {},
   "cell_type": "markdown",
   "metadata": {},
   "source": [
    "property() возвращает объект-свойство, реализующий протокол дескриптора. Он использует параметры fget, fset и fdel для фактической реализации трех методов протокола."
   ]
  },
  {
   "attachments": {},
   "cell_type": "markdown",
   "metadata": {},
   "source": [
    "В заключение.\n",
    "Дескриптор - это то, как мы называем любой объект, который определяет ```__get__()```, ```__set__()``` или ```__delete__()```.\n",
    "\n",
    "Как вариант, дескрипторы могут иметь метод ```__set_name__()```. Он используется только в тех случаях, когда дескриптору необходимо знать либо класс, в котором он был создан, либо имя переменной класса, которой он был присвоен. (Этот метод, если он присутствует, вызывается, даже если класс не является дескриптором).\n",
    "\n",
    "Дескрипторы вызываются оператором dot (точка) во время поиска атрибутов. Если к дескриптору обращаются косвенно с помощью vars(some_class)[имя_дескриптора], то экземпляр дескриптора возвращается без его вызова.\n",
    "\n",
    "Дескрипторы работают только при использовании в качестве переменных класса. Когда они помещены в экземпляры, они не имеют никакого эффекта.\n",
    "\n",
    "Основная мотивация дескрипторов - предоставить \"крючок\", позволяющий объектам, хранящимся в переменных класса, управлять тем, что происходит во время поиска атрибутов.\n",
    "\n",
    "Традиционно вызывающий класс управляет тем, что происходит во время поиска. Дескрипторы меняют эти отношения и позволяют данным, которые ищутся, иметь право голоса.\n",
    "\n",
    "Дескрипторы используются во всем языке. С их помощью функции превращаются в связанные методы. Такие распространенные инструменты, как classmethod(), staticmethod(), property() и functools.cached_property(), реализованы в виде дескрипторов."
   ]
  },
  {
   "attachments": {},
   "cell_type": "markdown",
   "metadata": {},
   "source": [
    "Хоть и этот функционал относительно редко используется в практике. Но знать это необходимо, чтобы при необходимости не изобретать велосипед, а использовать уже встроенные возможности языка Python."
   ]
  }
 ],
 "metadata": {
  "kernelspec": {
   "display_name": "Python 3",
   "language": "python",
   "name": "python3"
  },
  "language_info": {
   "codemirror_mode": {
    "name": "ipython",
    "version": 3
   },
   "file_extension": ".py",
   "mimetype": "text/x-python",
   "name": "python",
   "nbconvert_exporter": "python",
   "pygments_lexer": "ipython3",
   "version": "3.11.1"
  },
  "orig_nbformat": 4
 },
 "nbformat": 4,
 "nbformat_minor": 2
}

{
 "cells": [
  {
   "cell_type": "code",
   "execution_count": 105,
   "metadata": {},
   "outputs": [],
   "source": [
    "def is_exit(i: int, j:int, maze: list, var_exit: list, k: int ):\n",
    "    if [i,j] in var_exit:\n",
    "        if maze[i][j]=='N':\n",
    "            k=1\n",
    "        elif maze[i][j]=='N' and k==1:\n",
    "            return False\n",
    "        elif maze[i][j]=='#':\n",
    "            return False\n",
    "        return is_exit(i-1,j,maze,var_exit,k) or is_exit(i,j+1,maze,var_exit,k) or is_exit(i+1,j,maze,var_exit,k) or is_exit(i,j-1,maze,var_exit,k)\n",
    "    else:\n",
    "        return True\n",
    "\n",
    "def main():  \n",
    "    \n",
    "    f=open(\"mazeinput.txt\",\"r\")\n",
    "\n",
    "    #создаю бесконечный цикл while, чтобы \n",
    "    maze=[]\n",
    "    while True:\n",
    "        line = f.readline()\n",
    "        line=line[9:17]\n",
    "        if not line:\n",
    "            break\n",
    "        else:\n",
    "            maze.append(line)\n",
    "\n",
    "    # делаем двумерный список и проверем правильность входных данных (одна ли Нора)\n",
    "    k=0\n",
    "    for i in range (len(maze)):\n",
    "        if maze[i].find('N') != -1:\n",
    "            nora=[i,maze[i].find('N')]\n",
    "            k+=1\n",
    "        maze[i]=[c for c in (maze[i])]\n",
    "    if k>1:\n",
    "        print(\"Неверные входные данные(Нора)\")\n",
    "    \n",
    "    # найдём все возможные выходы из лабиринта\n",
    "    var_exit = []\n",
    "    for i in range (len(maze)):\n",
    "        for j in range (len(maze[i])):\n",
    "            if i==0 or i==(len(maze)-1):\n",
    "                var_exit.append([i,j])\n",
    "            if j==0 or j==7:\n",
    "                var_exit.append([i,j])\n",
    "\n",
    "    # Проверим есть ли вообще выход из лабиринта\n",
    "    del0=0\n",
    "    for j in range (len(var_exit)):\n",
    "        if maze[var_exit[j][0]][var_exit[j][1]] == \" \":\n",
    "            del0=1\n",
    "    if del0==0:\n",
    "        print(\"Выхода из лабиринта не существует\")\n",
    "\n",
    "    f = open(\"mazeoutput.txt\",\"w\")\n",
    "    f.write(f\"{is_exit(nora[0],nora[1],maze,var_exit,k=0)}\")\n",
    "    f.close()\n",
    "                \n",
    "\n",
    "if __name__==\"__main__\":\n",
    "    main()"
   ]
  }
 ],
 "metadata": {
  "kernelspec": {
   "display_name": "base",
   "language": "python",
   "name": "python3"
  },
  "language_info": {
   "codemirror_mode": {
    "name": "ipython",
    "version": 3
   },
   "file_extension": ".py",
   "mimetype": "text/x-python",
   "name": "python",
   "nbconvert_exporter": "python",
   "pygments_lexer": "ipython3",
   "version": "3.9.12"
  },
  "orig_nbformat": 4,
  "vscode": {
   "interpreter": {
    "hash": "c42d99d755d00efaf066b964ceed011a4027ae5af520c8ef8190b9acee3a6094"
   }
  }
 },
 "nbformat": 4,
 "nbformat_minor": 2
}

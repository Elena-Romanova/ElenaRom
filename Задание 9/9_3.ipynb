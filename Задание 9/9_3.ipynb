{
 "cells": [
  {
   "cell_type": "code",
   "execution_count": 3,
   "metadata": {},
   "outputs": [
    {
     "name": "stdout",
     "output_type": "stream",
     "text": [
      "['11', '12', '14', '21', '22', '24', '41', '42', '44']\n"
     ]
    }
   ],
   "source": [
    "d = {\n",
    "        '1': ['1', '2', '4'] , \n",
    "        '2': ['1', '2', '3', '5'],\n",
    "        '3': ['2', '3', '6'],\n",
    "        '4': ['1', '4', '5', '7'],\n",
    "        '5': ['2', '4', '5', '6', '8'],\n",
    "        '7': ['4', '7', '8'],\n",
    "        '8': ['5', '7', '8', '9', '0'],\n",
    "        '9': ['6', '8', '9'],\n",
    "        '0': ['8', '0'] \n",
    "        }\n",
    "\n",
    "def get_pins(pin):\n",
    "    if len(pin) == 1:\n",
    "        print(d[pin[0]])\n",
    "        \n",
    "    elif len(pin) > 1:\n",
    "        s1=d[pin[0]]\n",
    "        \n",
    "        for i in range (1,len(pin)):\n",
    "            s2=d[pin[i]]\n",
    "            \n",
    "            for q in range (len(s1)):\n",
    "                for j in range (len(s2)):\n",
    "                    promeg_znach.append(str(s1[q] + s2[j]))\n",
    "            rez0 = promeg_znach\n",
    "            s1 = promeg_znach\n",
    "    return rez0\n",
    "\n",
    "\n",
    "\n",
    "pin = [str(x) for x in input(\"Введите числа предполагаемого пароля через пробел \").split(' ')]\n",
    "\n",
    "rez=[]\n",
    "promeg_znach=[]\n",
    "\n",
    "rez0 = get_pins(pin)\n",
    "\n",
    "for i in range (len(rez0)):\n",
    "    if len(rez0[i]) == len(pin) :\n",
    "        rez.append(rez0[i])\n",
    "\n",
    "print (rez) \n",
    "\n",
    "\n",
    "\n",
    "\n"
   ]
  }
 ],
 "metadata": {
  "kernelspec": {
   "display_name": "base",
   "language": "python",
   "name": "python3"
  },
  "language_info": {
   "codemirror_mode": {
    "name": "ipython",
    "version": 3
   },
   "file_extension": ".py",
   "mimetype": "text/x-python",
   "name": "python",
   "nbconvert_exporter": "python",
   "pygments_lexer": "ipython3",
   "version": "3.9.12"
  },
  "orig_nbformat": 4,
  "vscode": {
   "interpreter": {
    "hash": "c42d99d755d00efaf066b964ceed011a4027ae5af520c8ef8190b9acee3a6094"
   }
  }
 },
 "nbformat": 4,
 "nbformat_minor": 2
}

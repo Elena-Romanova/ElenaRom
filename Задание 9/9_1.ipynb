{
 "cells": [
  {
   "cell_type": "code",
   "execution_count": 6,
   "metadata": {},
   "outputs": [
    {
     "name": "stdout",
     "output_type": "stream",
     "text": [
      "{'Руслан Махатадзе': 12345, 'Вагинак Погосян': None, 'Владимир Спиридонов': 12354, 'Владислава Николаева': 12435, 'Злата Корягина': None}\n"
     ]
    }
   ],
   "source": [
    "def santa_users(users):\n",
    "    rez = {}\n",
    "    for user in users:\n",
    "        userName = user[0]\n",
    "        if len(user) == 2:\n",
    "            userAdress = user[1]\n",
    "        else:\n",
    "            userAdress = None\n",
    "        rez[userName] = userAdress\n",
    "    return rez\n",
    "if __name__ == \"__main__\":\n",
    "    users = [[\"Руслан Махатадзе\", 12345], [\"Вагинак Погосян\"], [\"Владимир Спиридонов\", 12354], [\"Владислава Николаева\", 12435], [\"Злата Корягина\",]]\n",
    "    print(santa_users(users))"
   ]
  }
 ],
 "metadata": {
  "kernelspec": {
   "display_name": "base",
   "language": "python",
   "name": "python3"
  },
  "language_info": {
   "codemirror_mode": {
    "name": "ipython",
    "version": 3
   },
   "file_extension": ".py",
   "mimetype": "text/x-python",
   "name": "python",
   "nbconvert_exporter": "python",
   "pygments_lexer": "ipython3",
   "version": "3.9.12"
  },
  "orig_nbformat": 4,
  "vscode": {
   "interpreter": {
    "hash": "c42d99d755d00efaf066b964ceed011a4027ae5af520c8ef8190b9acee3a6094"
   }
  }
 },
 "nbformat": 4,
 "nbformat_minor": 2
}

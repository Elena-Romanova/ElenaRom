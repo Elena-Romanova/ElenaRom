{
 "cells": [
  {
   "attachments": {},
   "cell_type": "markdown",
   "metadata": {},
   "source": [
    "# dataclasses"
   ]
  },
  {
   "attachments": {},
   "cell_type": "markdown",
   "metadata": {},
   "source": [
    "`@dataclass` - это декоратор из модуля `dataclasses` в Python, который позволяет автоматически создавать классы для хранения данных (data classes). Он предоставляет удобный способ определения классов, которые служат для хранения данных, с автоматической генерацией основных методов, таких как `__init__`, `__repr__`, `__eq__` и других.\n",
    "\n",
    "Использование `@dataclass` позволяет упростить создание классов данных и автоматически генерировать код, который обычно приходится писать вручную. Это улучшает читаемость кода, сокращает количество повторяющегося кода и упрощает сравнение, хеширование и преобразование экземпляров класса.\n",
    "\n",
    "Основные преимущества использования `@dataclass`:\n",
    "\n",
    "1. Автоматическое создание методов `__init__`, `__repr__`, `__eq__`, `__ne__`, `__hash__` и других.\n",
    "2. Предоставление простого способа определения полей данных с типами и значениями по умолчанию.\n",
    "3. Гибкость настройки поведения класса данных с помощью параметров декоратора и функций модуля `dataclasses`.\n",
    "4. Возможность создания неизменяемых объектов (frozen=True) и поддержки сравнения и сортировки (order=True).\n",
    "\n",
    "В целом, `@dataclass` упрощает работу с классами данных, делая код более ясным, кратким и поддерживаемым."
   ]
  },
  {
   "attachments": {},
   "cell_type": "markdown",
   "metadata": {},
   "source": [
    "\"Поле данных\" (data field) относится к атрибутам, определенным в классе данных (@dataclass). Это переменные, которые хранят значения данных в экземплярах класса.\n",
    "\n",
    "Каждое поле данных обычно определяется как атрибут класса с определенным именем, типом и (опционально) значением по умолчанию. Например, в классе данных может быть поле \"name\" типа str, поле \"age\" типа int, и так далее."
   ]
  },
  {
   "attachments": {},
   "cell_type": "markdown",
   "metadata": {},
   "source": [
    "Давайте познакомимся с относительно новой идеей «быстрого» описания классов (классов данных – Data Classes). О чем здесь речь? Довольно часто при объявлении классов в программах на Python приходится прописывать инициализатор, например, следующим образом:\n",
    "```Py\n",
    "class Thing:\n",
    "    def __init__(self, name, weight, price):\n",
    "        self.name = name\n",
    "        self.weight = weight\n",
    "        self.price = price\n",
    "```\n",
    "\n",
    "То есть, передается несколько полей: name, weight, price, которые предполагается сохранять в объектах класса Thing. И это довольно типовая ситуация. Мало того, если создать объект этого класса и вывести его в консоль:\n",
    "```Py\n",
    "t = Thing(\"Учебник по Python\", 100, 1024)\n",
    "print(t)\n",
    "```\n",
    "то увидим нечто неинформативное, вроде:\n",
    "```\n",
    "<__main__.Thing object at 0x0000014B7D29A7D0>\n",
    "```\n",
    "Поэтому, опять же нередко, в таких классах с данными приходится прописывать магический метод ```__repr__()```, например, так:\n",
    "```Py\n",
    "    def __repr__(self):\n",
    "        return f\"Thing: {self.__dict__}\"\n",
    "```"
   ]
  },
  {
   "cell_type": "code",
   "execution_count": 1,
   "metadata": {},
   "outputs": [
    {
     "name": "stdout",
     "output_type": "stream",
     "text": [
      "Thing: {'name': 'Учебник по Python', 'weight': 100, 'price': 1024}\n"
     ]
    }
   ],
   "source": [
    "class Thing:\n",
    "    def __init__(self, name, weight, price):\n",
    "        self.name = name\n",
    "        self.weight = weight\n",
    "        self.price = price\n",
    "    def __repr__(self):\n",
    "        return f\"Thing: {self.__dict__}\"\n",
    "\n",
    "t = Thing(\"Учебник по Python\", 100, 1024)\n",
    "print(t)"
   ]
  },
  {
   "attachments": {},
   "cell_type": "markdown",
   "metadata": {},
   "source": [
    "Видите, сколько писанины приходится делать для описания классов, подобных классу Thing?! И это лишь необходимый минимум. Представьте объем рутиной работы для описания всего лишь нескольких таких классов.\n",
    "\n",
    "Так как программист, зачастую, существо ленивое, но творческое, уже давно предпринимались попытки автоматизировать этот процесс. \n",
    "\n",
    "Начиная с версии Python 3.7, появилась возможность «из коробки» использовать инструмент для оптимизации объявления классов, содержащих произвольные данные, то есть,  Data Classes. Для этого, в самом простом варианте, достаточно импортировать специальный декоратор, который так и называется dataclass:\n",
    "```Py\n",
    "from dataclasses import dataclass\n",
    "```\n",
    "И с его помощью объявим в программе еще один класс ThingData, который будет эквивалентен ранее объявленному классу Thing:\n",
    "```Py\n",
    "@dataclass\n",
    "class ThingData:\n",
    "    name: str\n",
    "    weight: int\n",
    "    price: float\n",
    "```\n",
    "Смотрите, какое у нас получилось компактное объявление класса ThingData! Давайте разберемся, что здесь к чему. Вначале должен идти декоратор dataclass, который будет формировать описание класса ThingData с инициализатором и магическим методом ```__repr__()```. Внутри класса следует описание параметров для инициализатора. Да, все приведенные атрибуты внутри класса ThingData впоследствии, с помощью декоратора dataclass, преобразуются в набор параметров инициализатора. При этом атрибуты обязательно должны быть аннотированы соответствующими типами данных.\n",
    "\n",
    "Давайте детальнее посмотрим, что в итоге будет содержать класс ThingData. Для этого мы импортируем функцию pprint() для лучшего отображения данных из коллекций:\n",
    "```Py\n",
    "from pprint import pprint\n",
    "```\n",
    "и вызовем ее для коллекции ```__dict__``` класса ThingData:\n",
    "\n",
    "pprint(ThingData.```__dict__```)"
   ]
  },
  {
   "cell_type": "code",
   "execution_count": 3,
   "metadata": {},
   "outputs": [
    {
     "name": "stdout",
     "output_type": "stream",
     "text": [
      "mappingproxy({'__annotations__': {'name': <class 'str'>,\n",
      "                                  'price': <class 'float'>,\n",
      "                                  'weight': <class 'int'>},\n",
      "              '__dataclass_fields__': {'name': Field(name='name',type=<class 'str'>,default=<dataclasses._MISSING_TYPE object at 0x1018bf1d0>,default_factory=<dataclasses._MISSING_TYPE object at 0x1018bf1d0>,init=True,repr=True,hash=None,compare=True,metadata=mappingproxy({}),kw_only=False,_field_type=_FIELD),\n",
      "                                       'price': Field(name='price',type=<class 'float'>,default=<dataclasses._MISSING_TYPE object at 0x1018bf1d0>,default_factory=<dataclasses._MISSING_TYPE object at 0x1018bf1d0>,init=True,repr=True,hash=None,compare=True,metadata=mappingproxy({}),kw_only=False,_field_type=_FIELD),\n",
      "                                       'weight': Field(name='weight',type=<class 'int'>,default=<dataclasses._MISSING_TYPE object at 0x1018bf1d0>,default_factory=<dataclasses._MISSING_TYPE object at 0x1018bf1d0>,init=True,repr=True,hash=None,compare=True,metadata=mappingproxy({}),kw_only=False,_field_type=_FIELD)},\n",
      "              '__dataclass_params__': _DataclassParams(init=True,repr=True,eq=True,order=False,unsafe_hash=False,frozen=False),\n",
      "              '__dict__': <attribute '__dict__' of 'ThingData' objects>,\n",
      "              '__doc__': 'ThingData(name: str, weight: int, price: float)',\n",
      "              '__eq__': <function ThingData.__eq__ at 0x103f180e0>,\n",
      "              '__hash__': None,\n",
      "              '__init__': <function ThingData.__init__ at 0x103a3bc40>,\n",
      "              '__match_args__': ('name', 'weight', 'price'),\n",
      "              '__module__': '__main__',\n",
      "              '__repr__': <function ThingData.__repr__ at 0x103a3bec0>,\n",
      "              '__weakref__': <attribute '__weakref__' of 'ThingData' objects>})\n"
     ]
    }
   ],
   "source": [
    "from pprint import pprint\n",
    "from dataclasses import dataclass\n",
    "\n",
    "@dataclass\n",
    "class ThingData:\n",
    "    name: str\n",
    "    weight: int\n",
    "    price: float\n",
    "\n",
    "pprint(ThingData.__dict__)"
   ]
  },
  {
   "attachments": {},
   "cell_type": "markdown",
   "metadata": {},
   "source": [
    "Видим, что ```__dict__``` ссылается на объект типа mappingproxy, внутри которого имеется инициализатор ```__init__()``` и магический метод ```__repr__()```. То есть, в класс ThingData автоматически были добавлены эти два метода. Кроме того, имеется магический метод ```__eq__()``` для выполнения операции сравнения на равенство объектов класса ThingData. Также имеется специальный словарь ```__dataclass_fields__```, содержащий указанные нами атрибуты при описании класса ThingData. Таким образом, класс ThingData обладает необходимым базовым функционалом при работе с атрибутами: name, weight и price. Давайте в этом убедимся. Создадим объект этого класса:\n",
    "```Py\n",
    "td = ThingData(\"Учебник по Python\", 100, 1024)\n",
    "```\n",
    "Обратите внимание, в качестве первого аргумента я указал строку, а вторые два – это вес и цена. То есть, параметры в инициализаторе следуют в том же порядке, что и атрибуты, указанные при описании класса ThingData. И это чаще всего так. Порядок, как правило, не изменяют и оставляют по умолчанию.\n",
    "\n",
    "Далее, выведем на экран объект td с помощью функции print():\n",
    "```Py\n",
    "print(td)\n",
    "```"
   ]
  },
  {
   "cell_type": "code",
   "execution_count": 6,
   "metadata": {},
   "outputs": [
    {
     "name": "stdout",
     "output_type": "stream",
     "text": [
      "ThingData(name='Учебник по Python', weight=100, price=1024)\n"
     ]
    }
   ],
   "source": [
    "from pprint import pprint\n",
    "from dataclasses import dataclass\n",
    "\n",
    "@dataclass\n",
    "class ThingData:\n",
    "    name: str\n",
    "    weight: int\n",
    "    price: float\n",
    "\n",
    "td = ThingData(\"Учебник по Python\", 100, 1024)\n",
    "print(td)\n",
    "# pprint(ThingData.__dict__)"
   ]
  },
  {
   "attachments": {},
   "cell_type": "markdown",
   "metadata": {},
   "source": [
    "Увидим в консоли информацию:\n",
    "```\n",
    "ThingData(name='Учебник по Python', weight=100, price=1024)\n",
    "```\n",
    "Видите, как информативно отображается объект td класса ThingData?! Это, как раз, благодаря переопределению магического метода ```__repr__()``` внутри класса ThingData. Для уверенности, мы можем даже явно его вызвать в функции print() следующим образом:\n",
    "```Py\n",
    "print(repr(td))\n",
    "```"
   ]
  },
  {
   "attachments": {},
   "cell_type": "markdown",
   "metadata": {},
   "source": [
    "и увидим тот же самый результат. И это очень здорово! Нам теперь не нужно тратить время на написание типового, рутинного кода. Да и само объявление класса в программе, чисто визуально, выглядит куда лучше. Главное, правильно понимать это объявление.\n",
    "\n",
    "Давайте попробуем протестировать еще один магический метод ```__eq__()```, который также был добавлен в класс ThingData. Для этого мы создадим в программе второй объект этого класса:\n",
    "```Py\n",
    "td_2 = ThingData(\"Python ООП\", 80, 512)\n",
    "```\n",
    "и выполним сравнение двух объектов:\n",
    "```Py\n",
    "print(td == td_2)\n",
    "```"
   ]
  },
  {
   "cell_type": "code",
   "execution_count": 8,
   "metadata": {},
   "outputs": [
    {
     "name": "stdout",
     "output_type": "stream",
     "text": [
      "False\n",
      "True\n"
     ]
    }
   ],
   "source": [
    "td = ThingData(\"Учебник по Python\", 100, 1024)\n",
    "td_2 = ThingData(\"Python ООП\", 80, 512)\n",
    "print(td == td_2)\n",
    "td_3 = ThingData(\"Python ООП\", 80, 512)\n",
    "print(td_2 == td_3)"
   ]
  },
  {
   "attachments": {},
   "cell_type": "markdown",
   "metadata": {},
   "source": [
    "Увидим ожидаемое значение False. Но, если создать еще один экземпляр с тем же набором данных:\n",
    "```Py\n",
    "td_3 = ThingData(\"Python ООП\", 80, 512)\n",
    "```\n",
    "то операция сравнения:\n",
    "```Py\n",
    "print(td_2 == td_3)\n",
    "```\n",
    "вернет значение True."
   ]
  },
  {
   "attachments": {},
   "cell_type": "markdown",
   "metadata": {},
   "source": [
    "Я, думаю, из этих примеров вы уже поняли, как работает переопределенный магический метод  ```__eq__()```? Он перебирает значение указанных нами атрибутов ```(name, weight, price)``` первого объекта и сравнивает с соответствующими значениями этих же атрибутов второго объекта. Это эквивалентно сравнению следующих кортежей на равенство:\n",
    "```Py\n",
    "(name, weight, price) == (name, weight, price)\n",
    "```\n",
    "Кстати, если нас это поведение не устраивает и нужно сравнивать, например, объекты только по весу (полю weight), то, как вариант, никто не запрещает внутри класса ThingData объявить свой вариант магического метода ```__eq__()```:\n",
    "```Py\n",
    "@dataclass\n",
    "class ThingData:\n",
    "    name: str\n",
    "    weight: int\n",
    "    price: float\n",
    " \n",
    "    def __eq__(self, other):\n",
    "        return self.weight == other.weight\n",
    "```\n",
    "В этом случае существующий метод (который был объявлен нами) не меняется декоратором dataclass. И теперь сравнение происходит именно по весу:\n",
    "```Py\n",
    "td_2 = ThingData(\"Python ООП\", 80, 640)\n",
    "td_3 = ThingData(\"Python ООП 2\", 80, 512)\n",
    "print(td_2 == td_3)\n",
    "```"
   ]
  },
  {
   "cell_type": "code",
   "execution_count": 9,
   "metadata": {},
   "outputs": [
    {
     "name": "stdout",
     "output_type": "stream",
     "text": [
      "True\n"
     ]
    }
   ],
   "source": [
    "from pprint import pprint\n",
    "from dataclasses import dataclass\n",
    "\n",
    "@dataclass\n",
    "class ThingData:\n",
    "    name: str\n",
    "    weight: int\n",
    "    price: float\n",
    "\n",
    "    def __eq__(self, other):\n",
    "        return self.weight == other.weight\n",
    "\n",
    "td_2 = ThingData(\"Python ООП\", 80, 640)\n",
    "td_3 = ThingData(\"Python ООП 2\", 80, 512)\n",
    "print(td_2 == td_3)\n",
    "# pprint(ThingData.__dict__)"
   ]
  },
  {
   "attachments": {},
   "cell_type": "markdown",
   "metadata": {},
   "source": [
    "Так происходит работа с методами: ```__init__(), __repr__(), __eq__()```. Если они существуют внутри класса, то остаются неизменными.\n",
    "\n",
    "Следующий важный базовый момент, при определении Data Classes, состоит в порядке объявления атрибутов с начальными значениями. Давайте предположим, что цена по умолчанию принимает значение 0. В этом случае класс ThingData можно определить так:\n",
    "```Py\n",
    "@dataclass\n",
    "class ThingData:\n",
    "    name: str\n",
    "    weight: int\n",
    "    price: float = 0\n",
    "```\n",
    "И, затем, создать объект этого класса:\n",
    "```Py\n",
    "td = ThingData(\"Учебник по Python\", 100)\n",
    "print(td)\n",
    "```\n",
    "В консоли увидим значение 0 для локального атрибута price. Если же будет передано какое-либо другое значение, например:\n",
    "```Py\n",
    "td = ThingData(\"Учебник по Python\", 100, 512)\n",
    "```\n",
    "то price будет ссылаться на это новое значение."
   ]
  },
  {
   "attachments": {},
   "cell_type": "markdown",
   "metadata": {},
   "source": [
    "Но здесь есть один маленький нюанс: все атрибуты со значениями по умолчанию должны идти последними. Например, если поменять атрибуты weight и price местами:\n",
    "```Py\n",
    "@dataclass\n",
    "class ThingData:\n",
    "    name: str\n",
    "    price: float = 0\n",
    "    weight: int\n",
    "```\n",
    "то интегрированная среда нам сразу подчеркнет атрибут price, а при попытке выполнить программу появится ошибка. Почему так произошло? И почему атрибуты с начальными значениями обязательно должны быть последними? Так как эти атрибуты, по сути, являются параметрами метода ```__init__()``` и идут в том порядке, в котором записаны в классе, то при данной записи получаем следующее объявление инициализатора:\n",
    "```Py\n",
    "def __init__(self, name: str, price: float = 0, weight: int)\n",
    "```\n",
    "Видите в чем тут ошибка? Параметры со значениями по умолчанию должны идти последними, а здесь это не так. Отсюда и возникает ошибка определения. Поэтому, когда мы объявляем класс как Data Class  с декоратором dataclass, то все атрибуты с начальными значениями должны быть записаны последними."
   ]
  },
  {
   "attachments": {},
   "cell_type": "markdown",
   "metadata": {},
   "source": [
    "Второй тонкий момент со значениями по умолчанию связан с изменяемыми и неизменяемыми объектами. Я напомню вам одно важное поведение функций и методов в языке Python. Предположим, что мы в инициализатор класса Thing добавляем еще один параметр dims (размерность) следующим образом:\n",
    "```Py\n",
    "class Thing:\n",
    "    def __init__(self, name, weight, price, dims=[]):\n",
    "        self.name = name\n",
    "        self.weight = weight\n",
    "        self.price = price\n",
    "        self.dims = dims\n",
    "```\n",
    "И, затем, создаем объект этого класса:\n",
    "```Py\n",
    "t = Thing(\"Учебник по Python\", 100, 1024)\n",
    "t.dims.append(10)\n",
    "```\n",
    "Если сейчас вывести список dims, то увидим вполне ожидаемый результат:\n",
    "```Py\n",
    "print(t.dims)\n",
    "```\n",
    "Но, если после этого создать еще один объект класса Thing, например, так:\n",
    "```Py\n",
    "t2 = Thing(\"Учебник по Python\", 100, 1024)\n",
    "```\n",
    "и выведем у него список dims:\n",
    "```Py\n",
    "print(t2.dims)\n",
    "```\n",
    "то увидим не пустой список, а с одним уже существующим значением 10. Чаще всего такое поведение приводит к непредвиденным ошибкам в работе программы, т.к. начальный пустой список подразумевается независимым для каждого объекта класса Thing. Тогда как в показанном примере он оказывается общим."
   ]
  },
  {
   "attachments": {},
   "cell_type": "markdown",
   "metadata": {},
   "source": [
    "В Python значения по умолчанию для аргументов функций вычисляются только один раз при определении функции, а не при каждом вызове. Поэтому использование изменяемых объектов, таких как список или словарь, в качестве значения по умолчанию может привести к нежелательному поведению."
   ]
  },
  {
   "attachments": {},
   "cell_type": "markdown",
   "metadata": {},
   "source": [
    "Рекомендуется вместо этого использовать неизменяемый объект, например None, в качестве значения по умолчанию и в конструкторе создавать новый изменяемый объект при необходимости. Например:\n",
    "```Py\n",
    "class Thing:\n",
    "    def __init__(self, name, weight, price, dims=None):\n",
    "        self.name = name\n",
    "        self.weight = weight\n",
    "        self.price = price\n",
    "        self.dims = [] if dims is None else dims\n",
    "```\n",
    "Такой подход гарантирует, что каждый объект Thing будет иметь свой собственный список dims, и изменения, внесенные в dims одного объекта, не будут влиять на другие объекты."
   ]
  },
  {
   "attachments": {},
   "cell_type": "markdown",
   "metadata": {},
   "source": [
    "По этой причине при объявлении Data Classes атрибутам нельзя присваивать изменяемые объекты в качестве значений по умолчанию. Например, следующее объявление приведет к ошибке:\n",
    "```Py\n",
    "@dataclass\n",
    "class ThingData:\n",
    "    name: str\n",
    "    weight: int\n",
    "    price: float = 0\n",
    "    dims: list = []\n",
    "```\n",
    "Тогда спрашивается, как нам определить, например, список в качестве значения по умолчанию и так, чтобы он был независимым для каждого объекта класса ThingData? Для этого следует воспользоваться специальной функцией field() из модуля dataclasses:\n",
    "```Py\n",
    "from dataclasses import dataclass, field\n",
    "```\n",
    "и определить через нее значение по умолчанию следующим образом:\n",
    "```Py\n",
    "@dataclass\n",
    "class ThingData:\n",
    "    name: str\n",
    "    weight: int\n",
    "    price: float = 0\n",
    "    dims: list = field(default_factory=list)\n",
    "```\n",
    "\n",
    "Здесь через параметр default_factory указывается, какой объект следует создавать в момент вызова инициализатора класса ThingData и присваивать атрибуту dims. В данном примере – это объект list (список). Теперь, при создании объекта этого класса:\n",
    "```Py\n",
    "td = ThingData(\"Учебник по Python\", 100, 512)\n",
    "print(td)\n",
    "```\n",
    "мы увидим, что dims ссылается на пустой список, как это и ожидалось.\n",
    "\n",
    "Вообще с помощью функции field() можно довольно тонко настраивать поведение атрибутов в Data Classes."
   ]
  },
  {
   "cell_type": "code",
   "execution_count": 13,
   "metadata": {},
   "outputs": [
    {
     "name": "stdout",
     "output_type": "stream",
     "text": [
      "ThingData(name='Учебник по Python', weight=100, price=512, dims=[10])\n",
      "ThingData(name='Учебник по Python', weight=100, price=512, dims=[])\n"
     ]
    }
   ],
   "source": [
    "from dataclasses import dataclass, field\n",
    "\n",
    "@dataclass\n",
    "class ThingData:\n",
    "    name: str\n",
    "    weight: int\n",
    "    price: float = 0\n",
    "    dims: list = field(default_factory=list)\n",
    "\n",
    "td = ThingData(\"Учебник по Python\", 100, 512)\n",
    "# print(td)\n",
    "td.dims.append(10)\n",
    "print(td)\n",
    "t2 = ThingData(\"Учебник по Python\", 100, 512)\n",
    "print(t2)"
   ]
  },
  {
   "attachments": {},
   "cell_type": "markdown",
   "metadata": {},
   "source": [
    "Основные параметры функции field():\n",
    "\n",
    "**default:** Если указано, это будет значение по умолчанию для данного поля. Это необходимо, потому что сам вызов field() заменяет обычную позицию значения по умолчанию.\n",
    "\n",
    "**default_factory:** Если указано, это должна быть вызываемая функция без аргументов, которая будет вызвана, когда требуется значение по умолчанию для данного поля. Среди других целей это может использоваться для указания полей с изменяемыми значениями по умолчанию, как обсуждалось ниже. Нельзя указывать и default, и default_factory одновременно.\n",
    "\n",
    "**init:** Если true (по умолчанию), это поле включается в качестве параметра в сгенерированный метод init().\n",
    "\n",
    "**repr:** Если true (по умолчанию), это поле включается в строку, возвращаемую сгенерированным методом repr().\n",
    "\n",
    "**compare:** Если true (по умолчанию), это поле включается в генерируемые методы сравнения и сортировки (eq(), gt() и т. д.)."
   ]
  },
  {
   "attachments": {},
   "cell_type": "markdown",
   "metadata": {},
   "source": [
    "## Преобразование в кортеж или словарь\n",
    "\n",
    "Модуль dataclasses предоставляет функции astuple() и asdict(), которые преобразуют экземпляр класса данных в кортеж и словарь соответственно. Например:"
   ]
  },
  {
   "cell_type": "code",
   "execution_count": 66,
   "metadata": {},
   "outputs": [
    {
     "name": "stdout",
     "output_type": "stream",
     "text": [
      "('John Doe', 25, 100)\n",
      "{'name': 'John Doe', 'age': 25, 'iq': 100}\n"
     ]
    }
   ],
   "source": [
    "from dataclasses import dataclass, astuple, asdict\n",
    "\n",
    "\n",
    "@dataclass\n",
    "class Person:\n",
    "    name: str\n",
    "    age: int\n",
    "    iq: int = 100\n",
    "\n",
    "\n",
    "p = Person('John Doe', 25)\n",
    "\n",
    "print(astuple(p))\n",
    "print(asdict(p))"
   ]
  },
  {
   "attachments": {},
   "cell_type": "markdown",
   "metadata": {},
   "source": []
  },
  {
   "attachments": {},
   "cell_type": "markdown",
   "metadata": {},
   "source": [
    "Ранее мы в целом научились объявлять такие классы данных с помощью декоратора dataclass и определять набор необходимых атрибутов:\n",
    "```Py\n",
    "@dataclass\n",
    "class ThingData:\n",
    "    name: str\n",
    "    weight: int\n",
    "    price: float = 0\n",
    "    dims: list = field(default_factory=list)\n",
    "```\n",
    "Но давайте представим, что нам нужно в некотором классе, например, Vector3D при инициализации формировать вычисляемое свойство:\n",
    "```Py\n",
    "class Vector3D:\n",
    "    def __init__(self, x: int, y: int, z: int):\n",
    "        self.x = x\n",
    "        self.y = y\n",
    "        self.z = z\n",
    "        self.length = (x * x + y * y + z * z) ** 0.5\n",
    "```\n",
    "Здесь локальный атрибут length вычисляется на основе параметров x, y, z. Как это можно сделать при объявлении Data Classes?"
   ]
  },
  {
   "attachments": {},
   "cell_type": "markdown",
   "metadata": {},
   "source": [
    "В этом нам поможет метод следующий метод:"
   ]
  },
  {
   "attachments": {},
   "cell_type": "markdown",
   "metadata": {},
   "source": [
    "## Метод ```__post_init__()```\n",
    "\n",
    "Вначале, очевидно, нужно прописать класс с тремя атрибутами следующим образом:\n",
    "```Py\n",
    "@dataclass\n",
    "class V3D:\n",
    "    x: int\n",
    "    y: int\n",
    "    z: int\n",
    "```\n",
    "Но как определить локальный атрибут length внутри объекта класса V3D? Для этого существует следующая хитрость. Инициализаторы классов, сформированные с помощью декоратора dataclass, в конце своего вызова вызывают специальный метод ```__post_init__()```. \n",
    "Если вы хотите инициализировать атрибут, зависящий от значения другого атрибута, вы можете использовать метод ```__post_init__```. Как следует из его названия, Python вызывает метод ```__post_init__``` после метода ```__init__```.\n",
    "Именно в этом методе можно формировать любые вычисляемые свойства, например, так:\n",
    "```Py\n",
    "@dataclass\n",
    "class V3D:\n",
    "    x: int\n",
    "    y: int\n",
    "    z: int\n",
    " \n",
    "    def __post_init__(self):\n",
    "        self.length = (self.x * self.x + self.y * self.y + self.z * self.z) ** 0.5\n",
    "```\n",
    "Если далее мы сформируем объект этого класса и выведем его в консоль:\n",
    "```Py\n",
    "v = V3D(1, 2, 3)\n",
    "print(v)\n",
    "```\n",
    "то увидим:\n",
    "```\n",
    "V3D(x=1, y=2, z=3)\n",
    "```\n",
    "Спрашивается, почему здесь не видно свойства length? В действительности, оно присутствует в объекте v и мы в этом легко можем убедиться:\n",
    "```Py\n",
    "print(v.__dict__)\n",
    "```\n",
    "увидим:"
   ]
  },
  {
   "cell_type": "code",
   "execution_count": 14,
   "metadata": {},
   "outputs": [
    {
     "name": "stdout",
     "output_type": "stream",
     "text": [
      "V3D(x=1, y=2, z=3)\n",
      "{'x': 1, 'y': 2, 'z': 3, 'length': 3.7416573867739413}\n"
     ]
    }
   ],
   "source": [
    "from dataclasses import dataclass\n",
    "\n",
    "@dataclass\n",
    "class V3D:\n",
    "    x: int\n",
    "    y: int\n",
    "    z: int\n",
    " \n",
    "    def __post_init__(self):\n",
    "        self.length = (self.x * self.x + self.y * self.y + self.z * self.z) ** 0.5\n",
    "\n",
    "v = V3D(1, 2, 3)\n",
    "print(v)\n",
    "print(v.__dict__)"
   ]
  },
  {
   "attachments": {},
   "cell_type": "markdown",
   "metadata": {},
   "source": [
    "```\n",
    "{'x': 1, 'y': 2, 'z': 3, 'length': 3.7416573867739413}\n",
    "```\n",
    "Но тогда почему оно не выводится функцией repr()? Дело в том, что магический метод ```__repr__()``` выводит только те атрибуты, которые были указаны при объявлении класса. Все остальные, что создаются в процессе формирования объекта, не учитываются в методе ```__repr__()```. Как тогда выйти из этой ситуации и указать, что локальный атрибут length также следует отображать? Очень просто! Давайте укажем этот атрибут при объявлении класса с небольшим уточнением:\n",
    "```Py\n",
    "@dataclass\n",
    "class V3D:\n",
    "    x: int\n",
    "    y: int\n",
    "    z: int\n",
    "    length: float = field(init=False)\n",
    " \n",
    "    def __post_init__(self):\n",
    "        self.length = (self.x * self.x + self.y * self.y + self.z * self.z) ** 0.5\n",
    "```\n",
    "Мы здесь воспользовались функцией field() и отметили, что атрибут length не следует использовать в качестве параметра инициализатора.\n",
    "Теперь, при отображении объекта v класса, мы увидим и параметр length.\n",
    "Если вы не хотите инициализировать атрибут в методе ```__init__```, вы можете использовать функцию field() из модуля dataclasses. field(init=False)"
   ]
  },
  {
   "cell_type": "code",
   "execution_count": 16,
   "metadata": {},
   "outputs": [
    {
     "name": "stdout",
     "output_type": "stream",
     "text": [
      "V3D(x=1, y=2, z=3, length=3.7416573867739413)\n"
     ]
    }
   ],
   "source": [
    "from dataclasses import dataclass\n",
    "\n",
    "@dataclass\n",
    "class V3D:\n",
    "    x: int\n",
    "    y: int\n",
    "    z: int\n",
    "    length: float = field(init=False)\n",
    " \n",
    "    def __post_init__(self):\n",
    "        self.length = (self.x * self.x + self.y * self.y + self.z * self.z) ** 0.5\n",
    "\n",
    "v = V3D(1, 2, 3)\n",
    "print(v)\n",
    "# print(v.__dict__)"
   ]
  },
  {
   "attachments": {},
   "cell_type": "markdown",
   "metadata": {},
   "source": [
    "## Функция field()\n",
    "\n",
    "Для обычных и простых случаев использования не требуется никакой дополнительной функциональности. Однако существуют некоторые возможности dataclass, которые требуют дополнительной информации для каждого поля. Чтобы удовлетворить эту потребность в дополнительной информации, вы можете заменить значение поля по умолчанию вызовом функции field(), предоставленной в модуле dataclasses. \n",
    "\n",
    "Вообще функция field() предоставляет богатый функционал по управлению объявляемых атрибутов в Data Classes. Мы увидели, как работают два ее параметра: init и default_factory. Довольно часто можно встретить использование еще трех:\n",
    "```\n",
    "repr – булевое значение True/False указывает использовать ли атрибут в магическом методе ```__repr__()``` (по умолчанию True);\n",
    "compare – булевое значение True/False указывает использовать ли атрибут при сравнении объектов (по умолчанию True);\n",
    "default – значение по умолчанию (начальное значение).\n",
    "```\n",
    "Смысл их вполне понятен. Давайте исключим атрибут x из метода ```__repr__()``` и из операций сравнения атрибуты z и length. Получим следующее объявление класса:\n",
    "```Py\n",
    "@dataclass\n",
    "class V3D:\n",
    "    x: int = field(repr=False)\n",
    "    y: int\n",
    "    z: int = field(compare=False)\n",
    "    length: float = field(init=False, compare=False)\n",
    " \n",
    "    def __post_init__(self):\n",
    "        self.length = (self.x * self.x + self.y * self.y + self.z * self.z) ** 0.5\n",
    "```\n",
    "Тогда при отображении и сравнении двух объектов:\n",
    "```Py\n",
    "v = V3D(1, 2, 3)\n",
    "v2 = V3D(1, 2, 5)\n",
    "print(v)\n",
    "print(v == v2)\n",
    "```\n",
    "мы увидим только три атрибута: y, z, length и результат True, т.к. координаты x, y объектов v и v2 совпадают.\n",
    "\n",
    "С остальными параметрами функции field() можно познакомиться на странице официальной документации:\n",
    "\n",
    "https://docs.python.org/3/library/dataclasses.html"
   ]
  },
  {
   "cell_type": "code",
   "execution_count": 19,
   "metadata": {},
   "outputs": [
    {
     "name": "stdout",
     "output_type": "stream",
     "text": [
      "V3D(y=2, z=3, length=3.7416573867739413)\n",
      "V3D(y=2, z=3, length=3.7416573867739413)\n",
      "True\n"
     ]
    }
   ],
   "source": [
    "from dataclasses import dataclass\n",
    "\n",
    "@dataclass\n",
    "class V3D:\n",
    "    x: int = field(repr=False)\n",
    "    y: int\n",
    "    z: int = field(compare=False)\n",
    "    length: float = field(init=False , compare=False)\n",
    " \n",
    "    def __post_init__(self):\n",
    "        self.length = (self.x * self.x + self.y * self.y + self.z * self.z) ** 0.5\n",
    "\n",
    "v = V3D(1, 2, 3)\n",
    "print(v)\n",
    "# print(v.__dict__)\n",
    "\n",
    "v = V3D(1, 2, 3)\n",
    "v2 = V3D(1, 2, 5)\n",
    "print(v)\n",
    "print(v == v2)"
   ]
  },
  {
   "attachments": {},
   "cell_type": "markdown",
   "metadata": {},
   "source": [
    "## Объявление параметров типа InitVar\n",
    "\n",
    "Давайте теперь предположим, что мы бы хотели вычислять длину вектора в зависимости от значения некоторого параметра, например, calc_len. При описании обычного инициализатора это можно было бы сделать следующим образом:\n",
    "```Py\n",
    "class Vector3D:\n",
    "    def __init__(self, x: int, y: int, z: int, calc_len: bool = True):\n",
    "        self.x = x\n",
    "        self.y = y\n",
    "        self.z = z\n",
    "        self.length = (x * x + y * y + z * z) ** 0.5 if calc_len else 0\n",
    "```\n",
    "А как это сделать при объявлении Data Classes? Для определения параметров, участвующих в инициализации (таких, как calc_len) в модуле dataclasses есть специальный класс типа InitVar:\n",
    "```Py\n",
    "from dataclasses import dataclass, field, InitVar\n",
    "```\n",
    "Если при объявлении атрибут аннотируется этим классом, то он автоматически передается как параметр в метод ```__post_init__()```, чтобы им можно было воспользоваться при формировании вычисляемых свойств:\n",
    "```Py\n",
    "@dataclass\n",
    "class V3D:\n",
    "    x: int = field(repr=False)\n",
    "    y: int\n",
    "    z: int = field(compare=False)\n",
    "    calc_len: InitVar[bool] = True\n",
    "    length: float = field(init=False, compare=False, default=0)\n",
    " \n",
    "    def __post_init__(self, calc_len: bool):\n",
    "        if calc_len:\n",
    "            self.length = (self.x * self.x + self.y * self.y + self.z * self.z) ** 0.5\n",
    "```\n",
    "Обратите внимание, я здесь для атрибута length добавил параметр default=0 в функции field(). То есть, начальное значение атрибута length равно нулю. Если параметр calc_len равен True, то в методе ```__post_init__()``` будет пересчитано и сформировано новое значение локального атрибута length.\n",
    "\n",
    "Поля только для инициализации добавляются в качестве параметров в сгенерированный метод init() и передаются в необязательный метод post_init. В остальном они не используются dataclasses."
   ]
  },
  {
   "cell_type": "code",
   "execution_count": 22,
   "metadata": {},
   "outputs": [
    {
     "name": "stdout",
     "output_type": "stream",
     "text": [
      "V3D(y=2, z=3, length=3.7416573867739413)\n",
      "{'x': 1, 'y': 2, 'z': 3, 'length': 3.7416573867739413}\n"
     ]
    }
   ],
   "source": [
    "from dataclasses import dataclass, InitVar\n",
    "\n",
    "@dataclass\n",
    "class V3D:\n",
    "    x: int = field(repr=False)\n",
    "    y: int\n",
    "    z: int = field(compare=False)\n",
    "    calc_len: InitVar[bool] = True\n",
    "    length: float = field(init=False, compare=False, default=0)\n",
    " \n",
    "    def __post_init__(self, calc_len: bool):\n",
    "        if calc_len:\n",
    "            self.length = (self.x * self.x + self.y * self.y + self.z * self.z) ** 0.5\n",
    "\n",
    "v = V3D(1, 2, 3)\n",
    "print(v)\n",
    "print(v.__dict__)"
   ]
  },
  {
   "attachments": {},
   "cell_type": "markdown",
   "metadata": {},
   "source": [
    "## Параметры декоратора dataclass\n",
    "\n",
    "До сих пор мы с вами использовали декоратор dataclass с параметрами по умолчанию. Однако ему можно передавать различные аргументы и управлять процессом формирования итогового класса. Вот основные параметры, которые принимает декоратор dataclass."
   ]
  },
  {
   "attachments": {},
   "cell_type": "markdown",
   "metadata": {},
   "source": [
    "<table class=\"MsoTableGrid\" border=\"1\" cellspacing=\"0\" cellpadding=\"0\" style=\"border-collapse:collapse;border:none\">\n",
    " <tbody><tr>\n",
    "  <td width=\"187\" valign=\"top\" style=\"width:140.1pt;border:solid black 1.0pt;    padding:0cm 5.4pt 0cm 5.4pt\">\n",
    "  <p><b>Параметр</b>\n",
    "  </p></td>\n",
    "  <td width=\"451\" valign=\"top\" style=\"width:338.45pt;border:solid black 1.0pt;    border-left:none;padding:0cm 5.4pt 0cm 5.4pt\">\n",
    "  <p><b>Описание</b>\n",
    "  </p></td>\n",
    " </tr>\n",
    " <tr>\n",
    "  <td width=\"187\" valign=\"top\" style=\"width:140.1pt;border:solid black 1.0pt;    border-top:none;padding:0cm 5.4pt 0cm 5.4pt\">\n",
    "  <p>init = [True | False]\n",
    "  </p></td>\n",
    "  <td width=\"451\" valign=\"top\" style=\"width:338.45pt;border-top:none;border-left:    none;border-bottom:solid black 1.0pt;border-right:solid black 1.0pt;    padding:0cm 5.4pt 0cm 5.4pt\">\n",
    "  <p>Принимает\n",
    "  булево значение, по умолчанию True.\n",
    "  Если значение True, то в классе\n",
    "  объявляется инициализатор, иначе – не объявляется.\n",
    "  </p></td>\n",
    " </tr>\n",
    " <tr>\n",
    "  <td width=\"187\" valign=\"top\" style=\"width:140.1pt;border:solid black 1.0pt;    border-top:none;padding:0cm 5.4pt 0cm 5.4pt\">\n",
    "  <p>repr = [True | False]\n",
    "  </p></td>\n",
    "  <td width=\"451\" valign=\"top\" style=\"width:338.45pt;border-top:none;border-left:    none;border-bottom:solid black 1.0pt;border-right:solid black 1.0pt;    padding:0cm 5.4pt 0cm 5.4pt\">\n",
    "  <p>Принимает\n",
    "  булево значение, по умолчанию True.\n",
    "  Если значение True, то в классе\n",
    "  объявляется магический метод __repr__(),\n",
    "  иначе – не объявляется.\n",
    "  </p></td>\n",
    " </tr>\n",
    " <tr>\n",
    "  <td width=\"187\" valign=\"top\" style=\"width:140.1pt;border:solid black 1.0pt;    border-top:none;padding:0cm 5.4pt 0cm 5.4pt\">\n",
    "  <p>eq = [True | False]\n",
    "  </p></td>\n",
    "  <td width=\"451\" valign=\"top\" style=\"width:338.45pt;border-top:none;border-left:    none;border-bottom:solid black 1.0pt;border-right:solid black 1.0pt;    padding:0cm 5.4pt 0cm 5.4pt\">\n",
    "  <p>Принимает\n",
    "  булево значение, по умолчанию True.\n",
    "  Если значение True, то в классе\n",
    "  объявляется магический метод __eq__(),\n",
    "  иначе – не объявляется.\n",
    "  </p></td>\n",
    " </tr>\n",
    " <tr>\n",
    "  <td width=\"187\" valign=\"top\" style=\"width:140.1pt;border:solid black 1.0pt;    border-top:none;padding:0cm 5.4pt 0cm 5.4pt\">\n",
    "  <p>order = [True | False]\n",
    "  </p></td>\n",
    "  <td width=\"451\" valign=\"top\" style=\"width:338.45pt;border-top:none;border-left:    none;border-bottom:solid black 1.0pt;border-right:solid black 1.0pt;    padding:0cm 5.4pt 0cm 5.4pt\">\n",
    "  <p>Принимает\n",
    "  булево значение, по умолчанию False.\n",
    "  Если значение True, то в классе\n",
    "  объявляются магические методы для операций сравнения &lt;; &lt;=; &gt;; &gt;=,\n",
    "  иначе – не объявляются.\n",
    "  </p></td>\n",
    " </tr>\n",
    " <tr>\n",
    "  <td width=\"187\" valign=\"top\" style=\"width:140.1pt;border:solid black 1.0pt;    border-top:none;padding:0cm 5.4pt 0cm 5.4pt\">\n",
    "  <p>unsafe_hash\n",
    "  = [True | False]\n",
    "  </p></td>\n",
    "  <td width=\"451\" valign=\"top\" style=\"width:338.45pt;border-top:none;border-left:    none;border-bottom:solid black 1.0pt;border-right:solid black 1.0pt;    padding:0cm 5.4pt 0cm 5.4pt\">\n",
    "  <p>Влияет\n",
    "  на формирование магического метода __hash__()\n",
    "  </p></td>\n",
    " </tr>\n",
    " <tr>\n",
    "  <td width=\"187\" valign=\"top\" style=\"width:140.1pt;border:solid black 1.0pt;    border-top:none;padding:0cm 5.4pt 0cm 5.4pt\">\n",
    "  <p>frozen\n",
    "  = [True | False]\n",
    "  </p></td>\n",
    "  <td width=\"451\" valign=\"top\" style=\"width:338.45pt;border-top:none;border-left:    none;border-bottom:solid black 1.0pt;border-right:solid black 1.0pt;    padding:0cm 5.4pt 0cm 5.4pt\">\n",
    "  <p>Принимает\n",
    "  булево значение, по умолчанию False.\n",
    "  Если значение True, то атрибуты\n",
    "  объектов класса становятся неизменными (можно только проинициализировать один\n",
    "  раз в инициализаторе).\n",
    "  </p></td>\n",
    " </tr>\n",
    " <tr>\n",
    "  <td width=\"187\" valign=\"top\" style=\"width:140.1pt;border:solid black 1.0pt;    border-top:none;padding:0cm 5.4pt 0cm 5.4pt\">\n",
    "  <p>slots = [True | False]\n",
    "  </p></td>\n",
    "  <td width=\"451\" valign=\"top\" style=\"width:338.45pt;border-top:none;border-left:    none;border-bottom:solid black 1.0pt;border-right:solid black 1.0pt;    padding:0cm 5.4pt 0cm 5.4pt\">\n",
    "  <p>Принимает\n",
    "  булево значение, по умолчанию False.\n",
    "  Если значение True, то атрибуты\n",
    "  объявляются в коллекции __slots__.\n",
    "  </p></td>\n",
    " </tr>\n",
    "</tbody></table>"
   ]
  },
  {
   "attachments": {},
   "cell_type": "markdown",
   "metadata": {},
   "source": [
    "Существуют и другие параметры декоратора dataclass. Подробно о них можно почитать на странице официальной документации:\n",
    "\n",
    "https://docs.python.org/3/library/dataclasses.html\n",
    "\n",
    "Давайте рассмотрим основные из них. Первые параметры init, repr, eq я, думаю, понятны. Если в декоратор передать аргумент init=False:\n",
    "```Py\n",
    "@dataclass(init=False)\n",
    "```\n",
    "то класс будет сформирован без собственного инициализатора (будет использован инициализатор базового класса). В результате у нас не получится создать объект с передачей значений аргументов:\n",
    "```Py\n",
    "v = V3D(1, 2, 3, False)\n",
    "```\n",
    "Это бывает полезно, когда все описанные атрибуты принимают значения по умолчанию и не предполагается их сразу переопределять в инициализаторе. Например, если класс в дальнейшем будет использован как базовый для построения других дочерних классов.\n",
    "\n",
    "Следующий параметр:\n",
    "```Py\n",
    "@dataclass(repr=False)\n",
    "```\n",
    "запрещает формирование магического метода ```__repr__()``` внутри текущего класса. В результате, будет использован аналогичный метод базового класса. В этом легко убедиться, если создать объект и вывести его в консоль:\n",
    "```Py\n",
    "v = V3D(1, 2, 3, False)\n",
    "print(v)\n",
    "```\n",
    "Увидим что то похожее на:\n",
    "```\n",
    "<__main__.V3D object at 0x00000236FAD67D50>\n",
    "```"
   ]
  },
  {
   "attachments": {},
   "cell_type": "markdown",
   "metadata": {},
   "source": [
    "По аналогии работает параметр eq:\n",
    "```Py\n",
    "@dataclass(repr=False, eq=False)\n",
    "```\n",
    "Он запрещает формирование собственного магического метода ```__eq__()``` для сравнения объектов между собой на равенство. Теперь объекты сравниваются по их идентификаторам, и так как они разные, то при сравнении:\n",
    "```Py\n",
    "v = V3D(1, 2, 3, False)\n",
    "v2 = V3D(1, 2, 3)\n",
    "print(v == v2)\n",
    "```\n",
    "получаем значение False.\n",
    "\n",
    "Следующий параметр order может быть установлен в True только совместно с eq=True. Например, следующая строчка приведет к ошибке:\n",
    "```Py\n",
    "@dataclass(eq=False, order=True)\n",
    "```\n",
    "Поэтому нам нужно или убрать параметр eq (по умолчанию он True), либо явно прописать у него значение True:\n",
    "```Py\n",
    "@dataclass(eq=True, order=True)\n",
    "```"
   ]
  },
  {
   "attachments": {},
   "cell_type": "markdown",
   "metadata": {},
   "source": [
    "Это связано с тем, что операции сравнения на больше или равно, меньше или равно используют магический метод ```__eq__()```. Поэтому он должен присутствовать.\n",
    "\n",
    "После включения параметра order, у нас появляется возможность сравнивать объекты класса на больше, меньше и больше или равно и меньше или равно:\n",
    "```Py\n",
    "@dataclass(eq=True, order=True)\n",
    "class V3D:\n",
    "    x: int\n",
    "    y: int\n",
    "    z: int\n",
    " \n",
    " \n",
    "v = V3D(1, 2, 5)\n",
    "v2 = V3D(1, 2, 3)\n",
    " \n",
    "print(v < v2)  # False\n",
    "print(v > v2)  # True\n",
    "```"
   ]
  },
  {
   "attachments": {},
   "cell_type": "markdown",
   "metadata": {},
   "source": [
    "Сравнение выполняется на уровне кортежей, содержащих значения атрибутов (x, y, z) в порядке их объявления в классе. В данном случае происходит последовательное сравнение сначала значений x между собой, затем, y и потом – z. Как только встречается пара, для которой можно вычислить значение True или False, проверка завершается. Фактически, в приведенном примере, сравниваются между собой только последние числа 5 и 3, остальные равны, поэтому операции < и > их пропускают.\n",
    "\n",
    "Если нам нужно исключить какие-либо атрибуты из операций сравнений, то для этого следует использовать функцию field() и в ней через параметр compare исключить соответствующее поле:\n",
    "```Py\n",
    "@dataclass(eq=True, order=True)\n",
    "class V3D:\n",
    "    x: int = field(compare=False)\n",
    "    y: int\n",
    "    z: int\n",
    "```\n",
    "Теперь сравниваться будут объекты только по двум локальным атрибутам y и z.\n",
    "\n",
    "Здесь следует обратить внимание на то, что если в классе объявить какой-либо метод сравнения на больше, меньше или больше либо равно или меньше либо равно, ```(__lt__, __le__, __gt__, __ge__)``` то возникнет исключение TypeError: Cannot overwrite attribute ```__lt__``` in class V3D.\n",
    "```Py\n",
    "@dataclass(order=True)\n",
    "class V3D:\n",
    "    x: int = field(compare=False)\n",
    "    y: int\n",
    "    z: int\n",
    " \n",
    "    def __lt__(self, other):\n",
    "        return self.x < other.x and self.y < other.y\n",
    "```"
   ]
  },
  {
   "cell_type": "code",
   "execution_count": 26,
   "metadata": {},
   "outputs": [
    {
     "ename": "TypeError",
     "evalue": "Cannot overwrite attribute __lt__ in class V3D. Consider using functools.total_ordering",
     "output_type": "error",
     "traceback": [
      "\u001b[0;31m---------------------------------------------------------------------------\u001b[0m",
      "\u001b[0;31mTypeError\u001b[0m                                 Traceback (most recent call last)",
      "Cell \u001b[0;32mIn[26], line 3\u001b[0m\n\u001b[1;32m      1\u001b[0m \u001b[39mfrom\u001b[39;00m \u001b[39mdataclasses\u001b[39;00m \u001b[39mimport\u001b[39;00m dataclass\n\u001b[0;32m----> 3\u001b[0m \u001b[39m@dataclass\u001b[39;49m(order\u001b[39m=\u001b[39;49m\u001b[39mTrue\u001b[39;49;00m)\n\u001b[1;32m      4\u001b[0m \u001b[39mclass\u001b[39;49;00m \u001b[39mV3D\u001b[39;49;00m:\n\u001b[1;32m      5\u001b[0m     x: \u001b[39mint\u001b[39;49m \u001b[39m=\u001b[39;49m field(compare\u001b[39m=\u001b[39;49m\u001b[39mFalse\u001b[39;49;00m)\n\u001b[1;32m      6\u001b[0m     y: \u001b[39mint\u001b[39;49m\n",
      "File \u001b[0;32m/Library/Frameworks/Python.framework/Versions/3.11/lib/python3.11/dataclasses.py:1213\u001b[0m, in \u001b[0;36mdataclass.<locals>.wrap\u001b[0;34m(cls)\u001b[0m\n\u001b[1;32m   1212\u001b[0m \u001b[39mdef\u001b[39;00m \u001b[39mwrap\u001b[39m(\u001b[39mcls\u001b[39m):\n\u001b[0;32m-> 1213\u001b[0m     \u001b[39mreturn\u001b[39;00m _process_class(\u001b[39mcls\u001b[39;49m, init, \u001b[39mrepr\u001b[39;49m, eq, order, unsafe_hash,\n\u001b[1;32m   1214\u001b[0m                           frozen, match_args, kw_only, slots,\n\u001b[1;32m   1215\u001b[0m                           weakref_slot)\n",
      "File \u001b[0;32m/Library/Frameworks/Python.framework/Versions/3.11/lib/python3.11/dataclasses.py:1073\u001b[0m, in \u001b[0;36m_process_class\u001b[0;34m(cls, init, repr, eq, order, unsafe_hash, frozen, match_args, kw_only, slots, weakref_slot)\u001b[0m\n\u001b[1;32m   1065\u001b[0m     \u001b[39mfor\u001b[39;00m name, op \u001b[39min\u001b[39;00m [(\u001b[39m'\u001b[39m\u001b[39m__lt__\u001b[39m\u001b[39m'\u001b[39m, \u001b[39m'\u001b[39m\u001b[39m<\u001b[39m\u001b[39m'\u001b[39m),\n\u001b[1;32m   1066\u001b[0m                      (\u001b[39m'\u001b[39m\u001b[39m__le__\u001b[39m\u001b[39m'\u001b[39m, \u001b[39m'\u001b[39m\u001b[39m<=\u001b[39m\u001b[39m'\u001b[39m),\n\u001b[1;32m   1067\u001b[0m                      (\u001b[39m'\u001b[39m\u001b[39m__gt__\u001b[39m\u001b[39m'\u001b[39m, \u001b[39m'\u001b[39m\u001b[39m>\u001b[39m\u001b[39m'\u001b[39m),\n\u001b[1;32m   1068\u001b[0m                      (\u001b[39m'\u001b[39m\u001b[39m__ge__\u001b[39m\u001b[39m'\u001b[39m, \u001b[39m'\u001b[39m\u001b[39m>=\u001b[39m\u001b[39m'\u001b[39m),\n\u001b[1;32m   1069\u001b[0m                      ]:\n\u001b[1;32m   1070\u001b[0m         \u001b[39mif\u001b[39;00m _set_new_attribute(\u001b[39mcls\u001b[39m, name,\n\u001b[1;32m   1071\u001b[0m                               _cmp_fn(name, op, self_tuple, other_tuple,\n\u001b[1;32m   1072\u001b[0m                                       \u001b[39mglobals\u001b[39m\u001b[39m=\u001b[39m\u001b[39mglobals\u001b[39m)):\n\u001b[0;32m-> 1073\u001b[0m             \u001b[39mraise\u001b[39;00m \u001b[39mTypeError\u001b[39;00m(\u001b[39mf\u001b[39m\u001b[39m'\u001b[39m\u001b[39mCannot overwrite attribute \u001b[39m\u001b[39m{\u001b[39;00mname\u001b[39m}\u001b[39;00m\u001b[39m \u001b[39m\u001b[39m'\u001b[39m\n\u001b[1;32m   1074\u001b[0m                             \u001b[39mf\u001b[39m\u001b[39m'\u001b[39m\u001b[39min class \u001b[39m\u001b[39m{\u001b[39;00m\u001b[39mcls\u001b[39m\u001b[39m.\u001b[39m\u001b[39m__name__\u001b[39m\u001b[39m}\u001b[39;00m\u001b[39m. Consider using \u001b[39m\u001b[39m'\u001b[39m\n\u001b[1;32m   1075\u001b[0m                             \u001b[39m'\u001b[39m\u001b[39mfunctools.total_ordering\u001b[39m\u001b[39m'\u001b[39m)\n\u001b[1;32m   1077\u001b[0m \u001b[39mif\u001b[39;00m frozen:\n\u001b[1;32m   1078\u001b[0m     \u001b[39mfor\u001b[39;00m fn \u001b[39min\u001b[39;00m _frozen_get_del_attr(\u001b[39mcls\u001b[39m, field_list, \u001b[39mglobals\u001b[39m):\n",
      "\u001b[0;31mTypeError\u001b[0m: Cannot overwrite attribute __lt__ in class V3D. Consider using functools.total_ordering"
     ]
    }
   ],
   "source": [
    "from dataclasses import dataclass\n",
    "\n",
    "@dataclass(order=True)\n",
    "class V3D:\n",
    "    x: int = field(compare=False)\n",
    "    y: int\n",
    "    z: int\n",
    " \n",
    "    def __lt__(self, other):\n",
    "        return self.x < other.x and self.y < other.y"
   ]
  },
  {
   "attachments": {},
   "cell_type": "markdown",
   "metadata": {},
   "source": [
    "Вы можете установить аргумент order=True. \n",
    "Таким образом, dataclass будет сортировать объекты по каждому полю, пока не найдет значение, которое не равно.\n",
    "\n",
    "На практике часто требуется сравнивать объекты по конкретному атрибуту, а не по всем атрибутам. Для этого вам необходимо определить поле с именем sort_index и установить его значение в атрибут, по которому вы хотите сортировать.\n",
    "Например, предположим, у вас есть список объектов класса Person и вы хотите отсортировать их по возрасту:\n",
    "\n",
    "```\n",
    "members = [\n",
    "    Person('John', 25),\n",
    "    Person('Bob', 35),\n",
    "    Person('Alice', 30)\n",
    "]\n",
    "\n",
    "```"
   ]
  },
  {
   "attachments": {},
   "cell_type": "markdown",
   "metadata": {},
   "source": [
    "Для этого необходимо:\n",
    "\n",
    "* Передать параметр order=True в декоратор @dataclass.\n",
    "* Определить атрибут sort_index и установить его параметр init в False.\n",
    "* В методе ```__post_init__``` установить sort_index в атрибут age, чтобы сортировать объекты класса Person по возрасту.\n",
    "\n",
    "Ниже приведен код для сортировки объектов класса Person по возрасту:"
   ]
  },
  {
   "cell_type": "code",
   "execution_count": 67,
   "metadata": {},
   "outputs": [
    {
     "name": "stdout",
     "output_type": "stream",
     "text": [
      "John(age=25)\n",
      "Alice(age=30)\n",
      "Bob(age=35)\n"
     ]
    }
   ],
   "source": [
    "from dataclasses import dataclass, field\n",
    "\n",
    "\n",
    "@dataclass(order=True)\n",
    "class Person:\n",
    "    sort_index: int = field(init=False, repr=False)\n",
    "\n",
    "    name: str\n",
    "    age: int\n",
    "    iq: int = 100\n",
    "    can_vote: bool = field(init=False)\n",
    "\n",
    "    def __post_init__(self):\n",
    "        self.can_vote = 18 <= self.age <= 70\n",
    "        # sort by age\n",
    "        self.sort_index = self.age\n",
    "\n",
    "\n",
    "members = [\n",
    "    Person(name='John', age=25),\n",
    "    Person(name='Bob', age=35),\n",
    "    Person(name='Alice', age=30)\n",
    "]\n",
    "\n",
    "sorted_members = sorted(members)\n",
    "for member in sorted_members:\n",
    "    print(f'{member.name}(age={member.age})')"
   ]
  },
  {
   "attachments": {},
   "cell_type": "markdown",
   "metadata": {},
   "source": [
    "Последний параметр, который мы рассмотрим – frozen, позволяет «замораживать» значения атрибутов класса.\n",
    "Для создания объектов только для чтения из класса данных вы можете установить аргумент frozen декоратора dataclass в значение True. Например:\n",
    "```Py\n",
    "@dataclass(frozen=True)\n",
    "class V3D:\n",
    "    x: int\n",
    "    y: int\n",
    "    z: int\n",
    " \n",
    " \n",
    "v = V3D(1, 2, 3)\n",
    "print(v)\n",
    "v.x = 5\n",
    "```\n",
    "Приведет к ошибке в последней строчке, т.к. менять локальные атрибуты при frozen=True в объектах класса нельзя."
   ]
  },
  {
   "attachments": {},
   "cell_type": "markdown",
   "metadata": {},
   "source": []
  },
  {
   "attachments": {},
   "cell_type": "markdown",
   "metadata": {},
   "source": [
    "Теперь затронем тему наследования классов, объявленных с помощью декоратора dataclass. \n",
    "\n",
    "При создании dataclass с использованием декоратора dataclass() происходит обход всех базовых классов данного класса в обратном порядке в соответствии c MRO (начиная с object), и для каждого найденного dataclass добавляются поля из этого базового класса в упорядоченное отображение полей. После добавления всех полей базовых классов добавляются собственные поля в это упорядоченное отображение. Все сгенерированные методы будут использовать это объединенное упорядоченное отображение полей. Поскольку поля упорядочены в порядке добавления, классы-наследники переопределяют поля базовых классов. \n",
    "\n",
    "В качестве примера мы сформируем базовый класс с именем Goods для представления различных товаров:\n",
    "```Py\n",
    "from dataclasses import dataclass, field, InitVar\n",
    "from typing import Any\n",
    " \n",
    " \n",
    "@dataclass\n",
    "class Goods:\n",
    "    uid: Any\n",
    "    price: Any = None\n",
    "    weight: Any = None\n",
    "```\n",
    "А ниже, на его основе объявим дочерний класс Book для описания книг:\n",
    "```Py\n",
    "@dataclass\n",
    "class Book(Goods):\n",
    "    title: str = \"\"\n",
    "    author: str = \"\"\n",
    "    price: float = 0\n",
    "    weight: int | float = 0\n",
    "```"
   ]
  },
  {
   "attachments": {},
   "cell_type": "markdown",
   "metadata": {},
   "source": [
    "Здесь в дочернем классе повторяются атрибуты price и weight. Спрашивается, какие инициализаторы в итоге будут формироваться в первом и во втором классах? Для первого базового класса Goods все очевидно. Будет объявлен инициализатор со следующей сигнатурой:\n",
    "```Py\n",
    "def __init__(self, uid: Any, price: Any = None, weight: Any = None):\n",
    "```\n",
    "А в дочернем классе будем иметь такой инициализатор:\n",
    "```Py\n",
    "def __init__(self, uid: Any, price: float = 0, weight: int | float = 0, title: str = \"\", author: str = \"\"):\n",
    "```\n",
    "То есть, уникальные атрибуты добавляются в конец, а переопределенные (по типу данных в аннотации и начальному значению) остаются в своих позициях, но с указанными типами и начальными значениями. Поэтому, если далее мы создадим объект класса Book и выведем его на экран:\n",
    "```Py\n",
    "b = Book(1)\n",
    "print(b)\n",
    "```\n",
    "то увидим строчку:\n",
    "```\n",
    "Book(uid=1, price=0, weight=0, title='', author='')\n",
    "```"
   ]
  },
  {
   "attachments": {},
   "cell_type": "markdown",
   "metadata": {},
   "source": [
    "Или же, можно создать объект, указав весь набор аргументов:\n",
    "```Py\n",
    "b = Book(1, 1000, 100, \"Python ООП\", \"Author\")\n",
    "print(b)\n",
    "```\n",
    "Тогда в консоль будет выведена информация:\n",
    "```Py\n",
    "Book(uid=1, price=1000, weight=100, title='Python ООП', author='Author')\n",
    "```\n",
    "\n",
    "Учитывая порядок атрибутов и параметров в инициализаторах, мы в дочернем классе у всех атрибутов должны указывать начальные значения. Иначе, получим ошибку, что параметры со значениями по умолчанию price и weight идут до обычных позиционных параметров."
   ]
  },
  {
   "cell_type": "code",
   "execution_count": 34,
   "metadata": {},
   "outputs": [
    {
     "name": "stdout",
     "output_type": "stream",
     "text": [
      "Book(uid=1, price=0, weight=0, title='', author='')\n",
      "Book(uid=1, price=1000, weight=100, title='Python ООП', author='Author')\n"
     ]
    }
   ],
   "source": [
    "from dataclasses import dataclass, field, InitVar\n",
    "from typing import Any\n",
    " \n",
    " \n",
    "@dataclass\n",
    "class Goods:\n",
    "    uid: Any\n",
    "    price: Any = None\n",
    "    weight: Any = None\n",
    "\n",
    "@dataclass\n",
    "class Book(Goods):\n",
    "    title: str = \"\"\n",
    "    author: str = \"\"\n",
    "    price: float = 0\n",
    "    weight: int | float = 0\n",
    "\n",
    "b = Book(1)\n",
    "print(b)\n",
    "b2 = Book(1, 1000, 100, \"Python ООП\", \"Author\")\n",
    "print(b2)"
   ]
  },
  {
   "attachments": {},
   "cell_type": "markdown",
   "metadata": {},
   "source": [
    "\n",
    "Обратите внимание, что для формирования локальных атрибутов нам не нужно самим вызывать инициализатор базового класса. Это уже автоматически закладывается при наследовании, когда классы формируются через декоратор dataclass. \n",
    "В общем случае вызывать сгенерированные методы init() от dataclass необязательно, поскольку производный dataclass будет инициализировать все поля любого базового класса, который сам является dataclass.\n",
    "Если бы мы сами формировали цепочку наследования без использования декоратора dataclass (классическим способом), то вызов инициализаторов базовых классов нужно было бы явно указывать."
   ]
  },
  {
   "attachments": {},
   "cell_type": "markdown",
   "metadata": {},
   "source": [
    "## Пользовательские методы в параметре default_factory функции field\n",
    "\n",
    "Давайте еще несколько усложним нашу программу и добавим в дочерний класс Book еще один атрибут measure следующим образом:\n",
    "```Py\n",
    "@dataclass\n",
    "class Book(Goods):\n",
    "    title: str = \"\"\n",
    "    author: str = \"\"\n",
    "    price: float = 0\n",
    "    weight: int | float = 0\n",
    "    measure: list = field(default_factory=GoodsMethodsFactory.get_init_measure)\n",
    " \n",
    "    def __post_init__(self):\n",
    "        super().__post_init__()\n",
    "        print(\"Book: post_init\")\n",
    "```\n",
    "По смыслу это свойство содержит габариты предмета, в данном случае книги. Так как всего габаритных размера три: высота, длина и ширина, то нам бы хотелось сразу сформировать список из трех числовых значений. И пусть эти значения по умолчанию равны нулю. Для этого достаточно передать ссылку на функцию, которая будет возвращать список из трех значений. Эта функция будет вызываться в момент создания объекта класса Book."
   ]
  },
  {
   "attachments": {},
   "cell_type": "markdown",
   "metadata": {},
   "source": [
    "Глядя сейчас на эту строчку, у вас может возникнуть вопрос: почему бы эту функцию (метод) не объявить внутри класса Book, а потом указать в параметре default_factory? Но если мы сейчас попробуем это сделать:\n",
    "```Py\n",
    "measure: list = field(default_factory=Book.get_init_measure)\n",
    "```\n",
    "и определим метод get_init_measure() как статический внутри класса Book:\n",
    "```Py\n",
    "    @staticmethod\n",
    "    def get_init_measure():\n",
    "        return [0, 0, 0]\n",
    "```\n",
    "то получим ошибку, что имя Book не определено. Хороший выход из этой ситуации – это объявить еще один самостоятельный класс, в котором определять методы, используемые в функции field, например, так:\n",
    "```Py\n",
    "class GoodsMethodsFactory:\n",
    "    @staticmethod\n",
    "    def get_init_measure():\n",
    "        return [0, 0, 0]\n",
    "```\n",
    "Тогда никаких ошибок не будет и локальный атрибут measure сформируется с нужными нам начальными значениями:\n",
    "```\n",
    "Book(uid=1, price=1000, weight=100, title='Python ООП', author='Author', measure=[0, 0, 0])\n",
    "```"
   ]
  },
  {
   "cell_type": "code",
   "execution_count": 65,
   "metadata": {},
   "outputs": [
    {
     "name": "stdout",
     "output_type": "stream",
     "text": [
      "Goods: post_init\n",
      "Book: post_init\n",
      "Book(uid=1, price=1000, weight=100, title='Python ООП', author='Author', measure=[0, 0, 0])\n"
     ]
    }
   ],
   "source": [
    "from dataclasses import dataclass, field, InitVar\n",
    "from typing import Any\n",
    " \n",
    "class GoodsMethodsFactory:\n",
    "    @staticmethod\n",
    "    def get_init_measure():\n",
    "        return [0, 0, 0] \n",
    "\n",
    " \n",
    "@dataclass\n",
    "class Goods:\n",
    "    current_uid = 0\n",
    " \n",
    "    uid: int = field(init=False)\n",
    "    price: Any = None\n",
    "    weight: Any = None\n",
    " \n",
    "    def __post_init__(self):\n",
    "        print(\"Goods: post_init\")\n",
    "        Goods.current_uid += 1\n",
    "        self.uid = Goods.current_uid\n",
    "\n",
    "@dataclass\n",
    "class Book(Goods):\n",
    "    title: str = \"\"\n",
    "    author: str = \"\"\n",
    "    price: float = 0\n",
    "    weight: int | float = 0\n",
    "    measure: list = field(default_factory=GoodsMethodsFactory.get_init_measure)\n",
    "\n",
    "    def __post_init__(self):\n",
    "        super().__post_init__()\n",
    "        print(\"Book: post_init\")\n",
    "\n",
    "b = Book(1000, 100, \"Python ООП\", \"Author\")\n",
    "print(b)"
   ]
  },
  {
   "attachments": {},
   "cell_type": "markdown",
   "metadata": {},
   "source": [
    "## Функция make_dataclass\n",
    "\n",
    "Есть еще один способ объявления Data Classes с помощью функции make_dataclass(), которая имеет следующие наборы параметров:\n",
    "```Py\n",
    "dataclasses.make_dataclass(cls_name, fields, *, bases=(), namespace=None, init=True, repr=True, eq=True, order=False, unsafe_hash=False, frozen=False, match_args=True, kw_only=False, slots=False, weakref_slot=False)\n",
    "```\n",
    "Основные из них следующие:\n",
    "```\n",
    "cls_name – название нового класса (в виде строки);\n",
    "fields – поля (локальные атрибуты) объектов класса;\n",
    "\n",
    "bases – список базовых классов;\n",
    "namespace – словарь для определения атрибутов самого класса (например, так можно объявлять методы класса).\n",
    "```\n",
    "Некоторые остальные параметры вам уже известны, они совпадают с параметрами декоратора dataclass.\n",
    "\n",
    "Давайте для примера объявим класс аналогичный следующему:"
   ]
  },
  {
   "attachments": {},
   "cell_type": "markdown",
   "metadata": {},
   "source": [
    "```Py\n",
    "class Car:\n",
    "    def __init__(self, model, max_speed, price):\n",
    "        self.model = model\n",
    "        self.max_speed = max_speed\n",
    "        self.price = price\n",
    " \n",
    "    def get_max_speed(self):\n",
    "        return self.max_speed\n",
    "```\n",
    "С помощью функции make_dataclass() это можно сделать так:\n",
    "```Py\n",
    "CarData = make_dataclass(\"CarData\", [(\"model\", str),\n",
    "                                     \"max_speed\",\n",
    "                                     (\"price\", float, field(default=0))],\n",
    "                         namespace={'get_max_speed': lambda self: self.max_speed})\n",
    "```"
   ]
  },
  {
   "attachments": {},
   "cell_type": "markdown",
   "metadata": {},
   "source": [
    "Если указано только имя, то для типа используется typing.Any."
   ]
  },
  {
   "attachments": {},
   "cell_type": "markdown",
   "metadata": {},
   "source": [
    "Создадим объект этого класса:\n",
    "```Py\n",
    "c = CarData(\"BMW\", 256, 4096)\n",
    "```\n",
    "и выведем его на экран:\n",
    "```Py\n",
    "print(c)\n",
    "print(c.get_max_speed())\n",
    "```\n",
    "Как видите, все отработало как надо.\n",
    "\n",
    "Обычно, функцию make_dataclass() используют, если требуется сформировать класс данных в процессе работы программы. Если же нам нужно обычное объявление (а это наиболее частая ситуация), то гораздо удобнее использовать декоратор dataclass.\n",
    "\n",
    "Вот основные возможности формирования классов данных на языке Python. Более подробную информацию, как всегда, можно посмотреть на странице официальной документации:\n",
    "\n",
    "https://docs.python.org/3/library/dataclasses.html"
   ]
  },
  {
   "cell_type": "code",
   "execution_count": null,
   "metadata": {},
   "outputs": [],
   "source": []
  }
 ],
 "metadata": {
  "kernelspec": {
   "display_name": "Python 3",
   "language": "python",
   "name": "python3"
  },
  "language_info": {
   "codemirror_mode": {
    "name": "ipython",
    "version": 3
   },
   "file_extension": ".py",
   "mimetype": "text/x-python",
   "name": "python",
   "nbconvert_exporter": "python",
   "pygments_lexer": "ipython3",
   "version": "3.11.3"
  },
  "orig_nbformat": 4
 },
 "nbformat": 4,
 "nbformat_minor": 2
}

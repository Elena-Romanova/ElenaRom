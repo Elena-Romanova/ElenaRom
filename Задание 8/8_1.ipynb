{
 "cells": [
  {
   "cell_type": "code",
   "execution_count": 1,
   "metadata": {},
   "outputs": [
    {
     "name": "stdout",
     "output_type": "stream",
     "text": [
      "[3, 19, 9, 10]\n"
     ]
    }
   ],
   "source": [
    "def funcName(list1, list2):\n",
    "    ans1 = list1 & list2\n",
    "    ans2 = list1 ^ list2\n",
    "    ans3 = list1 - list2\n",
    "    ans4 = list2 - list1\n",
    "    \n",
    "    return [len(ans1), len(ans2), len(ans3), len(ans4)]\n",
    "\n",
    "\n",
    "if __name__ == \"__main__\":\n",
    "    list1 = input().split()\n",
    "    list2 = input().split()\n",
    "    list1 = set(list1)\n",
    "    list2 = set(list2)\n",
    "\n",
    "    print(funcName(list1, list2))\n",
    "    funcName(list1, list2)"
   ]
  }
 ],
 "metadata": {
  "kernelspec": {
   "display_name": "Python 3.9.12 ('base')",
   "language": "python",
   "name": "python3"
  },
  "language_info": {
   "codemirror_mode": {
    "name": "ipython",
    "version": 3
   },
   "file_extension": ".py",
   "mimetype": "text/x-python",
   "name": "python",
   "nbconvert_exporter": "python",
   "pygments_lexer": "ipython3",
   "version": "3.9.12"
  },
  "orig_nbformat": 4,
  "vscode": {
   "interpreter": {
    "hash": "c42d99d755d00efaf066b964ceed011a4027ae5af520c8ef8190b9acee3a6094"
   }
  }
 },
 "nbformat": 4,
 "nbformat_minor": 2
}

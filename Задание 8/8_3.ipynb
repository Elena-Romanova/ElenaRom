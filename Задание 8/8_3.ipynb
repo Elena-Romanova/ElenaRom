{
 "cells": [
  {
   "cell_type": "code",
   "execution_count": 1,
   "metadata": {},
   "outputs": [
    {
     "name": "stdout",
     "output_type": "stream",
     "text": [
      "6.0\n"
     ]
    }
   ],
   "source": [
    "import math\n",
    "def func(C, P):\n",
    "\n",
    "    s=0\n",
    "    if P > C:\n",
    "        print('No solution')\n",
    "    else:\n",
    "        rez= (1/ (math.factorial(P))) \n",
    "        for i in range(P+1):\n",
    "            k=(math.factorial(P))/(math.factorial(P-i)*(math.factorial(i)))\n",
    "            j=(-1)** (P + i)\n",
    "            s +=  j * k * (i**C)\n",
    "        rez = rez * s\n",
    "\n",
    "    print(rez)\n",
    "   \n",
    "\n",
    "if __name__==\"__main__\":\n",
    "    c= int(input())\n",
    "    p= int(input())\n",
    "    func(c,p)"
   ]
  }
 ],
 "metadata": {
  "kernelspec": {
   "display_name": "base",
   "language": "python",
   "name": "python3"
  },
  "language_info": {
   "codemirror_mode": {
    "name": "ipython",
    "version": 3
   },
   "file_extension": ".py",
   "mimetype": "text/x-python",
   "name": "python",
   "nbconvert_exporter": "python",
   "pygments_lexer": "ipython3",
   "version": "3.9.12"
  },
  "orig_nbformat": 4,
  "vscode": {
   "interpreter": {
    "hash": "c42d99d755d00efaf066b964ceed011a4027ae5af520c8ef8190b9acee3a6094"
   }
  }
 },
 "nbformat": 4,
 "nbformat_minor": 2
}

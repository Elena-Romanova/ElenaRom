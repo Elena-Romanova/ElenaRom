{
 "cells": [
  {
   "cell_type": "code",
   "execution_count": 2,
   "metadata": {},
   "outputs": [
    {
     "name": "stdout",
     "output_type": "stream",
     "text": [
      "[13, 9, 5, 1]\n",
      "[14, 10, 6, 2]\n",
      "[15, 11, 7, 3]\n",
      "[16, 12, 8, 4]\n",
      "\n"
     ]
    }
   ],
   "source": [
    "def main():\n",
    "    rows, cols = int(input('кол-во строк')), int(input('кол-во столбцов'))\n",
    "    matrix = [[int(input()) for _ in range(cols)] for _ in range(rows)]\n",
    "    \n",
    "\n",
    "    for i in range(len(matrix)):\n",
    "        for j in range(i,len(matrix)):\n",
    "            matrix[i][j], matrix[j][i] = matrix[j][i], matrix[i][j]\n",
    "    for i in range(len(matrix)):\n",
    "            matrix[i].reverse()\n",
    "    for k in range(len(matrix)):\n",
    "        print(matrix[k])\n",
    "    print()\n",
    "\n",
    "if __name__ == '__main__':\n",
    "    main()"
   ]
  }
 ],
 "metadata": {
  "kernelspec": {
   "display_name": "base",
   "language": "python",
   "name": "python3"
  },
  "language_info": {
   "codemirror_mode": {
    "name": "ipython",
    "version": 3
   },
   "file_extension": ".py",
   "mimetype": "text/x-python",
   "name": "python",
   "nbconvert_exporter": "python",
   "pygments_lexer": "ipython3",
   "version": "3.9.12"
  },
  "orig_nbformat": 4,
  "vscode": {
   "interpreter": {
    "hash": "c42d99d755d00efaf066b964ceed011a4027ae5af520c8ef8190b9acee3a6094"
   }
  }
 },
 "nbformat": 4,
 "nbformat_minor": 2
}

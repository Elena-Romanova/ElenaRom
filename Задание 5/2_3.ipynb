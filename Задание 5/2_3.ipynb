{
 "cells": [
  {
   "cell_type": "code",
   "execution_count": 6,
   "metadata": {},
   "outputs": [
    {
     "name": "stdout",
     "output_type": "stream",
     "text": [
      "True\n"
     ]
    }
   ],
   "source": [
    "def main():\n",
    "    def check(s):\n",
    "        brackets_open = ('(', '[', '{')\n",
    "        brackets_closed = (')', ']', '}')\n",
    "        stack = []\n",
    "        for i in s:\n",
    "            if i in brackets_open:\n",
    "                stack.append(i)\n",
    "            if i in brackets_closed:    \n",
    "                if len(stack) == 0:\n",
    "                    return False\n",
    "                else:\n",
    "                    index = brackets_closed.index(i)\n",
    "                    open_bracket = brackets_open[index]\n",
    "                    if stack[-1] == open_bracket:\n",
    "                        stack = stack[:-1]  \n",
    "                    else: \n",
    "                        return False  \n",
    "        return True\n",
    "        \n",
    "    s=input()\n",
    "    print (check(s))\n",
    "     \n",
    "\n",
    "if  __name__==\"__main__\":\n",
    "    main()"
   ]
  }
 ],
 "metadata": {
  "kernelspec": {
   "display_name": "Python 3.9.12 ('base')",
   "language": "python",
   "name": "python3"
  },
  "language_info": {
   "codemirror_mode": {
    "name": "ipython",
    "version": 3
   },
   "file_extension": ".py",
   "mimetype": "text/x-python",
   "name": "python",
   "nbconvert_exporter": "python",
   "pygments_lexer": "ipython3",
   "version": "3.9.12"
  },
  "orig_nbformat": 4,
  "vscode": {
   "interpreter": {
    "hash": "c42d99d755d00efaf066b964ceed011a4027ae5af520c8ef8190b9acee3a6094"
   }
  }
 },
 "nbformat": 4,
 "nbformat_minor": 2
}

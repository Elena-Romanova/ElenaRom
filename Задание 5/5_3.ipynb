{
 "cells": [
  {
   "cell_type": "code",
   "execution_count": 24,
   "metadata": {},
   "outputs": [
    {
     "name": "stdout",
     "output_type": "stream",
     "text": [
      "False\n",
      "{[()]}\n"
     ]
    }
   ],
   "source": [
    "def main():\n",
    "    def check(s):\n",
    "        brackets_open = ('(', '[', '{')\n",
    "        brackets_closed = (')', ']', '}')\n",
    "        stack = []\n",
    "        for i in s:\n",
    "            if i in brackets_open:\n",
    "                stack.append(i)\n",
    "            if i in brackets_closed:    \n",
    "                if len(stack) == 0:\n",
    "                    return False\n",
    "                else:\n",
    "                    index = brackets_closed.index(i)\n",
    "                    open_bracket = brackets_open[index]\n",
    "                    if stack[-1] == open_bracket:\n",
    "                        stack = stack[:-1]  \n",
    "                    else: \n",
    "                        return False  \n",
    "        return True\n",
    "        \n",
    "    def check_false(s):\n",
    "        stack = []\n",
    "        is_current_correct = True\n",
    "\n",
    "        maxi = []\n",
    "        promeg = []\n",
    "\n",
    "        for bracket in s:\n",
    "            if bracket in brackets_open:\n",
    "                stack.append(bracket)\n",
    "                is_current_correct = True\n",
    "\n",
    "            if bracket in brackets_closed:\n",
    "                if len(stack) == 0:\n",
    "                    is_current_correct = False\n",
    "                    continue\n",
    "\n",
    "                previous_bracket = stack.pop()\n",
    "                if bracket == '}' and previous_bracket != '{':\n",
    "                    is_current_correct = False\n",
    "                if bracket == ']' and previous_bracket != '[':\n",
    "                    is_current_correct = False\n",
    "                if bracket == ')' and previous_bracket != '(':\n",
    "                    is_current_correct = False\n",
    "\n",
    "\n",
    "            if is_current_correct:\n",
    "                promeg.append(bracket)\n",
    "                if len(promeg) >= len(maxi):\n",
    "                    maxi = promeg\n",
    "            else:\n",
    "                if len(promeg) >= len(maxi):\n",
    "                    maxi = promeg\n",
    "                promeg = []\n",
    "        \n",
    "        return \"\".join(maxi[:-1])\n",
    "    \n",
    "    \n",
    "    \n",
    "    \n",
    "    brackets_open = '{[('\n",
    "    brackets_closed = ']})'\n",
    "    s=input()\n",
    "    if check(s) == False:\n",
    "        print (check(s))\n",
    "        print(check_false(s))\n",
    "    else:\n",
    "        print (check(s))\n",
    "     \n",
    "\n",
    "if  __name__==\"__main__\":\n",
    "    main()"
   ]
  }
 ],
 "metadata": {
  "kernelspec": {
   "display_name": "Python 3.9.12 ('base')",
   "language": "python",
   "name": "python3"
  },
  "language_info": {
   "codemirror_mode": {
    "name": "ipython",
    "version": 3
   },
   "file_extension": ".py",
   "mimetype": "text/x-python",
   "name": "python",
   "nbconvert_exporter": "python",
   "pygments_lexer": "ipython3",
   "version": "3.9.12"
  },
  "orig_nbformat": 4,
  "vscode": {
   "interpreter": {
    "hash": "c42d99d755d00efaf066b964ceed011a4027ae5af520c8ef8190b9acee3a6094"
   }
  }
 },
 "nbformat": 4,
 "nbformat_minor": 2
}

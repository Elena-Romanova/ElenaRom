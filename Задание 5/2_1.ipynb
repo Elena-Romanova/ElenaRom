{
 "cells": [
  {
   "cell_type": "code",
   "execution_count": 1,
   "metadata": {},
   "outputs": [
    {
     "name": "stdout",
     "output_type": "stream",
     "text": [
      "rke\n"
     ]
    }
   ],
   "source": [
    "def main():\n",
    "    def largest_substring(s):\n",
    "        b = 0\n",
    "        for i in range(len(s)):\n",
    "            curr = \"\"\n",
    "            stroka = \"\"\n",
    "            for j in range(i, len(s)):\n",
    "                if s[j] not in curr:\n",
    "                    curr += s[j]\n",
    "                    stroka += s[j]\n",
    "                else:\n",
    "                    if len(stroka)>b:\n",
    "                        b = len(stroka)\n",
    "                        rez = stroka\n",
    "                    break\n",
    "        return rez\n",
    "    s=input()\n",
    "    print(largest_substring(s))\n",
    "if  __name__==\"__main__\":\n",
    "    main()"
   ]
  }
 ],
 "metadata": {
  "kernelspec": {
   "display_name": "Python 3.9.12 ('base')",
   "language": "python",
   "name": "python3"
  },
  "language_info": {
   "codemirror_mode": {
    "name": "ipython",
    "version": 3
   },
   "file_extension": ".py",
   "mimetype": "text/x-python",
   "name": "python",
   "nbconvert_exporter": "python",
   "pygments_lexer": "ipython3",
   "version": "3.9.12"
  },
  "orig_nbformat": 4,
  "vscode": {
   "interpreter": {
    "hash": "c42d99d755d00efaf066b964ceed011a4027ae5af520c8ef8190b9acee3a6094"
   }
  }
 },
 "nbformat": 4,
 "nbformat_minor": 2
}

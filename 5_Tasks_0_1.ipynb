{
 "cells": [
  {
   "attachments": {},
   "cell_type": "markdown",
   "metadata": {},
   "source": [
    "# 1) setattr\n",
    "Объявите класс Book для представления информации о книге. Объекты этого класса должны создаваться командами:\n",
    "```\n",
    "book = Book()\n",
    "book = Book(название, автор, число страниц, год издания)\n",
    "```\n",
    "В каждом объекте класса Book автоматически должны формироваться следующие локальные свойства:\n",
    "\n",
    "title - заголовок книги (строка, по умолчанию пустая строка);\n",
    "author - автор книги (строка, по умолчанию пустая строка);\n",
    "pages - число страниц (целое число, по умолчанию 0);\n",
    "year - год издания (целое число, по умолчанию 0).\n",
    "\n",
    "Объявите в классе Book магический метод __setattr__ для проверки типов присваиваемых данных локальным свойствам title, author, pages и year. Если типы не соответствуют локальному атрибуту (например, title должна ссылаться на строку, а pages - на целое число), то генерировать исключение командой:\n",
    "```\n",
    "raise TypeError(\"Неверный тип присваиваемых данных.\")\n",
    "```\n",
    "Создайте в программе объект book класса Book для книги:\n",
    "\n",
    "автор: JK\n",
    "заголовок: OOP\n",
    "pages: 123\n",
    "year: 2022\n"
   ]
  },
  {
   "cell_type": "code",
   "execution_count": 22,
   "metadata": {},
   "outputs": [
    {
     "name": "stdout",
     "output_type": "stream",
     "text": [
      "{'title': 'OOP', 'author': 'JK', 'pages': 123, 'year': 2022}\n"
     ]
    }
   ],
   "source": [
    "from typing import Any\n",
    "\n",
    "\n",
    "class Book:\n",
    "\n",
    "    def __init__(self, title = '', author = '', pages = 0, year = 0) -> None:\n",
    "        self.title = title\n",
    "        self.author = author\n",
    "        self.pages = pages\n",
    "        self.year = year\n",
    "        \n",
    "    def __setattr__(self, key: str, value: Any) -> None:\n",
    "        if key == 'title' or key == 'author':\n",
    "            if not isinstance(value,str):\n",
    "                raise TypeError(\"Неверный тип присваиваемых данных.\")\n",
    "        else:\n",
    "            if not isinstance(value, int):\n",
    "                raise TypeError(\"Неверный тип присваиваемых данных.\")\n",
    "        object.__setattr__(self, key, value)\n",
    "\n",
    "book = Book('OOP', 'JK', 123, 2022)\n",
    "print(book.__dict__)\n"
   ]
  },
  {
   "attachments": {},
   "cell_type": "markdown",
   "metadata": {},
   "source": [
    "# 2) call\n",
    "Объявите класс RandomPassword для генерации случайных паролей. Объекты этого класса должны создаваться командой:\n",
    "```\n",
    "rnd = RandomPassword(psw_chars, min_length, max_length)\n",
    "```\n",
    "где psw_chars - строка из разрешенных в пароле символов; min_length, max_length - минимальная и максимальная длина генерируемых паролей.\n",
    "\n",
    "Непосредственная генерация одного пароля должна выполняться командой:\n",
    "```\n",
    "psw = rnd()\n",
    "```\n",
    "где psw - ссылка на строку длиной в диапазоне [min_length; max_length] из случайно выбранных символов строки psw_chars.\n",
    "\n",
    "С помощью генератора списка (list comprehension) создайте список lst_pass из трех сгенерированных паролей объектом rnd класса RandomPassword, созданного с параметрами: \n",
    "```\n",
    "min_length = 5\n",
    "max_length = 20\n",
    "psw_chars = \"qwertyuiopasdfghjklzxcvbnm0123456789!@#$%&*\"\n",
    "```"
   ]
  },
  {
   "cell_type": "code",
   "execution_count": 23,
   "metadata": {},
   "outputs": [
    {
     "name": "stdout",
     "output_type": "stream",
     "text": [
      "['k4gt9!5ayxr7hvq#sj0', 'm1#*!$', '@%u$oh*pl']\n"
     ]
    }
   ],
   "source": [
    "import random\n",
    "from typing import Any \n",
    "class RandomPassword:\n",
    "    def __init__(self, psw_chars: str, min_length: int, max_length: int) -> None:\n",
    "        self.psw_chars = psw_chars\n",
    "        self.min_length = min_length\n",
    "        self.max_length = max_length\n",
    "        \n",
    "    def  __call__(self) -> Any:\n",
    "        return ''.join(random.sample(self.psw_chars, random.randint(self.min_length,self.max_length)))\n",
    "\n",
    "rnd = RandomPassword(\"qwertyuiopasdfghjklzxcvbnm0123456789!@#$%&*\", 5, 20)\n",
    "lst_pass = [rnd()  for x in range (3)]\n",
    "print(lst_pass)\n",
    "\n"
   ]
  },
  {
   "attachments": {},
   "cell_type": "markdown",
   "metadata": {},
   "source": [
    "# 3) str\n",
    "Объявите класс с именем Book (книга), объекты которого создаются командой:\n",
    "```\n",
    "book = Book(title, author, pages)\n",
    "```\n",
    "где title - название книги (строка); author - автор книги (строка); pages - число страниц в книге (целое число).\n",
    "\n",
    "Также при выводе информации об объекте на экран командой:\n",
    "```\n",
    "print(book)\n",
    "```\n",
    "должна отображаться строчка в формате:\n",
    "\n",
    "\"Книга: {title}; {author}; {pages}\"\n",
    "\n",
    "Например:\n",
    "\n",
    "\"Книга: Муму; Тургенев; 123\"\n",
    "\n",
    "Прочитайте из входного потока строки с информацией по книге командой: (Входной поток представляем в виде списка сразу)\n",
    "```\n",
    "lst_in = ['Python', 'JK', '1024']\n",
    "#lst_in = list(map(str.strip, sys.stdin.readlines()))\n",
    "```\n",
    "(строки идут в порядке: title, author, pages). Создайте объект класса Book и выведите его строковое представление в консоль."
   ]
  },
  {
   "cell_type": "code",
   "execution_count": 39,
   "metadata": {},
   "outputs": [
    {
     "name": "stdout",
     "output_type": "stream",
     "text": [
      "Книга: Python; JK; 1024\n"
     ]
    }
   ],
   "source": [
    "import sys\n",
    "\n",
    "# здесь пишите программу\n",
    "class Book:\n",
    "    def __init__(self, title: str, author: str, pages: int) -> None:\n",
    "        self.title = title\n",
    "        self.author = author\n",
    "        self.pages = pages\n",
    "\n",
    "    def __str__(self) -> str:\n",
    "        return f\"Книга: {self.title}; {self.author}; {self.pages}\"\n",
    "\n",
    "\n",
    "\n",
    "\n",
    "lst_in = ['Python', 'JK', '1024']\n",
    "# lst_in = list(map(str.strip, sys.stdin.readlines())) # считывание списка из входного потока\n",
    "\n",
    "# и здесь\n",
    "book = Book(lst_in[0], lst_in[1], lst_in[2])\n",
    "print(book)"
   ]
  },
  {
   "attachments": {},
   "cell_type": "markdown",
   "metadata": {},
   "source": [
    "# 4) \n",
    "Объявите класс WordString, объекты которого создаются командами:\n",
    "```\n",
    "w1 = WordString()\n",
    "w2 = WordString(string)\n",
    "```\n",
    "где string - передаваемая строка. Например:\n",
    "```\n",
    "words = WordString(\"Python ООП\")\n",
    "```\n",
    "Реализовать следующий функционал для объектов этого класса:\n",
    "\n",
    "len(words) - должно возвращаться число слов в переданной строке (слова разделяются одним или несколькими пробелами);\n",
    "words(indx) - должно возвращаться слово по его индексу (indx - порядковый номер слова в строке, начиная с 0).\n",
    "\n",
    "Также в классе WordString реализовать объект-свойство (property):\n",
    "\n",
    "string - для передачи и считывания строки.\n",
    "\n",
    "Пример пользования классом WordString (эти строчки в программе писать не нужно):\n",
    "```\n",
    "words = WordString()\n",
    "words.string = \"Python ООП\"\n",
    "n = len(words)\n",
    "first = \"\" if n == 0 else words(0)\n",
    "print(words.string)\n",
    "print(f\"Число слов: {n}; первое слово: {first}\")\n",
    "```"
   ]
  },
  {
   "cell_type": "code",
   "execution_count": 61,
   "metadata": {},
   "outputs": [
    {
     "name": "stdout",
     "output_type": "stream",
     "text": [
      "['Python', 'ООП']\n",
      "Число слов: 2; первое слово: Python\n"
     ]
    }
   ],
   "source": [
    "class WordString:\n",
    "    def __init__(self, string = '') -> None:\n",
    "        self.string = string\n",
    "        \n",
    "    def __len__(self) -> None:\n",
    "        self.string = list(self.string.split( ))\n",
    "        return len(self.string)\n",
    "    \n",
    "    def __call__(self, item):\n",
    "        return self.string[item]\n",
    "\n",
    "words = WordString()\n",
    "words.string = \"Python ООП\"\n",
    "n = len(words)\n",
    "first = \"\" if n == 0 else words(0)\n",
    "print(words.string)\n",
    "print(f\"Число слов: {n}; первое слово: {first}\")"
   ]
  }
 ],
 "metadata": {
  "kernelspec": {
   "display_name": "base",
   "language": "python",
   "name": "python3"
  },
  "language_info": {
   "codemirror_mode": {
    "name": "ipython",
    "version": 3
   },
   "file_extension": ".py",
   "mimetype": "text/x-python",
   "name": "python",
   "nbconvert_exporter": "python",
   "pygments_lexer": "ipython3",
   "version": "3.9.12"
  },
  "orig_nbformat": 4
 },
 "nbformat": 4,
 "nbformat_minor": 2
}

{
 "cells": [
  {
   "cell_type": "code",
   "execution_count": 13,
   "metadata": {},
   "outputs": [
    {
     "name": "stdout",
     "output_type": "stream",
     "text": [
      "[['qwe', 'ewq'], ['asd', 'dsa'], ['dsas'], ['qwee'], ['zxc', 'cxz'], ['xxz'], ['z'], ['s'], ['qweasdzxc'], ['zzxc']]\n"
     ]
    }
   ],
   "source": [
    "def main():\n",
    "    s=input().split()\n",
    "    l = [\"\".join(sorted(i)) for i in s]\n",
    "    res = []\n",
    "    \n",
    "\n",
    "    while len(s) != 0:\n",
    "        res += [[s[0]]]\n",
    "        delete = [0]\n",
    "        for i in range(1, len(s)):  \n",
    "            if l[i] == l[0]:\n",
    "                res[-1] += [s[i]] \n",
    "                delete += [i]\n",
    "        for i in range(len(delete)): \n",
    "            del s[delete[i] - i]\n",
    "            del l[delete[i] - i]\n",
    "    print(res)\n",
    "\n",
    "\n",
    "if __name__ == \"__main__\":\n",
    "    main()"
   ]
  }
 ],
 "metadata": {
  "kernelspec": {
   "display_name": "base",
   "language": "python",
   "name": "python3"
  },
  "language_info": {
   "codemirror_mode": {
    "name": "ipython",
    "version": 3
   },
   "file_extension": ".py",
   "mimetype": "text/x-python",
   "name": "python",
   "nbconvert_exporter": "python",
   "pygments_lexer": "ipython3",
   "version": "3.9.12"
  },
  "orig_nbformat": 4,
  "vscode": {
   "interpreter": {
    "hash": "c42d99d755d00efaf066b964ceed011a4027ae5af520c8ef8190b9acee3a6094"
   }
  }
 },
 "nbformat": 4,
 "nbformat_minor": 2
}

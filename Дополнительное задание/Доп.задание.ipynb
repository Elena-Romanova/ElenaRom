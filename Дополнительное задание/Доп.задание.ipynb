{
 "cells": [
  {
   "cell_type": "code",
   "execution_count": null,
   "metadata": {},
   "outputs": [
    {
     "ename": "",
     "evalue": "",
     "output_type": "error",
     "traceback": [
      "\u001b[1;31mНе удалось запустить ядро. \n",
      "\u001b[1;31mНе удалось запустить ядро \"base (Python 3.9.12)\". \n",
      "\u001b[1;31mПодробнее см. в <a href='command:jupyter.viewOutput'>журнале Jupyter</a>. Активация base для запуска Jupyter завершилась ошибкой Error: Workspace not trusted"
     ]
    }
   ],
   "source": [
    "def maximumSumD(nMaximum,maximumSum):\n",
    "    nabor=[]\n",
    "    s=0\n",
    "    kol_vo = 0 \n",
    "    \n",
    "    for i in range (1000, nMaximum + 1):\n",
    "        s = str(i)\n",
    "        suma = int(s[0]) + int(s[1]) + int(s[2]) + int(s[3])\n",
    "        if suma <= maximumSum:\n",
    "            nabor.append(i)\n",
    "        \n",
    "    kol_vo = len(nabor)\n",
    "    suma = sum(nabor)\n",
    "    sr_znach = suma/kol_vo\n",
    "    bliz_sr_znach = min(nabor, key=lambda x:abs(x-sr_znach)) # lambda это оператор, который позволяет создать функцию без имени, для разового использования\n",
    "    rez = [kol_vo, bliz_sr_znach, suma]\n",
    "    return rez\n",
    "\n",
    "nMaximum = int(input('Введите максимальное значение в диапозоне'))\n",
    "maximumSum = int(input (\"Введите максимальную сумму цифр\"))\n",
    "\n",
    "print (maximumSumD(nMaximum,maximumSum))"
   ]
  }
 ],
 "metadata": {
  "kernelspec": {
   "display_name": "base",
   "language": "python",
   "name": "python3"
  },
  "language_info": {
   "name": "python",
   "version": "3.9.12 (main, Apr  4 2022, 05:22:27) [MSC v.1916 64 bit (AMD64)]"
  },
  "orig_nbformat": 4,
  "vscode": {
   "interpreter": {
    "hash": "c42d99d755d00efaf066b964ceed011a4027ae5af520c8ef8190b9acee3a6094"
   }
  }
 },
 "nbformat": 4,
 "nbformat_minor": 2
}

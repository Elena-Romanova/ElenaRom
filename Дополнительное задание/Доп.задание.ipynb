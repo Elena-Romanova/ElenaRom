{
 "cells": [
  {
   "attachments": {},
   "cell_type": "markdown",
   "metadata": {},
   "source": [
    "Найти числа, которые больше или равны тысячи, таким образом, что сумма каждых четырех последовательных цифр не может быть больше определенного заданного значения.\n",
    "Объявим функцию maximumSumD(), которая получает nMaximum - максимальное значение исследуемого интервала (диапазон (1000, nMaximum)) и maximumSum - максимальную сумму, которая должна быть меньше или равна каждой из четырех последовательных цифр. Функция выводит список:\n",
    "\n",
    "[(1), (2), (3)]\n",
    "\n",
    "(1) - сумма чисел, которые удовлетворяют вышеприведенному ограничению\n",
    "\n",
    "(2) - ближайшее число к среднему значению результатов, если их несколько, то выбирается наименьшее число.\n",
    "\n",
    "(3) - общая сумма всех найденных чисел.\n",
    "\n",
    "EX:\n",
    "\n",
    "maximumSumD(2000, 4) -----> [21, 1120, 23665]\n",
    "\n",
    "maximumSumD(2000, 7) -----> [85, 1200, 99986]\n",
    "\n",
    "maximumSumD(3000, 7) -----> [141, 1600, 220756]"
   ]
  },
  {
   "cell_type": "code",
   "execution_count": 30,
   "metadata": {},
   "outputs": [
    {
     "name": "stdout",
     "output_type": "stream",
     "text": [
      "['2000, 4\\n', '2000, 7\\n', '3000, 7\\n']\n",
      "полученные данные ['2000, 4', '2000, 7', '3000, 7']\n"
     ]
    }
   ],
   "source": [
    "def maximumSumD(nMaximum,maximumSum):\n",
    "    nabor=[]\n",
    "    s=0\n",
    "    kol_vo = 0 \n",
    "    \n",
    "    for i in range (1000, nMaximum + 1):\n",
    "        s = str(i)\n",
    "        suma = int(s[0]) + int(s[1]) + int(s[2]) + int(s[3])\n",
    "        if suma <= maximumSum:\n",
    "            nabor.append(i)\n",
    "        \n",
    "    kol_vo = len(nabor)\n",
    "    suma = sum(nabor)\n",
    "    sr_znach = suma/kol_vo\n",
    "    bliz_sr_znach = min(nabor, key=lambda x:abs(x-sr_znach)) # lambda это оператор, который позволяет создать функцию без имени, для разового использования\n",
    "    rez = [kol_vo, bliz_sr_znach, suma]\n",
    "    return rez\n",
    "\n",
    "\n",
    "def main():\n",
    "    t= open(\"dop_input.txt\", \"r\")\n",
    "    f= open(\"dop_output.txt\", \"w+\")\n",
    "    data = t.readlines()\n",
    "    print(data)\n",
    "\n",
    "    # убираю знаки табуляции, чтобы не мешали\n",
    "    for i in range (len(data)):\n",
    "        if data[i][-1] == '\\n':  \n",
    "            data[i] = data[i][:-1]\n",
    "    print('полученные данные', data)\n",
    "\n",
    "    # превращаю строку значений, в список значений\n",
    "    for i in range (len(data)):\n",
    "        data[i] = data[i].split(', ')\n",
    "\n",
    "    #преобразую элементы из типа string в тип int\n",
    "    for i in data:\n",
    "        i[0]=int(i[0])\n",
    "        i[1]=int(i[1])\n",
    "\n",
    "    \n",
    "    for i in range (len(data)):\n",
    "        rez= maximumSumD(data[i][0],data[i][1])\n",
    "        f.write (f\"{rez}\\n\")\n",
    "\n",
    "    f.close()\n",
    "        \n",
    "\n",
    "if __name__==\"__main__\":\n",
    "    main()         \n",
    "        \n"
   ]
  }
 ],
 "metadata": {
  "kernelspec": {
   "display_name": "base",
   "language": "python",
   "name": "python3"
  },
  "language_info": {
   "codemirror_mode": {
    "name": "ipython",
    "version": 3
   },
   "file_extension": ".py",
   "mimetype": "text/x-python",
   "name": "python",
   "nbconvert_exporter": "python",
   "pygments_lexer": "ipython3",
   "version": "3.9.12"
  },
  "orig_nbformat": 4,
  "vscode": {
   "interpreter": {
    "hash": "c42d99d755d00efaf066b964ceed011a4027ae5af520c8ef8190b9acee3a6094"
   }
  }
 },
 "nbformat": 4,
 "nbformat_minor": 2
}
